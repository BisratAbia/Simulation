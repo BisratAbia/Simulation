{
 "cells": [
  {
   "cell_type": "code",
   "execution_count": 1,
   "metadata": {},
   "outputs": [],
   "source": [
    "import numpy as np\n",
    "import pandas as pd\n",
    "import seaborn as sns\n",
    "sns.set(style=\"ticks\", color_codes=True)\n",
    "import matplotlib.pyplot as plt\n",
    "plt.style.use('classic')\n",
    "%matplotlib inline\n",
    "import os\n",
    "import glob\n",
    "# path of the data\n",
    "path = r'C:/Users/pmbw/Development/datasets/velocities_current600' \n",
    "#Smoothing function\n",
    "from scipy.ndimage.filters import gaussian_filter1d"
   ]
  },
  {
   "cell_type": "code",
   "execution_count": 2,
   "metadata": {},
   "outputs": [],
   "source": [
    "#!pip install chart_studio"
   ]
  },
  {
   "cell_type": "code",
   "execution_count": 3,
   "metadata": {},
   "outputs": [],
   "source": [
    "#import chart_studio.plotly as py\n"
   ]
  },
  {
   "cell_type": "markdown",
   "metadata": {},
   "source": [
    "# Import Data"
   ]
  },
  {
   "cell_type": "markdown",
   "metadata": {},
   "source": [
    "## Velocities average for DNS datasets"
   ]
  },
  {
   "cell_type": "code",
   "execution_count": 4,
   "metadata": {},
   "outputs": [],
   "source": [
    "#Velocities average for DNS datasets\n",
    "all_velocities =  glob.glob(path + \"/vel*.dat\")\n",
    "#os.path.join(path, \"*.csv\")\n",
    "velocity_lists = []\n",
    "#iterate through velocities and collate as one file\n",
    "for velocities in all_velocities:\n",
    "    velocities_df = pd.read_csv(velocities, index_col=None, header=None,delim_whitespace=True)\n",
    "    velocity_lists.append(velocities_df)\n",
    "#concatenate and average for each points ie distance from the wall    \n",
    "df_avg = pd.concat([each.stack() for each in velocity_lists],axis=1)\\\n",
    "             .apply(lambda x:x.mean(),axis=1)\\\n",
    "             .unstack()\n",
    "#name the columns as follow\n",
    "df_avg.columns = ['distance_from_wall', 'x_velocity','y_velocity','z_velocity']\n",
    "#Normalise data and add additional variables \n",
    "df_avg['dist_norm'] = ((0.4992-df_avg.distance_from_wall))*2 \n",
    "#df_avg.to_csv('./datasets/velocities/hendek.csv')"
   ]
  },
  {
   "cell_type": "markdown",
   "metadata": {},
   "source": [
    "# RMS datasets"
   ]
  },
  {
   "cell_type": "code",
   "execution_count": 5,
   "metadata": {},
   "outputs": [],
   "source": [
    "all_rms =  glob.glob(path + \"/rms*.dat\")\n",
    "rms_lists = []\n",
    "#iterate through velocities and collate as one file\n",
    "for rms in all_rms:\n",
    "    rms_df = pd.read_csv(rms, index_col=None, header=None,delim_whitespace=True)\n",
    "    rms_lists.append(rms_df)\n",
    "#concatenate and average for each points ie distance from the wall    \n",
    "dfrms_avg = pd.concat([each.stack() for each in rms_lists],axis=1)\\\n",
    "             .apply(lambda x:x.mean(),axis=1)\\\n",
    "             .unstack()\n",
    "#name the columns as follow\n",
    "dfrms_avg.columns = ['distance_from_wall', 'x_velocity','y_velocity','z_velocity','shear_stress']\n",
    "#Normalise data and add additional variables \n",
    "dfrms_avg['dist_norm'] = ((0.4992-dfrms_avg.distance_from_wall))*2 \n",
    "#dfrms_avg['uzur'] = dfrms_avg.men**2\n"
   ]
  },
  {
   "cell_type": "code",
   "execution_count": 6,
   "metadata": {},
   "outputs": [
    {
     "data": {
      "text/html": [
       "<div>\n",
       "<style scoped>\n",
       "    .dataframe tbody tr th:only-of-type {\n",
       "        vertical-align: middle;\n",
       "    }\n",
       "\n",
       "    .dataframe tbody tr th {\n",
       "        vertical-align: top;\n",
       "    }\n",
       "\n",
       "    .dataframe thead th {\n",
       "        text-align: right;\n",
       "    }\n",
       "</style>\n",
       "<table border=\"1\" class=\"dataframe\">\n",
       "  <thead>\n",
       "    <tr style=\"text-align: right;\">\n",
       "      <th></th>\n",
       "      <th>distance_from_wall</th>\n",
       "      <th>x_velocity</th>\n",
       "      <th>y_velocity</th>\n",
       "      <th>z_velocity</th>\n",
       "      <th>dist_norm</th>\n",
       "    </tr>\n",
       "  </thead>\n",
       "  <tbody>\n",
       "    <tr>\n",
       "      <td>246</td>\n",
       "      <td>0.37250</td>\n",
       "      <td>9.186396e-04</td>\n",
       "      <td>-0.000111</td>\n",
       "      <td>1.031374</td>\n",
       "      <td>0.2534</td>\n",
       "    </tr>\n",
       "    <tr>\n",
       "      <td>247</td>\n",
       "      <td>0.37375</td>\n",
       "      <td>-3.211486e-04</td>\n",
       "      <td>-0.000240</td>\n",
       "      <td>1.024888</td>\n",
       "      <td>0.2509</td>\n",
       "    </tr>\n",
       "    <tr>\n",
       "      <td>248</td>\n",
       "      <td>0.37500</td>\n",
       "      <td>-2.872881e-04</td>\n",
       "      <td>-0.000100</td>\n",
       "      <td>1.024334</td>\n",
       "      <td>0.2484</td>\n",
       "    </tr>\n",
       "    <tr>\n",
       "      <td>249</td>\n",
       "      <td>0.37625</td>\n",
       "      <td>-2.141287e-04</td>\n",
       "      <td>-0.000040</td>\n",
       "      <td>1.022114</td>\n",
       "      <td>0.2459</td>\n",
       "    </tr>\n",
       "    <tr>\n",
       "      <td>250</td>\n",
       "      <td>0.37750</td>\n",
       "      <td>-1.053386e-03</td>\n",
       "      <td>-0.000042</td>\n",
       "      <td>1.017745</td>\n",
       "      <td>0.2434</td>\n",
       "    </tr>\n",
       "    <tr>\n",
       "      <td>...</td>\n",
       "      <td>...</td>\n",
       "      <td>...</td>\n",
       "      <td>...</td>\n",
       "      <td>...</td>\n",
       "      <td>...</td>\n",
       "    </tr>\n",
       "    <tr>\n",
       "      <td>341</td>\n",
       "      <td>0.49375</td>\n",
       "      <td>-1.681074e-05</td>\n",
       "      <td>0.000160</td>\n",
       "      <td>0.223118</td>\n",
       "      <td>0.0109</td>\n",
       "    </tr>\n",
       "    <tr>\n",
       "      <td>342</td>\n",
       "      <td>0.49500</td>\n",
       "      <td>1.541977e-05</td>\n",
       "      <td>-0.000324</td>\n",
       "      <td>0.204655</td>\n",
       "      <td>0.0084</td>\n",
       "    </tr>\n",
       "    <tr>\n",
       "      <td>343</td>\n",
       "      <td>0.49750</td>\n",
       "      <td>4.925469e-07</td>\n",
       "      <td>-0.000039</td>\n",
       "      <td>0.067596</td>\n",
       "      <td>0.0034</td>\n",
       "    </tr>\n",
       "    <tr>\n",
       "      <td>344</td>\n",
       "      <td>0.49875</td>\n",
       "      <td>0.000000e+00</td>\n",
       "      <td>0.000000</td>\n",
       "      <td>0.000000</td>\n",
       "      <td>0.0009</td>\n",
       "    </tr>\n",
       "    <tr>\n",
       "      <td>345</td>\n",
       "      <td>0.50000</td>\n",
       "      <td>0.000000e+00</td>\n",
       "      <td>0.000000</td>\n",
       "      <td>0.000000</td>\n",
       "      <td>-0.0016</td>\n",
       "    </tr>\n",
       "  </tbody>\n",
       "</table>\n",
       "<p>100 rows × 5 columns</p>\n",
       "</div>"
      ],
      "text/plain": [
       "     distance_from_wall    x_velocity  y_velocity  z_velocity  dist_norm\n",
       "246             0.37250  9.186396e-04   -0.000111    1.031374     0.2534\n",
       "247             0.37375 -3.211486e-04   -0.000240    1.024888     0.2509\n",
       "248             0.37500 -2.872881e-04   -0.000100    1.024334     0.2484\n",
       "249             0.37625 -2.141287e-04   -0.000040    1.022114     0.2459\n",
       "250             0.37750 -1.053386e-03   -0.000042    1.017745     0.2434\n",
       "..                  ...           ...         ...         ...        ...\n",
       "341             0.49375 -1.681074e-05    0.000160    0.223118     0.0109\n",
       "342             0.49500  1.541977e-05   -0.000324    0.204655     0.0084\n",
       "343             0.49750  4.925469e-07   -0.000039    0.067596     0.0034\n",
       "344             0.49875  0.000000e+00    0.000000    0.000000     0.0009\n",
       "345             0.50000  0.000000e+00    0.000000    0.000000    -0.0016\n",
       "\n",
       "[100 rows x 5 columns]"
      ]
     },
     "execution_count": 6,
     "metadata": {},
     "output_type": "execute_result"
    }
   ],
   "source": [
    "df_avg.tail(100)"
   ]
  },
  {
   "cell_type": "code",
   "execution_count": 7,
   "metadata": {},
   "outputs": [
    {
     "data": {
      "text/html": [
       "<div>\n",
       "<style scoped>\n",
       "    .dataframe tbody tr th:only-of-type {\n",
       "        vertical-align: middle;\n",
       "    }\n",
       "\n",
       "    .dataframe tbody tr th {\n",
       "        vertical-align: top;\n",
       "    }\n",
       "\n",
       "    .dataframe thead th {\n",
       "        text-align: right;\n",
       "    }\n",
       "</style>\n",
       "<table border=\"1\" class=\"dataframe\">\n",
       "  <thead>\n",
       "    <tr style=\"text-align: right;\">\n",
       "      <th></th>\n",
       "      <th>distance_from_wall</th>\n",
       "      <th>x_velocity</th>\n",
       "      <th>y_velocity</th>\n",
       "      <th>z_velocity</th>\n",
       "      <th>shear_stress</th>\n",
       "      <th>dist_norm</th>\n",
       "    </tr>\n",
       "  </thead>\n",
       "  <tbody>\n",
       "    <tr>\n",
       "      <td>0</td>\n",
       "      <td>0.00000</td>\n",
       "      <td>0.041569</td>\n",
       "      <td>0.043261</td>\n",
       "      <td>0.049835</td>\n",
       "      <td>0.000077</td>\n",
       "      <td>0.9984</td>\n",
       "    </tr>\n",
       "    <tr>\n",
       "      <td>1</td>\n",
       "      <td>0.00375</td>\n",
       "      <td>0.042475</td>\n",
       "      <td>0.042479</td>\n",
       "      <td>0.049859</td>\n",
       "      <td>0.000045</td>\n",
       "      <td>0.9909</td>\n",
       "    </tr>\n",
       "    <tr>\n",
       "      <td>2</td>\n",
       "      <td>0.00500</td>\n",
       "      <td>0.042461</td>\n",
       "      <td>0.042465</td>\n",
       "      <td>0.049881</td>\n",
       "      <td>0.000063</td>\n",
       "      <td>0.9884</td>\n",
       "    </tr>\n",
       "    <tr>\n",
       "      <td>3</td>\n",
       "      <td>0.01250</td>\n",
       "      <td>0.042497</td>\n",
       "      <td>0.042530</td>\n",
       "      <td>0.050017</td>\n",
       "      <td>0.000099</td>\n",
       "      <td>0.9734</td>\n",
       "    </tr>\n",
       "    <tr>\n",
       "      <td>4</td>\n",
       "      <td>0.01750</td>\n",
       "      <td>0.042543</td>\n",
       "      <td>0.042541</td>\n",
       "      <td>0.050174</td>\n",
       "      <td>0.000133</td>\n",
       "      <td>0.9634</td>\n",
       "    </tr>\n",
       "  </tbody>\n",
       "</table>\n",
       "</div>"
      ],
      "text/plain": [
       "   distance_from_wall  x_velocity  y_velocity  z_velocity  shear_stress  \\\n",
       "0             0.00000    0.041569    0.043261    0.049835      0.000077   \n",
       "1             0.00375    0.042475    0.042479    0.049859      0.000045   \n",
       "2             0.00500    0.042461    0.042465    0.049881      0.000063   \n",
       "3             0.01250    0.042497    0.042530    0.050017      0.000099   \n",
       "4             0.01750    0.042543    0.042541    0.050174      0.000133   \n",
       "\n",
       "   dist_norm  \n",
       "0     0.9984  \n",
       "1     0.9909  \n",
       "2     0.9884  \n",
       "3     0.9734  \n",
       "4     0.9634  "
      ]
     },
     "execution_count": 7,
     "metadata": {},
     "output_type": "execute_result"
    }
   ],
   "source": [
    "dfrms_avg.head()"
   ]
  },
  {
   "cell_type": "markdown",
   "metadata": {},
   "source": [
    "# Previous DNS datasets"
   ]
  },
  {
   "cell_type": "code",
   "execution_count": 8,
   "metadata": {},
   "outputs": [
    {
     "name": "stderr",
     "output_type": "stream",
     "text": [
      "C:\\Users\\pmbw\\AppData\\Local\\Continuum\\anaconda3\\lib\\site-packages\\pandas\\core\\series.py:853: RuntimeWarning: invalid value encountered in sqrt\n",
      "  result = getattr(ufunc, method)(*inputs, **kwargs)\n"
     ]
    }
   ],
   "source": [
    "df = pd.read_csv('C://Leeds/Datasets_El_Khoury/Re361/360_Re_1.dat',\n",
    "          skiprows=24, header=None, sep='\\s\\s+', engine='python') \n",
    "df.columns = ['OneMin_r', 'OneMin_rPlus1','UzPlus1','UzByUb1', 'Ur_rmsPlus1','Ut_rmsPlus1','Uz_rmsPlus1', 'UzUrPlus1','dUzdrPlus1']\n",
    "df['OneMin_rPlus'] =df.OneMin_rPlus1/3.6121788913802544E+02\n",
    "df['UzPlus'] = df.UzPlus1*6.1746647715901784E-02\n",
    "df['Uz_rmsPlus'] = df.Uz_rmsPlus1*6.1746647715901784E-02\n",
    "\n",
    "df['Ur_rmsPlus'] = df.Ur_rmsPlus1*6.1746647715901784E-02\n",
    "df['Ut_rmsPlus'] = df.Ut_rmsPlus1*6.1746647715901784E-02\n",
    "#Waring invalid value for last row - it's small number when square root taken it invokes runtime error\n",
    "df['UzUrPlus'] = np.sqrt(df.UzUrPlus1)*6.1746647715901784E-02"
   ]
  },
  {
   "cell_type": "code",
   "execution_count": null,
   "metadata": {},
   "outputs": [],
   "source": []
  },
  {
   "cell_type": "markdown",
   "metadata": {},
   "source": [
    "# Mean axial velocity $U_z^+$"
   ]
  },
  {
   "cell_type": "code",
   "execution_count": 9,
   "metadata": {},
   "outputs": [],
   "source": [
    "# ax = sns.lineplot(x=\"yp\", y=\"u\", data=df_avg)\n",
    "# #ax = sns.lineplot(x=\"OneMin_rPlus\", y=\"UzPlus\", data=df)\n",
    "# ax.set_xscale('log')\n",
    "#plt.plot(df.OneMin_rPlus,df.UzPlus, color ='blue')"
   ]
  },
  {
   "cell_type": "code",
   "execution_count": 10,
   "metadata": {},
   "outputs": [],
   "source": [
    "# character description\n",
    "\n",
    "# '-'       solid line style # '--'      dashed line style # '-.'      dash-dot line style\n",
    "# ':'       dotted line style # '.'       point marker # ','       pixel marker\n",
    "# 'o'       circle marker # 'v'       triangle_down marker # '^'       triangle_up marker\n",
    "# '<'       triangle_left marker # '>'       triangle_right marker # '1'       tri_down marker\n",
    "# '2'       tri_up marker # '3'       tri_left marker # '4'       tri_right marker\n",
    "# 's'       square marker # 'p'       pentagon marker # '*'       star marker\n",
    "# 'h'       hexagon1 marker # 'H'       hexagon2 marker # '+'       plus marker\n",
    "# 'x'       x marker # 'D'       diamond marker # 'd'       thin_diamond marker\n",
    "# '|'       vline marker # '_'       hline marker"
   ]
  },
  {
   "cell_type": "code",
   "execution_count": 11,
   "metadata": {},
   "outputs": [],
   "source": [
    "# dd = pd.read_csv(r'C:/Users/pmbw/Development/datasets/Dataset 0.csv',\n",
    "#            header=None, engine='python') \n",
    "\n",
    "# dd.columns = ['OneMin_rPlus', 'UzPlus']"
   ]
  },
  {
   "cell_type": "code",
   "execution_count": 12,
   "metadata": {},
   "outputs": [
    {
     "data": {
      "text/plain": [
       "Index(['OneMin_r', 'OneMin_rPlus1', 'UzPlus1', 'UzByUb1', 'Ur_rmsPlus1',\n",
       "       'Ut_rmsPlus1', 'Uz_rmsPlus1', 'UzUrPlus1', 'dUzdrPlus1', 'OneMin_rPlus',\n",
       "       'UzPlus', 'Uz_rmsPlus', 'Ur_rmsPlus', 'Ut_rmsPlus', 'UzUrPlus'],\n",
       "      dtype='object')"
      ]
     },
     "execution_count": 12,
     "metadata": {},
     "output_type": "execute_result"
    }
   ],
   "source": [
    "df.columns"
   ]
  },
  {
   "cell_type": "code",
   "execution_count": 15,
   "metadata": {},
   "outputs": [
    {
     "data": {
      "image/png": "[encoded data removed]",
      "text/plain": [
       "<Figure size 432x288 with 1 Axes>"
      ]
     },
     "metadata": {
      "needs_background": "light"
     },
     "output_type": "display_data"
    }
   ],
   "source": [
    "ax = plt.gca()\n",
    "# Set x logaritmic\n",
    "ax.set_xscale('log')\n",
    "#plt.xlim(0.001,1.1)\n",
    "z_velocity_smoothed = gaussian_filter1d(df_avg.z_velocity, sigma=0.6)\n",
    "plt.plot(df.OneMin_rPlus,df.UzPlus, color ='black', linewidth=2, markersize=12)\n",
    "plt.plot(df_avg.dist_norm,z_velocity_smoothed,'--',color ='black', linewidth=3, markersize=12)\n",
    "plt.ylabel('$U_z^+$')\n",
    "plt.xlabel('$(1-r)^+$')\n",
    "plt.legend(['El Koury','First run'], loc='upper left');"
   ]
  },
  {
   "cell_type": "code",
   "execution_count": 57,
   "metadata": {},
   "outputs": [
    {
     "data": {
      "text/html": [
       "        <script type=\"text/javascript\">\n",
       "        window.PlotlyConfig = {MathJaxConfig: 'local'};\n",
       "        if (window.MathJax) {MathJax.Hub.Config({SVG: {font: \"STIX-Web\"}});}\n",
       "        if (typeof require !== 'undefined') {\n",
       "        require.undef(\"plotly\");\n",
       "        requirejs.config({\n",
       "            paths: {\n",
       "                'plotly': ['https://cdn.plot.ly/plotly-latest.min']\n",
       "            }\n",
       "        });\n",
       "        require(['plotly'], function(Plotly) {\n",
       "            window._Plotly = Plotly;\n",
       "        });\n",
       "        }\n",
       "        </script>\n",
       "        "
      ]
     },
     "metadata": {},
     "output_type": "display_data"
    },
    {
     "data": {
      "application/vnd.plotly.v1+json": {
       "config": {
        "plotlyServerURL": "https://plot.ly"
       },
       "data": [
        {
         "line": {
          "color": "royalblue",
          "dash": "dash",
          "width": 4
         },
         "name": "lines",
         "type": "scatter",
         "x": [
          0.9984,
          0.9909,
          0.9884,
          0.9733999999999999,
          0.9633999999999999,
          0.9483999999999999,
          0.9434,
          0.9283999999999999,
          0.9234,
          0.9183999999999999,
          0.9084,
          0.8983999999999999,
          0.8958999999999999,
          0.8909,
          0.8884,
          0.8808999999999999,
          0.8783999999999998,
          0.8734,
          0.8709,
          0.8659,
          0.8634000000000001,
          0.8583999999999999,
          0.8558999999999999,
          0.8509,
          0.8459,
          0.8433999999999999,
          0.8383999999999999,
          0.8333999999999999,
          0.8308999999999999,
          0.8284,
          0.8259,
          0.8234,
          0.8208999999999999,
          0.8184,
          0.8158999999999998,
          0.8109,
          0.8083999999999998,
          0.8033999999999999,
          0.7983999999999999,
          0.7959,
          0.7909000000000002,
          0.7884,
          0.7858999999999998,
          0.7834000000000001,
          0.7784,
          0.7734000000000001,
          0.7708999999999999,
          0.7683999999999997,
          0.7659,
          0.7609000000000001,
          0.7583999999999997,
          0.7533999999999998,
          0.7509000000000001,
          0.7484,
          0.7458999999999998,
          0.7434000000000001,
          0.7408999999999999,
          0.7384000000000002,
          0.7358999999999999,
          0.7334,
          0.7284000000000002,
          0.7258999999999999,
          0.7233999999999998,
          0.7209000000000001,
          0.7183999999999999,
          0.7159,
          0.7133999999999998,
          0.7109000000000001,
          0.7084000000000001,
          0.7058999999999997,
          0.7009,
          0.6983999999999999,
          0.6958999999999997,
          0.6934,
          0.6884,
          0.6859,
          0.6833999999999999,
          0.6808999999999998,
          0.6759000000000002,
          0.6734,
          0.6708999999999998,
          0.6683999999999999,
          0.6659000000000002,
          0.6633999999999998,
          0.6608999999999998,
          0.6584000000000001,
          0.6558999999999999,
          0.6534,
          0.6508999999999998,
          0.6484000000000001,
          0.6459000000000001,
          0.6433999999999997,
          0.6409,
          0.6384000000000001,
          0.6333999999999997,
          0.6309000000000001,
          0.6284000000000002,
          0.6258999999999999,
          0.6234,
          0.6209,
          0.6183999999999997,
          0.6158999999999998,
          0.6134000000000002,
          0.6109000000000001,
          0.6083999999999998,
          0.6058999999999999,
          0.6034000000000002,
          0.6008999999999997,
          0.5983999999999998,
          0.5959000000000001,
          0.5934000000000001,
          0.5908999999999998,
          0.5883999999999998,
          0.5859000000000002,
          0.5834000000000004,
          0.5808999999999997,
          0.5784,
          0.5759000000000001,
          0.5733999999999997,
          0.5708999999999997,
          0.5684000000000001,
          0.5659000000000003,
          0.5633999999999999,
          0.5609,
          0.5584,
          0.5558999999999996,
          0.5533999999999998,
          0.5509000000000002,
          0.5484000000000002,
          0.5458999999999998,
          0.5433999999999999,
          0.5409000000000003,
          0.5383999999999995,
          0.5358999999999997,
          0.5334000000000001,
          0.5309000000000001,
          0.5283999999999998,
          0.5258999999999998,
          0.5234000000000002,
          0.5209000000000004,
          0.5183999999999996,
          0.5159,
          0.5134000000000002,
          0.5108999999999997,
          0.5083999999999997,
          0.5059000000000001,
          0.5034000000000003,
          0.5008999999999998,
          0.49839999999999995,
          0.49590000000000034,
          0.4933999999999996,
          0.4908999999999998,
          0.48840000000000006,
          0.4859000000000002,
          0.4833999999999997,
          0.4809,
          0.47840000000000027,
          0.47589999999999955,
          0.4733999999999998,
          0.4709,
          0.46840000000000015,
          0.46589999999999976,
          0.4633999999999999,
          0.4609000000000001,
          0.45840000000000036,
          0.45589999999999964,
          0.4533999999999998,
          0.4509000000000002,
          0.4483999999999997,
          0.44589999999999996,
          0.4434000000000001,
          0.4409000000000002,
          0.4383999999999998,
          0.43589999999999995,
          0.4334000000000001,
          0.4308999999999997,
          0.4283999999999998,
          0.42589999999999983,
          0.42340000000000033,
          0.4208999999999997,
          0.4184000000000002,
          0.41590000000000027,
          0.41339999999999955,
          0.41089999999999993,
          0.4084,
          0.40590000000000004,
          0.4034,
          0.4008999999999999,
          0.39839999999999987,
          0.39590000000000036,
          0.39339999999999964,
          0.3908999999999997,
          0.3884000000000002,
          0.3858999999999996,
          0.3834000000000001,
          0.3809000000000001,
          0.37840000000000007,
          0.3758999999999999,
          0.37339999999999995,
          0.3709,
          0.36839999999999984,
          0.3658999999999998,
          0.3633999999999997,
          0.36090000000000033,
          0.3583999999999997,
          0.3559000000000003,
          0.35340000000000027,
          0.35089999999999943,
          0.34840000000000015,
          0.3459,
          0.3433999999999998,
          0.3409000000000001,
          0.3383999999999999,
          0.33589999999999975,
          0.3334000000000005,
          0.33089999999999964,
          0.32839999999999947,
          0.3259000000000002,
          0.3233999999999996,
          0.3209000000000003,
          0.3184000000000001,
          0.31589999999999996,
          0.3134,
          0.31089999999999995,
          0.3083999999999999,
          0.30589999999999995,
          0.3033999999999998,
          0.3008999999999996,
          0.29840000000000033,
          0.2958999999999997,
          0.29340000000000044,
          0.29090000000000027,
          0.28839999999999943,
          0.28590000000000015,
          0.2834,
          0.2808999999999998,
          0.2784000000000001,
          0.2758999999999999,
          0.27339999999999975,
          0.2709000000000005,
          0.26839999999999964,
          0.26589999999999936,
          0.2634000000000003,
          0.2608999999999996,
          0.2584000000000004,
          0.2559000000000001,
          0.25339999999999985,
          0.2509000000000001,
          0.24839999999999995,
          0.24589999999999979,
          0.24340000000000006,
          0.24089999999999978,
          0.2383999999999995,
          0.23590000000000033,
          0.2333999999999996,
          0.23090000000000055,
          0.22840000000000027,
          0.22589999999999943,
          0.22340000000000027,
          0.22089999999999999,
          0.2183999999999997,
          0.2159000000000002,
          0.21339999999999992,
          0.21089999999999964,
          0.20840000000000047,
          0.20589999999999964,
          0.20339999999999936,
          0.2009000000000003,
          0.19839999999999958,
          0.19590000000000052,
          0.19340000000000013,
          0.19089999999999985,
          0.18840000000000023,
          0.18589999999999995,
          0.18339999999999967,
          0.18090000000000006,
          0.17839999999999978,
          0.1758999999999994,
          0.17340000000000044,
          0.1708999999999996,
          0.16840000000000066,
          0.16590000000000027,
          0.16339999999999943,
          0.16090000000000038,
          0.15839999999999999,
          0.1558999999999996,
          0.15340000000000031,
          0.15089999999999992,
          0.14839999999999953,
          0.14590000000000047,
          0.14339999999999964,
          0.14089999999999925,
          0.1384000000000003,
          0.13589999999999947,
          0.13340000000000052,
          0.13090000000000013,
          0.12839999999999974,
          0.12590000000000023,
          0.12339999999999995,
          0.12089999999999967,
          0.11840000000000017,
          0.11589999999999978,
          0.11339999999999939,
          0.11090000000000044,
          0.10839999999999961,
          0.10590000000000077,
          0.10340000000000027,
          0.10089999999999932,
          0.09840000000000049,
          0.09589999999999999,
          0.0933999999999996,
          0.09090000000000031,
          0.08839999999999992,
          0.08589999999999942,
          0.08340000000000058,
          0.08089999999999964,
          0.07839999999999914,
          0.0759000000000003,
          0.07339999999999947,
          0.07090000000000063,
          0.06840000000000013,
          0.06589999999999974,
          0.06340000000000034,
          0.060899999999999954,
          0.05839999999999956,
          0.05590000000000028,
          0.05339999999999978,
          0.05089999999999928,
          0.04840000000000044,
          0.04589999999999961,
          0.04340000000000077,
          0.04090000000000027,
          0.038399999999999324,
          0.03590000000000049,
          0.033399999999999985,
          0.030899999999999483,
          0.028400000000000425,
          0.025899999999999923,
          0.02339999999999942,
          0.01839999999999964,
          0.015899999999999137,
          0.010899999999999466,
          0.00840000000000063,
          0.0033999999999996255,
          0.000900000000000345,
          -0.0016000000000000458
         ],
         "y": [
          1.2669506875000003,
          1.2669122812499998,
          1.2668753125,
          1.2665826562499998,
          1.2662593437499998,
          1.26567534375,
          1.2653569375000002,
          1.2644563124999997,
          1.2640553125000002,
          1.2637459062499998,
          1.26285615625,
          1.2619828125000003,
          1.2616846562499995,
          1.26126678125,
          1.2608033124999998,
          1.260086125,
          1.259800375,
          1.2590815625000003,
          1.258813375,
          1.2579790625,
          1.2578258749999998,
          1.2573074062499998,
          1.2568300937500003,
          1.256335,
          1.2553609687500003,
          1.2553633437499998,
          1.2543590937499998,
          1.2535356875,
          1.25330678125,
          1.2528129375000003,
          1.2525550624999997,
          1.2516349375,
          1.2515290937499999,
          1.2508524375,
          1.250592875,
          1.2495968750000002,
          1.2490387812500001,
          1.24816834375,
          1.24713771875,
          1.2467934375,
          1.24581359375,
          1.2452592812499998,
          1.2448144062499997,
          1.2443553125,
          1.2434214687500003,
          1.2421711875,
          1.2419101562500003,
          1.2410809062500001,
          1.2405187812499998,
          1.23960971875,
          1.2387465312500001,
          1.2379214062500004,
          1.2371489687499997,
          1.23650334375,
          1.236173375,
          1.2353961249999996,
          1.2349104687499999,
          1.2342845937500002,
          1.23373796875,
          1.23323490625,
          1.23188971875,
          1.23116025,
          1.2303056874999998,
          1.2300108124999998,
          1.2293550000000002,
          1.2286050000000002,
          1.2281945624999997,
          1.2275529375,
          1.2265170625000004,
          1.2257193124999997,
          1.2245777500000001,
          1.2240763124999998,
          1.2233789375,
          1.2226563437500002,
          1.22138675,
          1.220630625,
          1.2196599687499998,
          1.2190175312499998,
          1.2175874375,
          1.2172347187499999,
          1.2161595937499998,
          1.2153098125,
          1.2147231875,
          1.21373975,
          1.2132573125000001,
          1.2120793124999998,
          1.211503625,
          1.2105626562499998,
          1.2099380937500002,
          1.2096561875000005,
          1.2079456250000002,
          1.20797640625,
          1.2073993125,
          1.20637665625,
          1.2046785,
          1.2036069999999996,
          1.2023766249999999,
          1.20173121875,
          1.20026596875,
          1.1997355312500002,
          1.1983543125,
          1.1993837812500003,
          1.1974094375000002,
          1.196566375,
          1.1963026874999998,
          1.19458740625,
          1.1940800624999999,
          1.1940236562500002,
          1.1918153749999998,
          1.1920993125,
          1.1899219374999999,
          1.1899809062500002,
          1.1890529062500002,
          1.1881882500000003,
          1.187681875,
          1.1857012187499998,
          1.1858621250000003,
          1.1855138124999998,
          1.18407325,
          1.1815186562499997,
          1.18148671875,
          1.18099525,
          1.17977003125,
          1.1802095937500001,
          1.177928125,
          1.17736440625,
          1.17718996875,
          1.1745197187499998,
          1.1752862499999996,
          1.17418978125,
          1.169028875,
          1.1716648125000002,
          1.1712435312500002,
          1.1697961875,
          1.1658583750000002,
          1.1654481875,
          1.1669682500000003,
          1.16796396875,
          1.1655671875,
          1.1648235624999999,
          1.16055828125,
          1.1617869062500001,
          1.1600437187500001,
          1.15831,
          1.1578808125,
          1.1547662500000002,
          1.1590706874999999,
          1.1530233437500002,
          1.15485490625,
          1.1517813437500004,
          1.1496116250000001,
          1.1492336874999995,
          1.150117125,
          1.14505525,
          1.14557696875,
          1.1462257812499999,
          1.1449675937500001,
          1.1440795937500001,
          1.14403678125,
          1.14183671875,
          1.13955615625,
          1.1379461562500002,
          1.1399651875,
          1.135876875,
          1.1366819999999997,
          1.13615153125,
          1.13304059375,
          1.1352030625,
          1.1324505312499995,
          1.1356598125000001,
          1.1286174374999998,
          1.1238149687499999,
          1.1261595312500003,
          1.12627984375,
          1.1280056875000002,
          1.126495375,
          1.1256270312499999,
          1.1200439062499996,
          1.12431221875,
          1.1212878437500002,
          1.1185075625,
          1.1164267187499999,
          1.1167352187500001,
          1.1156867187500001,
          1.11706478125,
          1.116398625,
          1.11351003125,
          1.1134877187499999,
          1.111851625,
          1.1108563749999998,
          1.1050536562500002,
          1.0998173750000002,
          1.10347496875,
          1.1039145000000001,
          1.1056691875000002,
          1.10180990625,
          1.1022410625,
          1.0954181874999998,
          1.093278375,
          1.09618325,
          1.09032690625,
          1.0900503749999997,
          1.0905115624999997,
          1.0869106249999996,
          1.08813925,
          1.0872011875,
          1.0841605312499998,
          1.0838803124999998,
          1.0834683437499997,
          1.08568884375,
          1.0799234375,
          1.0747346249999998,
          1.0793298125000002,
          1.08019840625,
          1.0764779375,
          1.07773678125,
          1.07334978125,
          1.07444303125,
          1.0726326874999998,
          1.0728027187499996,
          1.0657402500000002,
          1.06445075,
          1.0670363749999998,
          1.0652572812499999,
          1.0635839374999998,
          1.062883,
          1.063122,
          1.0612866562499998,
          1.06214153125,
          1.059679,
          1.05515653125,
          1.0502100625000002,
          1.0538722187500003,
          1.0471240000000002,
          1.0502674687500002,
          1.05074303125,
          1.0495580625000003,
          1.0478423749999999,
          1.0442081250000002,
          1.04118040625,
          1.0371178125000002,
          1.0358141875000002,
          1.0365886875,
          1.037760875,
          1.03695690625,
          1.03365625,
          1.03137434375,
          1.02488809375,
          1.0243339999999999,
          1.0221144062500003,
          1.0177448125,
          1.01968665625,
          1.0196490312500002,
          1.0141288124999999,
          1.0149263124999999,
          1.0168840000000001,
          1.0125469374999998,
          1.0129342187500001,
          1.01163424375,
          1.005471596875,
          1.0051918250000003,
          1.003988003125,
          1.0050478437500001,
          1.004940921875,
          1.00435844375,
          1.001367090625,
          0.9995892718749999,
          0.999384421875,
          0.9880405031250002,
          0.9875376999999999,
          0.9891442625,
          0.98690323125,
          0.987949325,
          0.9827995312500001,
          0.9802017874999999,
          0.9801826124999999,
          0.977294609375,
          0.979810446875,
          0.968025590625,
          0.9656789218749998,
          0.966406815625,
          0.9617055531249998,
          0.9640965218750002,
          0.9573183375,
          0.9586782312500001,
          0.9613786343750002,
          0.956343959375,
          0.9458435406250001,
          0.9445494718749998,
          0.941698040625,
          0.93699014375,
          0.9426306843749999,
          0.9369410781249999,
          0.940867696875,
          0.9259458093749999,
          0.925682771875,
          0.925020171875,
          0.916801334375,
          0.9152262499999999,
          0.9106563312499997,
          0.909764065625,
          0.90782696875,
          0.9070358875000002,
          0.897890971875,
          0.8997769781250001,
          0.89440806875,
          0.8948609375000001,
          0.8901342406249998,
          0.8883853999999999,
          0.8736595812499999,
          0.8675583374999999,
          0.8642136406249997,
          0.8618195718750002,
          0.861668021875,
          0.8552196562499997,
          0.8395736281250001,
          0.8337082625000001,
          0.8289677062499998,
          0.8206220906250001,
          0.819610371875,
          0.815599325,
          0.793582678125,
          0.787277253125,
          0.7735087625000001,
          0.7714612125000001,
          0.759655503125,
          0.7425706968749999,
          0.7270711187500001,
          0.7154482906249998,
          0.6989799749999999,
          0.685419690625,
          0.6717149156249999,
          0.6478157125,
          0.6258607906250001,
          0.608147578125,
          0.5625162656250001,
          0.5409590437500001,
          0.5140801687499998,
          0.490923540625,
          0.39724802499999995,
          0.35892133437500007,
          0.223118325,
          0.20465482812499994,
          0.06759608468749999,
          0,
          0
         ]
        },
        {
         "mode": "lines",
         "name": "lines",
         "type": "scatter",
         "x": [
          1,
          0.9874525113773314,
          0.9750622484193082,
          0.9628272383046493,
          0.9507455329319782,
          0.9388152086096379,
          0.9270343657493959,
          0.9154011285639839,
          0.9039136447684286,
          0.8925700852851245,
          0.8813686439526027,
          0.8703075372379452,
          0.8593850039528068,
          0.8485993049729903,
          0.8379487229615397,
          0.8274315620952971,
          0.8170461477948898,
          0.8067908264580966,
          0.7966639651965562,
          0.7866639515757725,
          0.7767891933583764,
          0.7670381182506072,
          0.7574091736519624,
          0.747900826407989,
          0.7385115625661708,
          0.7292398871348685,
          0.7200843238452843,
          0.7110434149164043,
          0.702115720822885,
          0.6932998200658482,
          0.6845943089465436,
          0.6759978013428469,
          0.6675089284885599,
          0.6591263387554651,
          0.6508486974381195,
          0.6426746865413353,
          0.6346030045703255,
          0.6266323663234746,
          0.6187615026877045,
          0.6109891604364031,
          0.6033141020298776,
          0.5957351054183136,
          0.5882509638471922,
          0.5808604856651496,
          0.5735624941342345,
          0.5663558272425474,
          0.5592393375192185,
          0.5522118918517044,
          0.5452723713053694,
          0.5384196709453257,
          0.5316526996605003,
          0.5249703799899066,
          0.5183716479510849,
          0.5118554528706925,
          0.5054207572172119,
          0.4990665364357521,
          0.49279177878491326,
          0.48659548517569495,
          0.48047666901241903,
          0.4744343560356371,
          0.46846758416700884,
          0.4625754033561145,
          0.4567568754291852,
          0.45101107393972356,
          0.44533708402099115,
          0.4397340022403413,
          0.4342009364553702,
          0.42873700567186757,
          0.42334133990354134,
          0.4180130800334949,
          0.412751377677437,
          0.4075553950485975,
          0.4024243048243324,
          0.39735729001439535,
          0.39235354383085247,
          0.38741226955962366,
          0.3825326804336262,
          0.3777139995075034,
          0.3729554595339168,
          0.3682563028413823,
          0.36361578121363053,
          0.35903315577047296,
          0.35450769685015615,
          0.35003868389318155,
          0.34562540532757513,
          0.3412671584555897,
          0.33696324934181715,
          0.3327129927026986,
          0.3285157117974118,
          0.3243707383201165,
          0.3202774122935456,
          0.3162350819639208,
          0.31224310369717817,
          0.3083008418764866,
          0.3044076688010424,
          0.30056296458612475,
          0.2967661170643952,
          0.29301652168842685,
          0.2893135814344457,
          0.2856567067072697,
          0.28204531524643345,
          0.2784788320334764,
          0.2749566892003874,
          0.271478325939187,
          0.26804318841263286,
          0.26465072966603675,
          0.2613004095401756,
          0.257991694585286,
          0.25472405797612635,
          0.2514969794280937,
          0.24830994511438248,
          0.24516244758417152,
          0.24205398568182443,
          0.2389840644670958,
          0.23595219513632384,
          0.23295789494460142,
          0.2300006871289126,
          0.22708010083221947,
          0.2241956710284917,
          0.22134693844866274,
          0.21853344950750386,
          0.2157547562314026,
          0.21301041618703465,
          0.21029999241091812,
          0.2076230533398391,
          0.20497917274213548,
          0.20236792964983275,
          0.19978890829161391,
          0.1972416980266203,
          0.19472589327906764,
          0.19224109347366847,
          0.1897869029718513,
          0.18736293100876586,
          0.18496879163106392,
          0.18260410363544669,
          0.18026849050796753,
          0.17796158036408347,
          0.17568300588944094,
          0.1734324042813916,
          0.17120941719122554,
          0.16901369066711336,
          0.16684487509774892,
          0.16470262515668355,
          0.1625865997473407,
          0.16049646194870626,
          0.15843187896168323,
          0.15639252205610069,
          0.15437806651837402,
          0.15238819159980155,
          0.15042258046549462,
          0.14848092014392944,
          0.14656290147711507,
          0.14466821907136818,
          0.14279657124868675,
          0.14094765999871642,
          0.1391211909312999,
          0.13731687322960331,
          0.13553441960381094,
          0.1337735462453824,
          0.13203397278186332,
          0.13031542223224368,
          0.12861762096285578,
          0.12694029864380518,
          0.12528318820592832,
          0.12364602579826822,
          0.12202855074606363,
          0.12043050550924338,
          0.11885163564141975,
          0.11729168974937498,
          0.115750419453033,
          0.11422757934591198,
          0.11272292695604999,
          0.11123622270739707,
          0.10976722988166975,
          0.10831571458065939,
          0.10688144568899052,
          0.10546419483732158,
          0.10406373636598353,
          0.1026798472890489,
          0.10131230725882764,
          0.0999608985307825,
          0.09862540592885882,
          0.09730561681122374,
          0.09600132103640835,
          0.0947123109298482,
          0.09343838125081705,
          0.09217932915974725,
          0.09093495418593289,
          0.08970505819561048,
          0.08848944536041148,
          0.0872879221261813,
          0.08610029718216115,
          0.08492638143052711,
          0.08376598795628121,
          0.0826189319974898,
          0.08148503091586579,
          0.08036410416768737,
          0.07925597327505217,
          0.07816046179745895,
          0.07707739530371416,
          0.07600660134415825,
          0.07494790942320793,
          0.07390115097220884,
          0.07286615932259599,
          0.07184276967935578,
          0.07083081909478696,
          0.06983014644255536,
          0.06884059239203898,
          0.06786199938295889,
          0.06689421160029141,
          0.06593707494945922,
          0.06499043703179573,
          0.06405414712027956,
          0.0631280561355354,
          0.06221201662209685,
          0.06130588272492798,
          0.06040951016620033,
          0.05952275622231984,
          0.058645479701202256,
          0.0577775409197918,
          0.056918801681820834,
          0.05606912525580498,
          0.05522837635327293,
          0.05439642110722498,
          0.0535731270508184,
          0.05275836309627578,
          0.05195199951401208,
          0.05115390791197948,
          0.05036396121522392,
          0.049582033645651606,
          0.04880800070200275,
          0.048041739140027406,
          0.04728312695286253,
          0.046532043351605434,
          0.04578836874608116,
          0.04505198472580152,
          0.044322774041110624,
          0.04360062058451652,
          0.04288540937220398,
          0.04217702652572619,
          0.04147535925387292,
          0.04078029583471132,
          0.040091725597797064,
          0.0394095389065534,
          0.038733627140814075,
          0.03806388267952865,
          0.03740019888362633,
          0.036742470079037304,
          0.036090591539865824,
          0.03544445947171637,
          0.034803970995166855,
          0.03416902412938738,
          0.03353951777590314,
          0.0329153517024966,
          0.032296426527248616,
          0.03168264370271401,
          0.031073905500231258,
          0.030470114994360687,
          0.029871176047452926,
          0.02927699329434052,
          0.028687472127154057,
          0.028102518680258037,
          0.027522039815305877,
          0.0269459431064093,
          0.02637413682542256,
          0.025806529927336792,
          0.025243032035783708,
          0.024683553428645696,
          0.02412800502376944,
          0.023576298364782363,
          0.023028345607008498,
          0.022484059503480754,
          0.021943353391049913,
          0.021406141176585566,
          0.020872337323267875,
          0.02034185683696843,
          0.019814615252716997,
          0.019290528621252467,
          0.018769513495656698,
          0.018251486918067435,
          0.017736366406469695,
          0.017224069941562337,
          0.016714515953698883,
          0.016207623309899888,
          0.015703311300934386,
          0.015201499628469062,
          0.01470210839228314,
          0.014205058077546018,
          0.013710269542157259,
          0.013217664004144368,
          0.012727163029119805,
          0.01223868851779164,
          0.011752162693528967,
          0.011267508089977342,
          0.010784647538724877,
          0.010303504157014977,
          0.009824001335504762,
          0.009346062726067195,
          0.008869612229634559,
          0.008394573984081721,
          0.007920872352147112,
          0.007448431909389486,
          0.006977177432178627,
          0.006507033885717828,
          0.0060379264120966605,
          0.005569780318372186,
          0.005102521064675237,
          0.004636074252342914,
          0.004170365612071737,
          0.0037053209920927532,
          0.0032408663463647787,
          0.00277692772278415,
          0.002313431251410148,
          0.0018503031327031796,
          0.0013874696257739625,
          0.000924857036642357,
          0.00046239170650363976,
          0
         ],
         "y": [
          1.2723180003107892,
          1.2722291595226516,
          1.2719663570805737,
          1.271533628871978,
          1.270934966527069,
          1.2701778793176803,
          1.2692743024346493,
          1.2682376287756327,
          1.267079821921097,
          1.2658100790150575,
          1.2644343968715903,
          1.2629561942739764,
          1.2613778571080079,
          1.2597024657871807,
          1.2579342128864894,
          1.2560779041586594,
          1.2541389808982748,
          1.252124128868675,
          1.2500409508635695,
          1.2478969147183625,
          1.2456982426311796,
          1.2434492933019161,
          1.2411527858792153,
          1.2388105452195945,
          1.2364239174064922,
          1.233994372360162,
          1.2315240595660872,
          1.2290159127748816,
          1.226473263407437,
          1.2238992626458005,
          1.221297037785958,
          1.2186698158014708,
          1.2160208221567614,
          1.2133533175437432,
          1.2106706109584318,
          1.2079760221739655,
          1.205272630710951,
          1.2025631317847798,
          1.1998498551725507,
          1.1971348314499481,
          1.1944197823496323,
          1.1917059850450609,
          1.18899423008815,
          1.186285067778791,
          1.1835791301931242,
          1.1808771026370384,
          1.1781796579824602,
          1.175487502989985,
          1.1728013912410433,
          1.1701221149623358,
          1.1674504708555422,
          1.1647872056055935,
          1.1621329509961875,
          1.1594880772102936,
          1.1568526500062317,
          1.1542264994775167,
          1.1516093533353846,
          1.1490009485601131,
          1.146401088698064,
          1.143809655317672,
          1.1412265796471461,
          1.1386518657773674,
          1.1360855794629967,
          1.1335277645510378,
          1.1309784994513696,
          1.1284379526063504,
          1.1259064109666543,
          1.1233842835164383,
          1.1208720097058433,
          1.1183699409555852,
          1.1158782453456861,
          1.1133969373407946,
          1.110925896710227,
          1.1084649372356115,
          1.1060139274087888,
          1.1035728222395962,
          1.1011416682596615,
          1.0987205742379846,
          1.0963097333466272,
          1.0939094195129153,
          1.0915199371390847,
          1.089141546664443,
          1.086774318384765,
          1.0844182738195258,
          1.0820733865318122,
          1.0797395330030048,
          1.077416565647553,
          1.0751043193793783,
          1.0728025959549488,
          1.0705111789201263,
          1.0682298576457732,
          1.0659584347513027,
          1.0636967237124124,
          1.0614445760233115,
          1.0592018971583512,
          1.0569686070348305,
          1.0547446235216753,
          1.0525298560160579,
          1.0503242348205506,
          1.0481276574685572,
          1.045939983554255,
          1.0437610531083428,
          1.041590703918035,
          1.0394287632877348,
          1.037275052780275,
          1.0351293965210466,
          1.032991629458772,
          1.030861597441033,
          1.0287391644285764,
          1.026624215770665,
          1.0245166527378047,
          1.0224164023462254,
          1.0203234133258596,
          1.018237672652178,
          1.0161590182783216,
          1.0140873869220919,
          1.0120227499866534,
          1.0099649759016611,
          1.0079138995981891,
          1.0058693428857977,
          1.003831114203078,
          1.001799011167401,
          0.9997728158220184,
          0.9977522888585492,
          0.9957371803296649,
          0.9937272247938433,
          0.9917221540936937,
          0.989721697678474,
          0.9877255854232552,
          0.9857335446943457,
          0.9837452946857386,
          0.9817605470358808,
          0.9797790090759937,
          0.9778003872649627,
          0.9758243851859434,
          0.9738506993455106,
          0.9718790392956821,
          0.969908995724928,
          0.9679400464894125,
          0.9659718305894126,
          0.9640039687693566,
          0.9620360623498581,
          0.9600677373855547,
          0.958098627457951,
          0.956128356283782,
          0.9541565407886072,
          0.9521827860417179,
          0.9502066865849852,
          0.9482278249760524,
          0.9462457723216733,
          0.9442600867303853,
          0.9422703091241377,
          0.9402759658073413,
          0.9382765658610949,
          0.936271606054443,
          0.9342605768186192,
          0.9322429540512016,
          0.9302181971718657,
          0.9281857556638199,
          0.9261450682663921,
          0.9240955588640121,
          0.9220366371075841,
          0.9199677029554222,
          0.9178881497703785,
          0.9157973631595142,
          0.9136947242446807,
          0.9115796092860435,
          0.9094513926817528,
          0.9073094443376545,
          0.9051531843699206,
          0.9029822033839109,
          0.9007954413845837,
          0.8985921383191118,
          0.8963716428262084,
          0.894133272594498,
          0.8918763336118181,
          0.8896001143014373,
          0.8873039066664312,
          0.8849869871984177,
          0.8826486217362254,
          0.8802880759503137,
          0.8779046024980309,
          0.875497447231728,
          0.8730658434336525,
          0.8706090204351751,
          0.8681261987709331,
          0.8656165906915173,
          0.8630793994272862,
          0.8605138148359552,
          0.8579190185610611,
          0.8552941836745266,
          0.8526384729069423,
          0.8499510369870271,
          0.8472310147911648,
          0.8444775365052438,
          0.8416897242452261,
          0.8388666899328592,
          0.8360075345172928,
          0.8331113474040334,
          0.8301772113421844,
          0.8272042003354413,
          0.8241913792274072,
          0.821137806689513,
          0.8180425335784021,
          0.8149046043059744,
          0.8117230571540847,
          0.8084969246577339,
          0.805225234051651,
          0.8019070077739134,
          0.79854126401952,
          0.7951270173361968,
          0.7916631205071658,
          0.7881487648449431,
          0.7845829312550612,
          0.7809644917874615,
          0.7772923157938729,
          0.773565274215595,
          0.7697822469673484,
          0.7659421160842789,
          0.7620437795444456,
          0.7580861273380053,
          0.7540680392027367,
          0.7499884022325144,
          0.7458460927227052,
          0.7416399762237513,
          0.7373689096750156,
          0.7330317340628697,
          0.7286272846725484,
          0.7241543789590026,
          0.7196118220110347,
          0.7149984072937545,
          0.7103129168108514,
          0.7055541239923626,
          0.7007207957467793,
          0.6958116934221338,
          0.6908255757214082,
          0.6857612008899799,
          0.6806173301839251,
          0.6753927320595349,
          0.6700861820812127,
          0.6646964662711444,
          0.6592223852178098,
          0.653662757662235,
          0.6480164229489374,
          0.6422822436776566,
          0.6364591084795211,
          0.6305459348527995,
          0.6245416720038166,
          0.6184453036477473,
          0.6122558507323483,
          0.6059723740549732,
          0.5995939767496586,
          0.5931198066269616,
          0.5865490583540935,
          0.5798809754674694,
          0.5731148522136249,
          0.5662500352177899,
          0.5592859249823573,
          0.5522219772200067,
          0.5450577676879735,
          0.53779299768572,
          0.5304271424959603,
          0.5229601010405415,
          0.5153918921540243,
          0.5077226334538882,
          0.49995251051795486,
          0.4920817874657158,
          0.4841108354562184,
          0.47604013473218787,
          0.4678702770006611,
          0.459601969506183,
          0.45123604907544995,
          0.4427734931188706,
          0.43421542324034207,
          0.42556310864133323,
          0.41681796628118617,
          0.407981564324269,
          0.39905562496861785,
          0.39004202437437213,
          0.38094279351980304,
          0.3717601137098752,
          0.36249631276331085,
          0.35315386072824273,
          0.3437353642249898,
          0.33424355957039376,
          0.3246813048182968,
          0.31505157083214563,
          0.305357431488342,
          0.2956020530927198,
          0.28578868307723604,
          0.27592063802973216,
          0.26600129109595916,
          0.25603405878043645,
          0.24602238716042363,
          0.2359697375158494,
          0.22587957136682613,
          0.21575533489975135,
          0.2056004427526172,
          0.1954182611200186,
          0.1852120901284345,
          0.17498514542251947,
          0.16474053889336615,
          0.15448103636274818,
          0.14420929684313397,
          0.13392771544593418,
          0.12363852633975948,
          0.11334366867573005,
          0.10304478596673541,
          0.09274329737174224,
          0.08244032823824032,
          0.07213671418114181,
          0.061832985966052335,
          0.05152936680202428,
          0.04122577265596969,
          0.030921815557523796,
          0.02061680989462753,
          0.01030978173173106,
          1.0278727733330024e-15
         ]
        }
       ],
       "layout": {
        "template": {
         "data": {
          "bar": [
           {
            "error_x": {
             "color": "#2a3f5f"
            },
            "error_y": {
             "color": "#2a3f5f"
            },
            "marker": {
             "line": {
              "color": "#E5ECF6",
              "width": 0.5
             }
            },
            "type": "bar"
           }
          ],
          "barpolar": [
           {
            "marker": {
             "line": {
              "color": "#E5ECF6",
              "width": 0.5
             }
            },
            "type": "barpolar"
           }
          ],
          "carpet": [
           {
            "aaxis": {
             "endlinecolor": "#2a3f5f",
             "gridcolor": "white",
             "linecolor": "white",
             "minorgridcolor": "white",
             "startlinecolor": "#2a3f5f"
            },
            "baxis": {
             "endlinecolor": "#2a3f5f",
             "gridcolor": "white",
             "linecolor": "white",
             "minorgridcolor": "white",
             "startlinecolor": "#2a3f5f"
            },
            "type": "carpet"
           }
          ],
          "choropleth": [
           {
            "colorbar": {
             "outlinewidth": 0,
             "ticks": ""
            },
            "type": "choropleth"
           }
          ],
          "contour": [
           {
            "colorbar": {
             "outlinewidth": 0,
             "ticks": ""
            },
            "colorscale": [
             [
              0,
              "#0d0887"
             ],
             [
              0.1111111111111111,
              "#46039f"
             ],
             [
              0.2222222222222222,
              "#7201a8"
             ],
             [
              0.3333333333333333,
              "#9c179e"
             ],
             [
              0.4444444444444444,
              "#bd3786"
             ],
             [
              0.5555555555555556,
              "#d8576b"
             ],
             [
              0.6666666666666666,
              "#ed7953"
             ],
             [
              0.7777777777777778,
              "#fb9f3a"
             ],
             [
              0.8888888888888888,
              "#fdca26"
             ],
             [
              1,
              "#f0f921"
             ]
            ],
            "type": "contour"
           }
          ],
          "contourcarpet": [
           {
            "colorbar": {
             "outlinewidth": 0,
             "ticks": ""
            },
            "type": "contourcarpet"
           }
          ],
          "heatmap": [
           {
            "colorbar": {
             "outlinewidth": 0,
             "ticks": ""
            },
            "colorscale": [
             [
              0,
              "#0d0887"
             ],
             [
              0.1111111111111111,
              "#46039f"
             ],
             [
              0.2222222222222222,
              "#7201a8"
             ],
             [
              0.3333333333333333,
              "#9c179e"
             ],
             [
              0.4444444444444444,
              "#bd3786"
             ],
             [
              0.5555555555555556,
              "#d8576b"
             ],
             [
              0.6666666666666666,
              "#ed7953"
             ],
             [
              0.7777777777777778,
              "#fb9f3a"
             ],
             [
              0.8888888888888888,
              "#fdca26"
             ],
             [
              1,
              "#f0f921"
             ]
            ],
            "type": "heatmap"
           }
          ],
          "heatmapgl": [
           {
            "colorbar": {
             "outlinewidth": 0,
             "ticks": ""
            },
            "colorscale": [
             [
              0,
              "#0d0887"
             ],
             [
              0.1111111111111111,
              "#46039f"
             ],
             [
              0.2222222222222222,
              "#7201a8"
             ],
             [
              0.3333333333333333,
              "#9c179e"
             ],
             [
              0.4444444444444444,
              "#bd3786"
             ],
             [
              0.5555555555555556,
              "#d8576b"
             ],
             [
              0.6666666666666666,
              "#ed7953"
             ],
             [
              0.7777777777777778,
              "#fb9f3a"
             ],
             [
              0.8888888888888888,
              "#fdca26"
             ],
             [
              1,
              "#f0f921"
             ]
            ],
            "type": "heatmapgl"
           }
          ],
          "histogram": [
           {
            "marker": {
             "colorbar": {
              "outlinewidth": 0,
              "ticks": ""
             }
            },
            "type": "histogram"
           }
          ],
          "histogram2d": [
           {
            "colorbar": {
             "outlinewidth": 0,
             "ticks": ""
            },
            "colorscale": [
             [
              0,
              "#0d0887"
             ],
             [
              0.1111111111111111,
              "#46039f"
             ],
             [
              0.2222222222222222,
              "#7201a8"
             ],
             [
              0.3333333333333333,
              "#9c179e"
             ],
             [
              0.4444444444444444,
              "#bd3786"
             ],
             [
              0.5555555555555556,
              "#d8576b"
             ],
             [
              0.6666666666666666,
              "#ed7953"
             ],
             [
              0.7777777777777778,
              "#fb9f3a"
             ],
             [
              0.8888888888888888,
              "#fdca26"
             ],
             [
              1,
              "#f0f921"
             ]
            ],
            "type": "histogram2d"
           }
          ],
          "histogram2dcontour": [
           {
            "colorbar": {
             "outlinewidth": 0,
             "ticks": ""
            },
            "colorscale": [
             [
              0,
              "#0d0887"
             ],
             [
              0.1111111111111111,
              "#46039f"
             ],
             [
              0.2222222222222222,
              "#7201a8"
             ],
             [
              0.3333333333333333,
              "#9c179e"
             ],
             [
              0.4444444444444444,
              "#bd3786"
             ],
             [
              0.5555555555555556,
              "#d8576b"
             ],
             [
              0.6666666666666666,
              "#ed7953"
             ],
             [
              0.7777777777777778,
              "#fb9f3a"
             ],
             [
              0.8888888888888888,
              "#fdca26"
             ],
             [
              1,
              "#f0f921"
             ]
            ],
            "type": "histogram2dcontour"
           }
          ],
          "mesh3d": [
           {
            "colorbar": {
             "outlinewidth": 0,
             "ticks": ""
            },
            "type": "mesh3d"
           }
          ],
          "parcoords": [
           {
            "line": {
             "colorbar": {
              "outlinewidth": 0,
              "ticks": ""
             }
            },
            "type": "parcoords"
           }
          ],
          "pie": [
           {
            "automargin": true,
            "type": "pie"
           }
          ],
          "scatter": [
           {
            "marker": {
             "colorbar": {
              "outlinewidth": 0,
              "ticks": ""
             }
            },
            "type": "scatter"
           }
          ],
          "scatter3d": [
           {
            "line": {
             "colorbar": {
              "outlinewidth": 0,
              "ticks": ""
             }
            },
            "marker": {
             "colorbar": {
              "outlinewidth": 0,
              "ticks": ""
             }
            },
            "type": "scatter3d"
           }
          ],
          "scattercarpet": [
           {
            "marker": {
             "colorbar": {
              "outlinewidth": 0,
              "ticks": ""
             }
            },
            "type": "scattercarpet"
           }
          ],
          "scattergeo": [
           {
            "marker": {
             "colorbar": {
              "outlinewidth": 0,
              "ticks": ""
             }
            },
            "type": "scattergeo"
           }
          ],
          "scattergl": [
           {
            "marker": {
             "colorbar": {
              "outlinewidth": 0,
              "ticks": ""
             }
            },
            "type": "scattergl"
           }
          ],
          "scattermapbox": [
           {
            "marker": {
             "colorbar": {
              "outlinewidth": 0,
              "ticks": ""
             }
            },
            "type": "scattermapbox"
           }
          ],
          "scatterpolar": [
           {
            "marker": {
             "colorbar": {
              "outlinewidth": 0,
              "ticks": ""
             }
            },
            "type": "scatterpolar"
           }
          ],
          "scatterpolargl": [
           {
            "marker": {
             "colorbar": {
              "outlinewidth": 0,
              "ticks": ""
             }
            },
            "type": "scatterpolargl"
           }
          ],
          "scatterternary": [
           {
            "marker": {
             "colorbar": {
              "outlinewidth": 0,
              "ticks": ""
             }
            },
            "type": "scatterternary"
           }
          ],
          "surface": [
           {
            "colorbar": {
             "outlinewidth": 0,
             "ticks": ""
            },
            "colorscale": [
             [
              0,
              "#0d0887"
             ],
             [
              0.1111111111111111,
              "#46039f"
             ],
             [
              0.2222222222222222,
              "#7201a8"
             ],
             [
              0.3333333333333333,
              "#9c179e"
             ],
             [
              0.4444444444444444,
              "#bd3786"
             ],
             [
              0.5555555555555556,
              "#d8576b"
             ],
             [
              0.6666666666666666,
              "#ed7953"
             ],
             [
              0.7777777777777778,
              "#fb9f3a"
             ],
             [
              0.8888888888888888,
              "#fdca26"
             ],
             [
              1,
              "#f0f921"
             ]
            ],
            "type": "surface"
           }
          ],
          "table": [
           {
            "cells": {
             "fill": {
              "color": "#EBF0F8"
             },
             "line": {
              "color": "white"
             }
            },
            "header": {
             "fill": {
              "color": "#C8D4E3"
             },
             "line": {
              "color": "white"
             }
            },
            "type": "table"
           }
          ]
         },
         "layout": {
          "annotationdefaults": {
           "arrowcolor": "#2a3f5f",
           "arrowhead": 0,
           "arrowwidth": 1
          },
          "coloraxis": {
           "colorbar": {
            "outlinewidth": 0,
            "ticks": ""
           }
          },
          "colorscale": {
           "diverging": [
            [
             0,
             "#8e0152"
            ],
            [
             0.1,
             "#c51b7d"
            ],
            [
             0.2,
             "#de77ae"
            ],
            [
             0.3,
             "#f1b6da"
            ],
            [
             0.4,
             "#fde0ef"
            ],
            [
             0.5,
             "#f7f7f7"
            ],
            [
             0.6,
             "#e6f5d0"
            ],
            [
             0.7,
             "#b8e186"
            ],
            [
             0.8,
             "#7fbc41"
            ],
            [
             0.9,
             "#4d9221"
            ],
            [
             1,
             "#276419"
            ]
           ],
           "sequential": [
            [
             0,
             "#0d0887"
            ],
            [
             0.1111111111111111,
             "#46039f"
            ],
            [
             0.2222222222222222,
             "#7201a8"
            ],
            [
             0.3333333333333333,
             "#9c179e"
            ],
            [
             0.4444444444444444,
             "#bd3786"
            ],
            [
             0.5555555555555556,
             "#d8576b"
            ],
            [
             0.6666666666666666,
             "#ed7953"
            ],
            [
             0.7777777777777778,
             "#fb9f3a"
            ],
            [
             0.8888888888888888,
             "#fdca26"
            ],
            [
             1,
             "#f0f921"
            ]
           ],
           "sequentialminus": [
            [
             0,
             "#0d0887"
            ],
            [
             0.1111111111111111,
             "#46039f"
            ],
            [
             0.2222222222222222,
             "#7201a8"
            ],
            [
             0.3333333333333333,
             "#9c179e"
            ],
            [
             0.4444444444444444,
             "#bd3786"
            ],
            [
             0.5555555555555556,
             "#d8576b"
            ],
            [
             0.6666666666666666,
             "#ed7953"
            ],
            [
             0.7777777777777778,
             "#fb9f3a"
            ],
            [
             0.8888888888888888,
             "#fdca26"
            ],
            [
             1,
             "#f0f921"
            ]
           ]
          },
          "colorway": [
           "#636efa",
           "#EF553B",
           "#00cc96",
           "#ab63fa",
           "#FFA15A",
           "#19d3f3",
           "#FF6692",
           "#B6E880",
           "#FF97FF",
           "#FECB52"
          ],
          "font": {
           "color": "#2a3f5f"
          },
          "geo": {
           "bgcolor": "white",
           "lakecolor": "white",
           "landcolor": "#E5ECF6",
           "showlakes": true,
           "showland": true,
           "subunitcolor": "white"
          },
          "hoverlabel": {
           "align": "left"
          },
          "hovermode": "closest",
          "mapbox": {
           "style": "light"
          },
          "paper_bgcolor": "white",
          "plot_bgcolor": "#E5ECF6",
          "polar": {
           "angularaxis": {
            "gridcolor": "white",
            "linecolor": "white",
            "ticks": ""
           },
           "bgcolor": "#E5ECF6",
           "radialaxis": {
            "gridcolor": "white",
            "linecolor": "white",
            "ticks": ""
           }
          },
          "scene": {
           "xaxis": {
            "backgroundcolor": "#E5ECF6",
            "gridcolor": "white",
            "gridwidth": 2,
            "linecolor": "white",
            "showbackground": true,
            "ticks": "",
            "zerolinecolor": "white"
           },
           "yaxis": {
            "backgroundcolor": "#E5ECF6",
            "gridcolor": "white",
            "gridwidth": 2,
            "linecolor": "white",
            "showbackground": true,
            "ticks": "",
            "zerolinecolor": "white"
           },
           "zaxis": {
            "backgroundcolor": "#E5ECF6",
            "gridcolor": "white",
            "gridwidth": 2,
            "linecolor": "white",
            "showbackground": true,
            "ticks": "",
            "zerolinecolor": "white"
           }
          },
          "shapedefaults": {
           "line": {
            "color": "#2a3f5f"
           }
          },
          "ternary": {
           "aaxis": {
            "gridcolor": "white",
            "linecolor": "white",
            "ticks": ""
           },
           "baxis": {
            "gridcolor": "white",
            "linecolor": "white",
            "ticks": ""
           },
           "bgcolor": "#E5ECF6",
           "caxis": {
            "gridcolor": "white",
            "linecolor": "white",
            "ticks": ""
           }
          },
          "title": {
           "x": 0.05
          },
          "xaxis": {
           "automargin": true,
           "gridcolor": "white",
           "linecolor": "white",
           "ticks": "",
           "title": {
            "standoff": 15
           },
           "zerolinecolor": "white",
           "zerolinewidth": 2
          },
          "yaxis": {
           "automargin": true,
           "gridcolor": "white",
           "linecolor": "white",
           "ticks": "",
           "title": {
            "standoff": 15
           },
           "zerolinecolor": "white",
           "zerolinewidth": 2
          }
         }
        }
       }
      },
      "text/html": [
       "<div>\n",
       "        \n",
       "        \n",
       "            <div id=\"d19ce460-d24b-402e-a03e-631f50d5621c\" class=\"plotly-graph-div\" style=\"height:525px; width:100%;\"></div>\n",
       "            <script type=\"text/javascript\">\n",
       "                require([\"plotly\"], function(Plotly) {\n",
       "                    window.PLOTLYENV=window.PLOTLYENV || {};\n",
       "                    \n",
       "                if (document.getElementById(\"d19ce460-d24b-402e-a03e-631f50d5621c\")) {\n",
       "                    Plotly.newPlot(\n",
       "                        'd19ce460-d24b-402e-a03e-631f50d5621c',\n",
       "                        [{\"line\": {\"color\": \"royalblue\", \"dash\": \"dash\", \"width\": 4}, \"name\": \"lines\", \"type\": \"scatter\", \"x\": [0.9984, 0.9909, 0.9884, 0.9733999999999999, 0.9633999999999999, 0.9483999999999999, 0.9434, 0.9283999999999999, 0.9234, 0.9183999999999999, 0.9084, 0.8983999999999999, 0.8958999999999999, 0.8909, 0.8884, 0.8808999999999999, 0.8783999999999998, 0.8734, 0.8709, 0.8659, 0.8634000000000001, 0.8583999999999999, 0.8558999999999999, 0.8509, 0.8459, 0.8433999999999999, 0.8383999999999999, 0.8333999999999999, 0.8308999999999999, 0.8284, 0.8259, 0.8234, 0.8208999999999999, 0.8184, 0.8158999999999998, 0.8109, 0.8083999999999998, 0.8033999999999999, 0.7983999999999999, 0.7959, 0.7909000000000002, 0.7884, 0.7858999999999998, 0.7834000000000001, 0.7784, 0.7734000000000001, 0.7708999999999999, 0.7683999999999997, 0.7659, 0.7609000000000001, 0.7583999999999997, 0.7533999999999998, 0.7509000000000001, 0.7484, 0.7458999999999998, 0.7434000000000001, 0.7408999999999999, 0.7384000000000002, 0.7358999999999999, 0.7334, 0.7284000000000002, 0.7258999999999999, 0.7233999999999998, 0.7209000000000001, 0.7183999999999999, 0.7159, 0.7133999999999998, 0.7109000000000001, 0.7084000000000001, 0.7058999999999997, 0.7009, 0.6983999999999999, 0.6958999999999997, 0.6934, 0.6884, 0.6859, 0.6833999999999999, 0.6808999999999998, 0.6759000000000002, 0.6734, 0.6708999999999998, 0.6683999999999999, 0.6659000000000002, 0.6633999999999998, 0.6608999999999998, 0.6584000000000001, 0.6558999999999999, 0.6534, 0.6508999999999998, 0.6484000000000001, 0.6459000000000001, 0.6433999999999997, 0.6409, 0.6384000000000001, 0.6333999999999997, 0.6309000000000001, 0.6284000000000002, 0.6258999999999999, 0.6234, 0.6209, 0.6183999999999997, 0.6158999999999998, 0.6134000000000002, 0.6109000000000001, 0.6083999999999998, 0.6058999999999999, 0.6034000000000002, 0.6008999999999997, 0.5983999999999998, 0.5959000000000001, 0.5934000000000001, 0.5908999999999998, 0.5883999999999998, 0.5859000000000002, 0.5834000000000004, 0.5808999999999997, 0.5784, 0.5759000000000001, 0.5733999999999997, 0.5708999999999997, 0.5684000000000001, 0.5659000000000003, 0.5633999999999999, 0.5609, 0.5584, 0.5558999999999996, 0.5533999999999998, 0.5509000000000002, 0.5484000000000002, 0.5458999999999998, 0.5433999999999999, 0.5409000000000003, 0.5383999999999995, 0.5358999999999997, 0.5334000000000001, 0.5309000000000001, 0.5283999999999998, 0.5258999999999998, 0.5234000000000002, 0.5209000000000004, 0.5183999999999996, 0.5159, 0.5134000000000002, 0.5108999999999997, 0.5083999999999997, 0.5059000000000001, 0.5034000000000003, 0.5008999999999998, 0.49839999999999995, 0.49590000000000034, 0.4933999999999996, 0.4908999999999998, 0.48840000000000006, 0.4859000000000002, 0.4833999999999997, 0.4809, 0.47840000000000027, 0.47589999999999955, 0.4733999999999998, 0.4709, 0.46840000000000015, 0.46589999999999976, 0.4633999999999999, 0.4609000000000001, 0.45840000000000036, 0.45589999999999964, 0.4533999999999998, 0.4509000000000002, 0.4483999999999997, 0.44589999999999996, 0.4434000000000001, 0.4409000000000002, 0.4383999999999998, 0.43589999999999995, 0.4334000000000001, 0.4308999999999997, 0.4283999999999998, 0.42589999999999983, 0.42340000000000033, 0.4208999999999997, 0.4184000000000002, 0.41590000000000027, 0.41339999999999955, 0.41089999999999993, 0.4084, 0.40590000000000004, 0.4034, 0.4008999999999999, 0.39839999999999987, 0.39590000000000036, 0.39339999999999964, 0.3908999999999997, 0.3884000000000002, 0.3858999999999996, 0.3834000000000001, 0.3809000000000001, 0.37840000000000007, 0.3758999999999999, 0.37339999999999995, 0.3709, 0.36839999999999984, 0.3658999999999998, 0.3633999999999997, 0.36090000000000033, 0.3583999999999997, 0.3559000000000003, 0.35340000000000027, 0.35089999999999943, 0.34840000000000015, 0.3459, 0.3433999999999998, 0.3409000000000001, 0.3383999999999999, 0.33589999999999975, 0.3334000000000005, 0.33089999999999964, 0.32839999999999947, 0.3259000000000002, 0.3233999999999996, 0.3209000000000003, 0.3184000000000001, 0.31589999999999996, 0.3134, 0.31089999999999995, 0.3083999999999999, 0.30589999999999995, 0.3033999999999998, 0.3008999999999996, 0.29840000000000033, 0.2958999999999997, 0.29340000000000044, 0.29090000000000027, 0.28839999999999943, 0.28590000000000015, 0.2834, 0.2808999999999998, 0.2784000000000001, 0.2758999999999999, 0.27339999999999975, 0.2709000000000005, 0.26839999999999964, 0.26589999999999936, 0.2634000000000003, 0.2608999999999996, 0.2584000000000004, 0.2559000000000001, 0.25339999999999985, 0.2509000000000001, 0.24839999999999995, 0.24589999999999979, 0.24340000000000006, 0.24089999999999978, 0.2383999999999995, 0.23590000000000033, 0.2333999999999996, 0.23090000000000055, 0.22840000000000027, 0.22589999999999943, 0.22340000000000027, 0.22089999999999999, 0.2183999999999997, 0.2159000000000002, 0.21339999999999992, 0.21089999999999964, 0.20840000000000047, 0.20589999999999964, 0.20339999999999936, 0.2009000000000003, 0.19839999999999958, 0.19590000000000052, 0.19340000000000013, 0.19089999999999985, 0.18840000000000023, 0.18589999999999995, 0.18339999999999967, 0.18090000000000006, 0.17839999999999978, 0.1758999999999994, 0.17340000000000044, 0.1708999999999996, 0.16840000000000066, 0.16590000000000027, 0.16339999999999943, 0.16090000000000038, 0.15839999999999999, 0.1558999999999996, 0.15340000000000031, 0.15089999999999992, 0.14839999999999953, 0.14590000000000047, 0.14339999999999964, 0.14089999999999925, 0.1384000000000003, 0.13589999999999947, 0.13340000000000052, 0.13090000000000013, 0.12839999999999974, 0.12590000000000023, 0.12339999999999995, 0.12089999999999967, 0.11840000000000017, 0.11589999999999978, 0.11339999999999939, 0.11090000000000044, 0.10839999999999961, 0.10590000000000077, 0.10340000000000027, 0.10089999999999932, 0.09840000000000049, 0.09589999999999999, 0.0933999999999996, 0.09090000000000031, 0.08839999999999992, 0.08589999999999942, 0.08340000000000058, 0.08089999999999964, 0.07839999999999914, 0.0759000000000003, 0.07339999999999947, 0.07090000000000063, 0.06840000000000013, 0.06589999999999974, 0.06340000000000034, 0.060899999999999954, 0.05839999999999956, 0.05590000000000028, 0.05339999999999978, 0.05089999999999928, 0.04840000000000044, 0.04589999999999961, 0.04340000000000077, 0.04090000000000027, 0.038399999999999324, 0.03590000000000049, 0.033399999999999985, 0.030899999999999483, 0.028400000000000425, 0.025899999999999923, 0.02339999999999942, 0.01839999999999964, 0.015899999999999137, 0.010899999999999466, 0.00840000000000063, 0.0033999999999996255, 0.000900000000000345, -0.0016000000000000458], \"y\": [1.2669506875000003, 1.2669122812499998, 1.2668753125, 1.2665826562499998, 1.2662593437499998, 1.26567534375, 1.2653569375000002, 1.2644563124999997, 1.2640553125000002, 1.2637459062499998, 1.26285615625, 1.2619828125000003, 1.2616846562499995, 1.26126678125, 1.2608033124999998, 1.260086125, 1.259800375, 1.2590815625000003, 1.258813375, 1.2579790625, 1.2578258749999998, 1.2573074062499998, 1.2568300937500003, 1.256335, 1.2553609687500003, 1.2553633437499998, 1.2543590937499998, 1.2535356875, 1.25330678125, 1.2528129375000003, 1.2525550624999997, 1.2516349375, 1.2515290937499999, 1.2508524375, 1.250592875, 1.2495968750000002, 1.2490387812500001, 1.24816834375, 1.24713771875, 1.2467934375, 1.24581359375, 1.2452592812499998, 1.2448144062499997, 1.2443553125, 1.2434214687500003, 1.2421711875, 1.2419101562500003, 1.2410809062500001, 1.2405187812499998, 1.23960971875, 1.2387465312500001, 1.2379214062500004, 1.2371489687499997, 1.23650334375, 1.236173375, 1.2353961249999996, 1.2349104687499999, 1.2342845937500002, 1.23373796875, 1.23323490625, 1.23188971875, 1.23116025, 1.2303056874999998, 1.2300108124999998, 1.2293550000000002, 1.2286050000000002, 1.2281945624999997, 1.2275529375, 1.2265170625000004, 1.2257193124999997, 1.2245777500000001, 1.2240763124999998, 1.2233789375, 1.2226563437500002, 1.22138675, 1.220630625, 1.2196599687499998, 1.2190175312499998, 1.2175874375, 1.2172347187499999, 1.2161595937499998, 1.2153098125, 1.2147231875, 1.21373975, 1.2132573125000001, 1.2120793124999998, 1.211503625, 1.2105626562499998, 1.2099380937500002, 1.2096561875000005, 1.2079456250000002, 1.20797640625, 1.2073993125, 1.20637665625, 1.2046785, 1.2036069999999996, 1.2023766249999999, 1.20173121875, 1.20026596875, 1.1997355312500002, 1.1983543125, 1.1993837812500003, 1.1974094375000002, 1.196566375, 1.1963026874999998, 1.19458740625, 1.1940800624999999, 1.1940236562500002, 1.1918153749999998, 1.1920993125, 1.1899219374999999, 1.1899809062500002, 1.1890529062500002, 1.1881882500000003, 1.187681875, 1.1857012187499998, 1.1858621250000003, 1.1855138124999998, 1.18407325, 1.1815186562499997, 1.18148671875, 1.18099525, 1.17977003125, 1.1802095937500001, 1.177928125, 1.17736440625, 1.17718996875, 1.1745197187499998, 1.1752862499999996, 1.17418978125, 1.169028875, 1.1716648125000002, 1.1712435312500002, 1.1697961875, 1.1658583750000002, 1.1654481875, 1.1669682500000003, 1.16796396875, 1.1655671875, 1.1648235624999999, 1.16055828125, 1.1617869062500001, 1.1600437187500001, 1.15831, 1.1578808125, 1.1547662500000002, 1.1590706874999999, 1.1530233437500002, 1.15485490625, 1.1517813437500004, 1.1496116250000001, 1.1492336874999995, 1.150117125, 1.14505525, 1.14557696875, 1.1462257812499999, 1.1449675937500001, 1.1440795937500001, 1.14403678125, 1.14183671875, 1.13955615625, 1.1379461562500002, 1.1399651875, 1.135876875, 1.1366819999999997, 1.13615153125, 1.13304059375, 1.1352030625, 1.1324505312499995, 1.1356598125000001, 1.1286174374999998, 1.1238149687499999, 1.1261595312500003, 1.12627984375, 1.1280056875000002, 1.126495375, 1.1256270312499999, 1.1200439062499996, 1.12431221875, 1.1212878437500002, 1.1185075625, 1.1164267187499999, 1.1167352187500001, 1.1156867187500001, 1.11706478125, 1.116398625, 1.11351003125, 1.1134877187499999, 1.111851625, 1.1108563749999998, 1.1050536562500002, 1.0998173750000002, 1.10347496875, 1.1039145000000001, 1.1056691875000002, 1.10180990625, 1.1022410625, 1.0954181874999998, 1.093278375, 1.09618325, 1.09032690625, 1.0900503749999997, 1.0905115624999997, 1.0869106249999996, 1.08813925, 1.0872011875, 1.0841605312499998, 1.0838803124999998, 1.0834683437499997, 1.08568884375, 1.0799234375, 1.0747346249999998, 1.0793298125000002, 1.08019840625, 1.0764779375, 1.07773678125, 1.07334978125, 1.07444303125, 1.0726326874999998, 1.0728027187499996, 1.0657402500000002, 1.06445075, 1.0670363749999998, 1.0652572812499999, 1.0635839374999998, 1.062883, 1.063122, 1.0612866562499998, 1.06214153125, 1.059679, 1.05515653125, 1.0502100625000002, 1.0538722187500003, 1.0471240000000002, 1.0502674687500002, 1.05074303125, 1.0495580625000003, 1.0478423749999999, 1.0442081250000002, 1.04118040625, 1.0371178125000002, 1.0358141875000002, 1.0365886875, 1.037760875, 1.03695690625, 1.03365625, 1.03137434375, 1.02488809375, 1.0243339999999999, 1.0221144062500003, 1.0177448125, 1.01968665625, 1.0196490312500002, 1.0141288124999999, 1.0149263124999999, 1.0168840000000001, 1.0125469374999998, 1.0129342187500001, 1.01163424375, 1.005471596875, 1.0051918250000003, 1.003988003125, 1.0050478437500001, 1.004940921875, 1.00435844375, 1.001367090625, 0.9995892718749999, 0.999384421875, 0.9880405031250002, 0.9875376999999999, 0.9891442625, 0.98690323125, 0.987949325, 0.9827995312500001, 0.9802017874999999, 0.9801826124999999, 0.977294609375, 0.979810446875, 0.968025590625, 0.9656789218749998, 0.966406815625, 0.9617055531249998, 0.9640965218750002, 0.9573183375, 0.9586782312500001, 0.9613786343750002, 0.956343959375, 0.9458435406250001, 0.9445494718749998, 0.941698040625, 0.93699014375, 0.9426306843749999, 0.9369410781249999, 0.940867696875, 0.9259458093749999, 0.925682771875, 0.925020171875, 0.916801334375, 0.9152262499999999, 0.9106563312499997, 0.909764065625, 0.90782696875, 0.9070358875000002, 0.897890971875, 0.8997769781250001, 0.89440806875, 0.8948609375000001, 0.8901342406249998, 0.8883853999999999, 0.8736595812499999, 0.8675583374999999, 0.8642136406249997, 0.8618195718750002, 0.861668021875, 0.8552196562499997, 0.8395736281250001, 0.8337082625000001, 0.8289677062499998, 0.8206220906250001, 0.819610371875, 0.815599325, 0.793582678125, 0.787277253125, 0.7735087625000001, 0.7714612125000001, 0.759655503125, 0.7425706968749999, 0.7270711187500001, 0.7154482906249998, 0.6989799749999999, 0.685419690625, 0.6717149156249999, 0.6478157125, 0.6258607906250001, 0.608147578125, 0.5625162656250001, 0.5409590437500001, 0.5140801687499998, 0.490923540625, 0.39724802499999995, 0.35892133437500007, 0.223118325, 0.20465482812499994, 0.06759608468749999, 0.0, 0.0]}, {\"mode\": \"lines\", \"name\": \"lines\", \"type\": \"scatter\", \"x\": [1.0, 0.9874525113773314, 0.9750622484193082, 0.9628272383046493, 0.9507455329319782, 0.9388152086096379, 0.9270343657493959, 0.9154011285639839, 0.9039136447684286, 0.8925700852851245, 0.8813686439526027, 0.8703075372379452, 0.8593850039528068, 0.8485993049729903, 0.8379487229615397, 0.8274315620952971, 0.8170461477948898, 0.8067908264580966, 0.7966639651965562, 0.7866639515757725, 0.7767891933583764, 0.7670381182506072, 0.7574091736519624, 0.747900826407989, 0.7385115625661708, 0.7292398871348685, 0.7200843238452843, 0.7110434149164043, 0.702115720822885, 0.6932998200658482, 0.6845943089465436, 0.6759978013428469, 0.6675089284885599, 0.6591263387554651, 0.6508486974381195, 0.6426746865413353, 0.6346030045703255, 0.6266323663234746, 0.6187615026877045, 0.6109891604364031, 0.6033141020298776, 0.5957351054183136, 0.5882509638471922, 0.5808604856651496, 0.5735624941342345, 0.5663558272425474, 0.5592393375192185, 0.5522118918517044, 0.5452723713053694, 0.5384196709453257, 0.5316526996605003, 0.5249703799899066, 0.5183716479510849, 0.5118554528706925, 0.5054207572172119, 0.4990665364357521, 0.49279177878491326, 0.48659548517569495, 0.48047666901241903, 0.4744343560356371, 0.46846758416700884, 0.4625754033561145, 0.4567568754291852, 0.45101107393972356, 0.44533708402099115, 0.4397340022403413, 0.4342009364553702, 0.42873700567186757, 0.42334133990354134, 0.4180130800334949, 0.412751377677437, 0.4075553950485975, 0.4024243048243324, 0.39735729001439535, 0.39235354383085247, 0.38741226955962366, 0.3825326804336262, 0.3777139995075034, 0.3729554595339168, 0.3682563028413823, 0.36361578121363053, 0.35903315577047296, 0.35450769685015615, 0.35003868389318155, 0.34562540532757513, 0.3412671584555897, 0.33696324934181715, 0.3327129927026986, 0.3285157117974118, 0.3243707383201165, 0.3202774122935456, 0.3162350819639208, 0.31224310369717817, 0.3083008418764866, 0.3044076688010424, 0.30056296458612475, 0.2967661170643952, 0.29301652168842685, 0.2893135814344457, 0.2856567067072697, 0.28204531524643345, 0.2784788320334764, 0.2749566892003874, 0.271478325939187, 0.26804318841263286, 0.26465072966603675, 0.2613004095401756, 0.257991694585286, 0.25472405797612635, 0.2514969794280937, 0.24830994511438248, 0.24516244758417152, 0.24205398568182443, 0.2389840644670958, 0.23595219513632384, 0.23295789494460142, 0.2300006871289126, 0.22708010083221947, 0.2241956710284917, 0.22134693844866274, 0.21853344950750386, 0.2157547562314026, 0.21301041618703465, 0.21029999241091812, 0.2076230533398391, 0.20497917274213548, 0.20236792964983275, 0.19978890829161391, 0.1972416980266203, 0.19472589327906764, 0.19224109347366847, 0.1897869029718513, 0.18736293100876586, 0.18496879163106392, 0.18260410363544669, 0.18026849050796753, 0.17796158036408347, 0.17568300588944094, 0.1734324042813916, 0.17120941719122554, 0.16901369066711336, 0.16684487509774892, 0.16470262515668355, 0.1625865997473407, 0.16049646194870626, 0.15843187896168323, 0.15639252205610069, 0.15437806651837402, 0.15238819159980155, 0.15042258046549462, 0.14848092014392944, 0.14656290147711507, 0.14466821907136818, 0.14279657124868675, 0.14094765999871642, 0.1391211909312999, 0.13731687322960331, 0.13553441960381094, 0.1337735462453824, 0.13203397278186332, 0.13031542223224368, 0.12861762096285578, 0.12694029864380518, 0.12528318820592832, 0.12364602579826822, 0.12202855074606363, 0.12043050550924338, 0.11885163564141975, 0.11729168974937498, 0.115750419453033, 0.11422757934591198, 0.11272292695604999, 0.11123622270739707, 0.10976722988166975, 0.10831571458065939, 0.10688144568899052, 0.10546419483732158, 0.10406373636598353, 0.1026798472890489, 0.10131230725882764, 0.0999608985307825, 0.09862540592885882, 0.09730561681122374, 0.09600132103640835, 0.0947123109298482, 0.09343838125081705, 0.09217932915974725, 0.09093495418593289, 0.08970505819561048, 0.08848944536041148, 0.0872879221261813, 0.08610029718216115, 0.08492638143052711, 0.08376598795628121, 0.0826189319974898, 0.08148503091586579, 0.08036410416768737, 0.07925597327505217, 0.07816046179745895, 0.07707739530371416, 0.07600660134415825, 0.07494790942320793, 0.07390115097220884, 0.07286615932259599, 0.07184276967935578, 0.07083081909478696, 0.06983014644255536, 0.06884059239203898, 0.06786199938295889, 0.06689421160029141, 0.06593707494945922, 0.06499043703179573, 0.06405414712027956, 0.0631280561355354, 0.06221201662209685, 0.06130588272492798, 0.06040951016620033, 0.05952275622231984, 0.058645479701202256, 0.0577775409197918, 0.056918801681820834, 0.05606912525580498, 0.05522837635327293, 0.05439642110722498, 0.0535731270508184, 0.05275836309627578, 0.05195199951401208, 0.05115390791197948, 0.05036396121522392, 0.049582033645651606, 0.04880800070200275, 0.048041739140027406, 0.04728312695286253, 0.046532043351605434, 0.04578836874608116, 0.04505198472580152, 0.044322774041110624, 0.04360062058451652, 0.04288540937220398, 0.04217702652572619, 0.04147535925387292, 0.04078029583471132, 0.040091725597797064, 0.0394095389065534, 0.038733627140814075, 0.03806388267952865, 0.03740019888362633, 0.036742470079037304, 0.036090591539865824, 0.03544445947171637, 0.034803970995166855, 0.03416902412938738, 0.03353951777590314, 0.0329153517024966, 0.032296426527248616, 0.03168264370271401, 0.031073905500231258, 0.030470114994360687, 0.029871176047452926, 0.02927699329434052, 0.028687472127154057, 0.028102518680258037, 0.027522039815305877, 0.0269459431064093, 0.02637413682542256, 0.025806529927336792, 0.025243032035783708, 0.024683553428645696, 0.02412800502376944, 0.023576298364782363, 0.023028345607008498, 0.022484059503480754, 0.021943353391049913, 0.021406141176585566, 0.020872337323267875, 0.02034185683696843, 0.019814615252716997, 0.019290528621252467, 0.018769513495656698, 0.018251486918067435, 0.017736366406469695, 0.017224069941562337, 0.016714515953698883, 0.016207623309899888, 0.015703311300934386, 0.015201499628469062, 0.01470210839228314, 0.014205058077546018, 0.013710269542157259, 0.013217664004144368, 0.012727163029119805, 0.01223868851779164, 0.011752162693528967, 0.011267508089977342, 0.010784647538724877, 0.010303504157014977, 0.009824001335504762, 0.009346062726067195, 0.008869612229634559, 0.008394573984081721, 0.007920872352147112, 0.007448431909389486, 0.006977177432178627, 0.006507033885717828, 0.0060379264120966605, 0.005569780318372186, 0.005102521064675237, 0.004636074252342914, 0.004170365612071737, 0.0037053209920927532, 0.0032408663463647787, 0.00277692772278415, 0.002313431251410148, 0.0018503031327031796, 0.0013874696257739625, 0.000924857036642357, 0.00046239170650363976, 0.0], \"y\": [1.2723180003107892, 1.2722291595226516, 1.2719663570805737, 1.271533628871978, 1.270934966527069, 1.2701778793176803, 1.2692743024346493, 1.2682376287756327, 1.267079821921097, 1.2658100790150575, 1.2644343968715903, 1.2629561942739764, 1.2613778571080079, 1.2597024657871807, 1.2579342128864894, 1.2560779041586594, 1.2541389808982748, 1.252124128868675, 1.2500409508635695, 1.2478969147183625, 1.2456982426311796, 1.2434492933019161, 1.2411527858792153, 1.2388105452195945, 1.2364239174064922, 1.233994372360162, 1.2315240595660872, 1.2290159127748816, 1.226473263407437, 1.2238992626458005, 1.221297037785958, 1.2186698158014708, 1.2160208221567614, 1.2133533175437432, 1.2106706109584318, 1.2079760221739655, 1.205272630710951, 1.2025631317847798, 1.1998498551725507, 1.1971348314499481, 1.1944197823496323, 1.1917059850450609, 1.18899423008815, 1.186285067778791, 1.1835791301931242, 1.1808771026370384, 1.1781796579824602, 1.175487502989985, 1.1728013912410433, 1.1701221149623358, 1.1674504708555422, 1.1647872056055935, 1.1621329509961875, 1.1594880772102936, 1.1568526500062317, 1.1542264994775167, 1.1516093533353846, 1.1490009485601131, 1.146401088698064, 1.143809655317672, 1.1412265796471461, 1.1386518657773674, 1.1360855794629967, 1.1335277645510378, 1.1309784994513696, 1.1284379526063504, 1.1259064109666543, 1.1233842835164383, 1.1208720097058433, 1.1183699409555852, 1.1158782453456861, 1.1133969373407946, 1.110925896710227, 1.1084649372356115, 1.1060139274087888, 1.1035728222395962, 1.1011416682596615, 1.0987205742379846, 1.0963097333466272, 1.0939094195129153, 1.0915199371390847, 1.089141546664443, 1.086774318384765, 1.0844182738195258, 1.0820733865318122, 1.0797395330030048, 1.077416565647553, 1.0751043193793783, 1.0728025959549488, 1.0705111789201263, 1.0682298576457732, 1.0659584347513027, 1.0636967237124124, 1.0614445760233115, 1.0592018971583512, 1.0569686070348305, 1.0547446235216753, 1.0525298560160579, 1.0503242348205506, 1.0481276574685572, 1.045939983554255, 1.0437610531083428, 1.041590703918035, 1.0394287632877348, 1.037275052780275, 1.0351293965210466, 1.032991629458772, 1.030861597441033, 1.0287391644285764, 1.026624215770665, 1.0245166527378047, 1.0224164023462254, 1.0203234133258596, 1.018237672652178, 1.0161590182783216, 1.0140873869220919, 1.0120227499866534, 1.0099649759016611, 1.0079138995981891, 1.0058693428857977, 1.003831114203078, 1.001799011167401, 0.9997728158220184, 0.9977522888585492, 0.9957371803296649, 0.9937272247938433, 0.9917221540936937, 0.989721697678474, 0.9877255854232552, 0.9857335446943457, 0.9837452946857386, 0.9817605470358808, 0.9797790090759937, 0.9778003872649627, 0.9758243851859434, 0.9738506993455106, 0.9718790392956821, 0.969908995724928, 0.9679400464894125, 0.9659718305894126, 0.9640039687693566, 0.9620360623498581, 0.9600677373855547, 0.958098627457951, 0.956128356283782, 0.9541565407886072, 0.9521827860417179, 0.9502066865849852, 0.9482278249760524, 0.9462457723216733, 0.9442600867303853, 0.9422703091241377, 0.9402759658073413, 0.9382765658610949, 0.936271606054443, 0.9342605768186192, 0.9322429540512016, 0.9302181971718657, 0.9281857556638199, 0.9261450682663921, 0.9240955588640121, 0.9220366371075841, 0.9199677029554222, 0.9178881497703785, 0.9157973631595142, 0.9136947242446807, 0.9115796092860435, 0.9094513926817528, 0.9073094443376545, 0.9051531843699206, 0.9029822033839109, 0.9007954413845837, 0.8985921383191118, 0.8963716428262084, 0.894133272594498, 0.8918763336118181, 0.8896001143014373, 0.8873039066664312, 0.8849869871984177, 0.8826486217362254, 0.8802880759503137, 0.8779046024980309, 0.875497447231728, 0.8730658434336525, 0.8706090204351751, 0.8681261987709331, 0.8656165906915173, 0.8630793994272862, 0.8605138148359552, 0.8579190185610611, 0.8552941836745266, 0.8526384729069423, 0.8499510369870271, 0.8472310147911648, 0.8444775365052438, 0.8416897242452261, 0.8388666899328592, 0.8360075345172928, 0.8331113474040334, 0.8301772113421844, 0.8272042003354413, 0.8241913792274072, 0.821137806689513, 0.8180425335784021, 0.8149046043059744, 0.8117230571540847, 0.8084969246577339, 0.805225234051651, 0.8019070077739134, 0.79854126401952, 0.7951270173361968, 0.7916631205071658, 0.7881487648449431, 0.7845829312550612, 0.7809644917874615, 0.7772923157938729, 0.773565274215595, 0.7697822469673484, 0.7659421160842789, 0.7620437795444456, 0.7580861273380053, 0.7540680392027367, 0.7499884022325144, 0.7458460927227052, 0.7416399762237513, 0.7373689096750156, 0.7330317340628697, 0.7286272846725484, 0.7241543789590026, 0.7196118220110347, 0.7149984072937545, 0.7103129168108514, 0.7055541239923626, 0.7007207957467793, 0.6958116934221338, 0.6908255757214082, 0.6857612008899799, 0.6806173301839251, 0.6753927320595349, 0.6700861820812127, 0.6646964662711444, 0.6592223852178098, 0.653662757662235, 0.6480164229489374, 0.6422822436776566, 0.6364591084795211, 0.6305459348527995, 0.6245416720038166, 0.6184453036477473, 0.6122558507323483, 0.6059723740549732, 0.5995939767496586, 0.5931198066269616, 0.5865490583540935, 0.5798809754674694, 0.5731148522136249, 0.5662500352177899, 0.5592859249823573, 0.5522219772200067, 0.5450577676879735, 0.53779299768572, 0.5304271424959603, 0.5229601010405415, 0.5153918921540243, 0.5077226334538882, 0.49995251051795486, 0.4920817874657158, 0.4841108354562184, 0.47604013473218787, 0.4678702770006611, 0.459601969506183, 0.45123604907544995, 0.4427734931188706, 0.43421542324034207, 0.42556310864133323, 0.41681796628118617, 0.407981564324269, 0.39905562496861785, 0.39004202437437213, 0.38094279351980304, 0.3717601137098752, 0.36249631276331085, 0.35315386072824273, 0.3437353642249898, 0.33424355957039376, 0.3246813048182968, 0.31505157083214563, 0.305357431488342, 0.2956020530927198, 0.28578868307723604, 0.27592063802973216, 0.26600129109595916, 0.25603405878043645, 0.24602238716042363, 0.2359697375158494, 0.22587957136682613, 0.21575533489975135, 0.2056004427526172, 0.1954182611200186, 0.1852120901284345, 0.17498514542251947, 0.16474053889336615, 0.15448103636274818, 0.14420929684313397, 0.13392771544593418, 0.12363852633975948, 0.11334366867573005, 0.10304478596673541, 0.09274329737174224, 0.08244032823824032, 0.07213671418114181, 0.061832985966052335, 0.05152936680202428, 0.04122577265596969, 0.030921815557523796, 0.02061680989462753, 0.01030978173173106, 1.0278727733330024e-15]}],\n",
       "                        {\"template\": {\"data\": {\"bar\": [{\"error_x\": {\"color\": \"#2a3f5f\"}, \"error_y\": {\"color\": \"#2a3f5f\"}, \"marker\": {\"line\": {\"color\": \"#E5ECF6\", \"width\": 0.5}}, \"type\": \"bar\"}], \"barpolar\": [{\"marker\": {\"line\": {\"color\": \"#E5ECF6\", \"width\": 0.5}}, \"type\": \"barpolar\"}], \"carpet\": [{\"aaxis\": {\"endlinecolor\": \"#2a3f5f\", \"gridcolor\": \"white\", \"linecolor\": \"white\", \"minorgridcolor\": \"white\", \"startlinecolor\": \"#2a3f5f\"}, \"baxis\": {\"endlinecolor\": \"#2a3f5f\", \"gridcolor\": \"white\", \"linecolor\": \"white\", \"minorgridcolor\": \"white\", \"startlinecolor\": \"#2a3f5f\"}, \"type\": \"carpet\"}], \"choropleth\": [{\"colorbar\": {\"outlinewidth\": 0, \"ticks\": \"\"}, \"type\": \"choropleth\"}], \"contour\": [{\"colorbar\": {\"outlinewidth\": 0, \"ticks\": \"\"}, \"colorscale\": [[0.0, \"#0d0887\"], [0.1111111111111111, \"#46039f\"], [0.2222222222222222, \"#7201a8\"], [0.3333333333333333, \"#9c179e\"], [0.4444444444444444, \"#bd3786\"], [0.5555555555555556, \"#d8576b\"], [0.6666666666666666, \"#ed7953\"], [0.7777777777777778, \"#fb9f3a\"], [0.8888888888888888, \"#fdca26\"], [1.0, \"#f0f921\"]], \"type\": \"contour\"}], \"contourcarpet\": [{\"colorbar\": {\"outlinewidth\": 0, \"ticks\": \"\"}, \"type\": \"contourcarpet\"}], \"heatmap\": [{\"colorbar\": {\"outlinewidth\": 0, \"ticks\": \"\"}, \"colorscale\": [[0.0, \"#0d0887\"], [0.1111111111111111, \"#46039f\"], [0.2222222222222222, \"#7201a8\"], [0.3333333333333333, \"#9c179e\"], [0.4444444444444444, \"#bd3786\"], [0.5555555555555556, \"#d8576b\"], [0.6666666666666666, \"#ed7953\"], [0.7777777777777778, \"#fb9f3a\"], [0.8888888888888888, \"#fdca26\"], [1.0, \"#f0f921\"]], \"type\": \"heatmap\"}], \"heatmapgl\": [{\"colorbar\": {\"outlinewidth\": 0, \"ticks\": \"\"}, \"colorscale\": [[0.0, \"#0d0887\"], [0.1111111111111111, \"#46039f\"], [0.2222222222222222, \"#7201a8\"], [0.3333333333333333, \"#9c179e\"], [0.4444444444444444, \"#bd3786\"], [0.5555555555555556, \"#d8576b\"], [0.6666666666666666, \"#ed7953\"], [0.7777777777777778, \"#fb9f3a\"], [0.8888888888888888, \"#fdca26\"], [1.0, \"#f0f921\"]], \"type\": \"heatmapgl\"}], \"histogram\": [{\"marker\": {\"colorbar\": {\"outlinewidth\": 0, \"ticks\": \"\"}}, \"type\": \"histogram\"}], \"histogram2d\": [{\"colorbar\": {\"outlinewidth\": 0, \"ticks\": \"\"}, \"colorscale\": [[0.0, \"#0d0887\"], [0.1111111111111111, \"#46039f\"], [0.2222222222222222, \"#7201a8\"], [0.3333333333333333, \"#9c179e\"], [0.4444444444444444, \"#bd3786\"], [0.5555555555555556, \"#d8576b\"], [0.6666666666666666, \"#ed7953\"], [0.7777777777777778, \"#fb9f3a\"], [0.8888888888888888, \"#fdca26\"], [1.0, \"#f0f921\"]], \"type\": \"histogram2d\"}], \"histogram2dcontour\": [{\"colorbar\": {\"outlinewidth\": 0, \"ticks\": \"\"}, \"colorscale\": [[0.0, \"#0d0887\"], [0.1111111111111111, \"#46039f\"], [0.2222222222222222, \"#7201a8\"], [0.3333333333333333, \"#9c179e\"], [0.4444444444444444, \"#bd3786\"], [0.5555555555555556, \"#d8576b\"], [0.6666666666666666, \"#ed7953\"], [0.7777777777777778, \"#fb9f3a\"], [0.8888888888888888, \"#fdca26\"], [1.0, \"#f0f921\"]], \"type\": \"histogram2dcontour\"}], \"mesh3d\": [{\"colorbar\": {\"outlinewidth\": 0, \"ticks\": \"\"}, \"type\": \"mesh3d\"}], \"parcoords\": [{\"line\": {\"colorbar\": {\"outlinewidth\": 0, \"ticks\": \"\"}}, \"type\": \"parcoords\"}], \"pie\": [{\"automargin\": true, \"type\": \"pie\"}], \"scatter\": [{\"marker\": {\"colorbar\": {\"outlinewidth\": 0, \"ticks\": \"\"}}, \"type\": \"scatter\"}], \"scatter3d\": [{\"line\": {\"colorbar\": {\"outlinewidth\": 0, \"ticks\": \"\"}}, \"marker\": {\"colorbar\": {\"outlinewidth\": 0, \"ticks\": \"\"}}, \"type\": \"scatter3d\"}], \"scattercarpet\": [{\"marker\": {\"colorbar\": {\"outlinewidth\": 0, \"ticks\": \"\"}}, \"type\": \"scattercarpet\"}], \"scattergeo\": [{\"marker\": {\"colorbar\": {\"outlinewidth\": 0, \"ticks\": \"\"}}, \"type\": \"scattergeo\"}], \"scattergl\": [{\"marker\": {\"colorbar\": {\"outlinewidth\": 0, \"ticks\": \"\"}}, \"type\": \"scattergl\"}], \"scattermapbox\": [{\"marker\": {\"colorbar\": {\"outlinewidth\": 0, \"ticks\": \"\"}}, \"type\": \"scattermapbox\"}], \"scatterpolar\": [{\"marker\": {\"colorbar\": {\"outlinewidth\": 0, \"ticks\": \"\"}}, \"type\": \"scatterpolar\"}], \"scatterpolargl\": [{\"marker\": {\"colorbar\": {\"outlinewidth\": 0, \"ticks\": \"\"}}, \"type\": \"scatterpolargl\"}], \"scatterternary\": [{\"marker\": {\"colorbar\": {\"outlinewidth\": 0, \"ticks\": \"\"}}, \"type\": \"scatterternary\"}], \"surface\": [{\"colorbar\": {\"outlinewidth\": 0, \"ticks\": \"\"}, \"colorscale\": [[0.0, \"#0d0887\"], [0.1111111111111111, \"#46039f\"], [0.2222222222222222, \"#7201a8\"], [0.3333333333333333, \"#9c179e\"], [0.4444444444444444, \"#bd3786\"], [0.5555555555555556, \"#d8576b\"], [0.6666666666666666, \"#ed7953\"], [0.7777777777777778, \"#fb9f3a\"], [0.8888888888888888, \"#fdca26\"], [1.0, \"#f0f921\"]], \"type\": \"surface\"}], \"table\": [{\"cells\": {\"fill\": {\"color\": \"#EBF0F8\"}, \"line\": {\"color\": \"white\"}}, \"header\": {\"fill\": {\"color\": \"#C8D4E3\"}, \"line\": {\"color\": \"white\"}}, \"type\": \"table\"}]}, \"layout\": {\"annotationdefaults\": {\"arrowcolor\": \"#2a3f5f\", \"arrowhead\": 0, \"arrowwidth\": 1}, \"coloraxis\": {\"colorbar\": {\"outlinewidth\": 0, \"ticks\": \"\"}}, \"colorscale\": {\"diverging\": [[0, \"#8e0152\"], [0.1, \"#c51b7d\"], [0.2, \"#de77ae\"], [0.3, \"#f1b6da\"], [0.4, \"#fde0ef\"], [0.5, \"#f7f7f7\"], [0.6, \"#e6f5d0\"], [0.7, \"#b8e186\"], [0.8, \"#7fbc41\"], [0.9, \"#4d9221\"], [1, \"#276419\"]], \"sequential\": [[0.0, \"#0d0887\"], [0.1111111111111111, \"#46039f\"], [0.2222222222222222, \"#7201a8\"], [0.3333333333333333, \"#9c179e\"], [0.4444444444444444, \"#bd3786\"], [0.5555555555555556, \"#d8576b\"], [0.6666666666666666, \"#ed7953\"], [0.7777777777777778, \"#fb9f3a\"], [0.8888888888888888, \"#fdca26\"], [1.0, \"#f0f921\"]], \"sequentialminus\": [[0.0, \"#0d0887\"], [0.1111111111111111, \"#46039f\"], [0.2222222222222222, \"#7201a8\"], [0.3333333333333333, \"#9c179e\"], [0.4444444444444444, \"#bd3786\"], [0.5555555555555556, \"#d8576b\"], [0.6666666666666666, \"#ed7953\"], [0.7777777777777778, \"#fb9f3a\"], [0.8888888888888888, \"#fdca26\"], [1.0, \"#f0f921\"]]}, \"colorway\": [\"#636efa\", \"#EF553B\", \"#00cc96\", \"#ab63fa\", \"#FFA15A\", \"#19d3f3\", \"#FF6692\", \"#B6E880\", \"#FF97FF\", \"#FECB52\"], \"font\": {\"color\": \"#2a3f5f\"}, \"geo\": {\"bgcolor\": \"white\", \"lakecolor\": \"white\", \"landcolor\": \"#E5ECF6\", \"showlakes\": true, \"showland\": true, \"subunitcolor\": \"white\"}, \"hoverlabel\": {\"align\": \"left\"}, \"hovermode\": \"closest\", \"mapbox\": {\"style\": \"light\"}, \"paper_bgcolor\": \"white\", \"plot_bgcolor\": \"#E5ECF6\", \"polar\": {\"angularaxis\": {\"gridcolor\": \"white\", \"linecolor\": \"white\", \"ticks\": \"\"}, \"bgcolor\": \"#E5ECF6\", \"radialaxis\": {\"gridcolor\": \"white\", \"linecolor\": \"white\", \"ticks\": \"\"}}, \"scene\": {\"xaxis\": {\"backgroundcolor\": \"#E5ECF6\", \"gridcolor\": \"white\", \"gridwidth\": 2, \"linecolor\": \"white\", \"showbackground\": true, \"ticks\": \"\", \"zerolinecolor\": \"white\"}, \"yaxis\": {\"backgroundcolor\": \"#E5ECF6\", \"gridcolor\": \"white\", \"gridwidth\": 2, \"linecolor\": \"white\", \"showbackground\": true, \"ticks\": \"\", \"zerolinecolor\": \"white\"}, \"zaxis\": {\"backgroundcolor\": \"#E5ECF6\", \"gridcolor\": \"white\", \"gridwidth\": 2, \"linecolor\": \"white\", \"showbackground\": true, \"ticks\": \"\", \"zerolinecolor\": \"white\"}}, \"shapedefaults\": {\"line\": {\"color\": \"#2a3f5f\"}}, \"ternary\": {\"aaxis\": {\"gridcolor\": \"white\", \"linecolor\": \"white\", \"ticks\": \"\"}, \"baxis\": {\"gridcolor\": \"white\", \"linecolor\": \"white\", \"ticks\": \"\"}, \"bgcolor\": \"#E5ECF6\", \"caxis\": {\"gridcolor\": \"white\", \"linecolor\": \"white\", \"ticks\": \"\"}}, \"title\": {\"x\": 0.05}, \"xaxis\": {\"automargin\": true, \"gridcolor\": \"white\", \"linecolor\": \"white\", \"ticks\": \"\", \"title\": {\"standoff\": 15}, \"zerolinecolor\": \"white\", \"zerolinewidth\": 2}, \"yaxis\": {\"automargin\": true, \"gridcolor\": \"white\", \"linecolor\": \"white\", \"ticks\": \"\", \"title\": {\"standoff\": 15}, \"zerolinecolor\": \"white\", \"zerolinewidth\": 2}}}},\n",
       "                        {\"responsive\": true}\n",
       "                    ).then(function(){\n",
       "                            \n",
       "var gd = document.getElementById('d19ce460-d24b-402e-a03e-631f50d5621c');\n",
       "var x = new MutationObserver(function (mutations, observer) {{\n",
       "        var display = window.getComputedStyle(gd).display;\n",
       "        if (!display || display === 'none') {{\n",
       "            console.log([gd, 'removed!']);\n",
       "            Plotly.purge(gd);\n",
       "            observer.disconnect();\n",
       "        }}\n",
       "}});\n",
       "\n",
       "// Listen for the removal of the full notebook cells\n",
       "var notebookContainer = gd.closest('#notebook-container');\n",
       "if (notebookContainer) {{\n",
       "    x.observe(notebookContainer, {childList: true});\n",
       "}}\n",
       "\n",
       "// Listen for the clearing of the current output cell\n",
       "var outputEl = gd.closest('.output');\n",
       "if (outputEl) {{\n",
       "    x.observe(outputEl, {childList: true});\n",
       "}}\n",
       "\n",
       "                        })\n",
       "                };\n",
       "                });\n",
       "            </script>\n",
       "        </div>"
      ]
     },
     "metadata": {},
     "output_type": "display_data"
    }
   ],
   "source": [
    "import plotly as py\n",
    "import plotly.graph_objs as go \n",
    "import ipywidgets as wingets\n",
    "from scipy import special\n",
    "\n",
    "#plt.plot(df.OneMin_rPlus,df.UzPlus, color ='black', linewidth=2, markersize=12)\n",
    "#plt.plot(df_avg.dist_norm,z_velocity_smoothed,'--',color ='black', linewidth=3, markersize=12)\n",
    "\n",
    "\n",
    "py.offline.init_notebook_mode(connected=True)\n",
    "x= df_avg.dist_norm\n",
    "z=df_avg.z_velocity\n",
    "\n",
    "#y= df_avg.dist_norm # z = r*cos(t)\n",
    "fig = go.Figure()\n",
    "fig.add_trace(go.Scatter(x=x, y=z, name='lines', line = dict(color='royalblue', width=4, dash='dash')))\n",
    "fig.add_trace(go.Scatter(x=df.OneMin_rPlus, y=df.UzPlus,mode='lines', name='lines'))\n",
    "fig.show()"
   ]
  },
  {
   "cell_type": "code",
   "execution_count": 16,
   "metadata": {},
   "outputs": [
    {
     "data": {
      "image/png": "[encoded data removed]",
      "text/plain": [
       "<Figure size 432x288 with 1 Axes>"
      ]
     },
     "metadata": {
      "needs_background": "light"
     },
     "output_type": "display_data"
    }
   ],
   "source": [
    " ax = sns.lineplot(x=\"dist_norm\", y=\"y_velocity\",\n",
    "                 err_style=\"bars\", ci=68, data=df_avg)\n",
    "#plt.plot(df_avg.dist_norm,z_velocity_smoothed,'--',color ='black', linewidth=3, markersize=12)"
   ]
  },
  {
   "cell_type": "code",
   "execution_count": 17,
   "metadata": {},
   "outputs": [
    {
     "data": {
      "text/html": [
       "<div>\n",
       "<style scoped>\n",
       "    .dataframe tbody tr th:only-of-type {\n",
       "        vertical-align: middle;\n",
       "    }\n",
       "\n",
       "    .dataframe tbody tr th {\n",
       "        vertical-align: top;\n",
       "    }\n",
       "\n",
       "    .dataframe thead th {\n",
       "        text-align: right;\n",
       "    }\n",
       "</style>\n",
       "<table border=\"1\" class=\"dataframe\">\n",
       "  <thead>\n",
       "    <tr style=\"text-align: right;\">\n",
       "      <th></th>\n",
       "      <th>distance_from_wall</th>\n",
       "      <th>x_velocity</th>\n",
       "      <th>y_velocity</th>\n",
       "      <th>z_velocity</th>\n",
       "      <th>dist_norm</th>\n",
       "    </tr>\n",
       "  </thead>\n",
       "  <tbody>\n",
       "    <tr>\n",
       "      <td>0</td>\n",
       "      <td>0.00000</td>\n",
       "      <td>0.001424</td>\n",
       "      <td>0.002459</td>\n",
       "      <td>1.266951</td>\n",
       "      <td>0.9984</td>\n",
       "    </tr>\n",
       "    <tr>\n",
       "      <td>1</td>\n",
       "      <td>0.00375</td>\n",
       "      <td>0.000076</td>\n",
       "      <td>-0.000015</td>\n",
       "      <td>1.266912</td>\n",
       "      <td>0.9909</td>\n",
       "    </tr>\n",
       "    <tr>\n",
       "      <td>2</td>\n",
       "      <td>0.00500</td>\n",
       "      <td>0.000109</td>\n",
       "      <td>-0.000022</td>\n",
       "      <td>1.266875</td>\n",
       "      <td>0.9884</td>\n",
       "    </tr>\n",
       "    <tr>\n",
       "      <td>3</td>\n",
       "      <td>0.01250</td>\n",
       "      <td>0.000081</td>\n",
       "      <td>0.000024</td>\n",
       "      <td>1.266583</td>\n",
       "      <td>0.9734</td>\n",
       "    </tr>\n",
       "    <tr>\n",
       "      <td>4</td>\n",
       "      <td>0.01750</td>\n",
       "      <td>0.000114</td>\n",
       "      <td>0.000058</td>\n",
       "      <td>1.266259</td>\n",
       "      <td>0.9634</td>\n",
       "    </tr>\n",
       "  </tbody>\n",
       "</table>\n",
       "</div>"
      ],
      "text/plain": [
       "   distance_from_wall  x_velocity  y_velocity  z_velocity  dist_norm\n",
       "0             0.00000    0.001424    0.002459    1.266951     0.9984\n",
       "1             0.00375    0.000076   -0.000015    1.266912     0.9909\n",
       "2             0.00500    0.000109   -0.000022    1.266875     0.9884\n",
       "3             0.01250    0.000081    0.000024    1.266583     0.9734\n",
       "4             0.01750    0.000114    0.000058    1.266259     0.9634"
      ]
     },
     "execution_count": 17,
     "metadata": {},
     "output_type": "execute_result"
    }
   ],
   "source": [
    "df_avg.head()"
   ]
  },
  {
   "cell_type": "code",
   "execution_count": 18,
   "metadata": {},
   "outputs": [],
   "source": [
    "df_avg.loc[(df_avg.dist_norm < 1) , 'norm'] = 1\n",
    "df_avg.loc[(df_avg.dist_norm < 0.975),'norm'] = 0.975\n",
    "df_avg.loc[(df_avg.dist_norm < 0.95) , 'norm'] = 0.95\n",
    "df_avg.loc[(df_avg.dist_norm < 0.925), 'norm'] = 0.925\n",
    "df_avg.loc[(df_avg.dist_norm < 0.9) , 'norm'] = 0.9\n",
    "df_avg.loc[(df_avg.dist_norm < 0.875),'norm'] = 0.875\n",
    "df_avg.loc[(df_avg.dist_norm < 0.85), 'norm'] = 0.85\n",
    "df_avg.loc[(df_avg.dist_norm < 0.825) , 'norm'] = 0.825\n",
    "df_avg.loc[(df_avg.dist_norm < 0.8) , 'norm'] = 0.8\n",
    "df_avg.loc[(df_avg.dist_norm < 0.775) , 'norm'] = 0.775\n",
    "df_avg.loc[(df_avg.dist_norm < 0.75) , 'norm'] = 0.75\n",
    "df_avg.loc[(df_avg.dist_norm < 0.725) , 'norm'] = 0.725\n",
    "df_avg.loc[(df_avg.dist_norm < 0.7) , 'norm'] = 0.7\n",
    "df_avg.loc[(df_avg.dist_norm < 0.675) , 'norm'] = 0.675\n",
    "df_avg.loc[(df_avg.dist_norm < 0.65) , 'norm'] = 0.65\n",
    "df_avg.loc[(df_avg.dist_norm < 0.625) , 'norm'] = 0.625\n",
    "df_avg.loc[(df_avg.dist_norm < 0.6) , 'norm'] = 0.6\n",
    "df_avg.loc[(df_avg.dist_norm < 0.575) , 'norm'] = 0.575\n",
    "df_avg.loc[(df_avg.dist_norm < 0.55) , 'norm'] = 0.55\n",
    "df_avg.loc[(df_avg.dist_norm < 0.525) , 'norm'] = 0.525\n",
    "df_avg.loc[(df_avg.dist_norm < 0.5) , 'norm'] = 0.5\n",
    "df_avg.loc[(df_avg.dist_norm < 0.475) , 'norm'] = 0.475\n",
    "df_avg.loc[(df_avg.dist_norm < 0.45) , 'norm'] = 0.45\n",
    "df_avg.loc[(df_avg.dist_norm < 0.425) , 'norm'] = 0.425\n",
    "df_avg.loc[(df_avg.dist_norm < 0.4) , 'norm'] = 0.4\n",
    "df_avg.loc[(df_avg.dist_norm < 0.375) , 'norm'] = 0.375\n",
    "df_avg.loc[(df_avg.dist_norm < 0.35) , 'norm'] = 0.35\n",
    "df_avg.loc[(df_avg.dist_norm < 0.325) , 'norm'] = 0.325\n",
    "df_avg.loc[(df_avg.dist_norm < 0.3) , 'norm'] = 0.3\n",
    "df_avg.loc[(df_avg.dist_norm < 0.275) , 'norm'] = 0.275\n",
    "df_avg.loc[(df_avg.dist_norm < 0.25) , 'norm'] = 0.25\n",
    "df_avg.loc[(df_avg.dist_norm < 0.225) , 'norm'] = 0.225\n",
    "df_avg.loc[(df_avg.dist_norm < 0.2) , 'norm'] = 0.2\n",
    "df_avg.loc[(df_avg.dist_norm < 0.15) , 'norm'] = 0.175\n",
    "df_avg.loc[(df_avg.dist_norm < 0.15) , 'norm'] = 0.15\n",
    "df_avg.loc[(df_avg.dist_norm < 0.1275) , 'norm'] = 0.125\n",
    "df_avg.loc[(df_avg.dist_norm < 0.1) , 'norm'] = 0.1\n",
    "\n",
    "\n",
    "\n",
    "# df_avg.loc[(df_avg.dist_norm < 1) , 'norm'] = 1\n",
    "\n",
    "# df_avg.loc[(df_avg.dist_norm < 0.95) , 'norm'] = 0.95\n",
    "# df_avg.loc[(df_avg.dist_norm < 0.9) , 'norm'] = 0.9\n",
    "# df_avg.loc[(df_avg.dist_norm < 0.85) , 'norm'] = 0.85\n",
    "# df_avg.loc[(df_avg.dist_norm < 0.8) , 'norm'] = 0.8\n",
    "# df_avg.loc[(df_avg.dist_norm < 0.75) , 'norm'] = 0.75\n",
    "# df_avg.loc[(df_avg.dist_norm < 0.7) , 'norm'] = 0.7\n",
    "# df_avg.loc[(df_avg.dist_norm < 0.65) , 'norm'] = 0.65\n",
    "# df_avg.loc[(df_avg.dist_norm < 0.6) , 'norm'] = 0.6\n",
    "# df_avg.loc[(df_avg.dist_norm < 0.55) , 'norm'] = 0.55\n",
    "# df_avg.loc[(df_avg.dist_norm < 0.5) , 'norm'] = 0.5\n",
    "# df_avg.loc[(df_avg.dist_norm < 0.45) , 'norm'] = 0.45\n",
    "# df_avg.loc[(df_avg.dist_norm < 0.4) , 'norm'] = 0.4\n",
    "# df_avg.loc[(df_avg.dist_norm < 0.35) , 'norm'] = 0.35\n",
    "# df_avg.loc[(df_avg.dist_norm < 0.3) , 'norm'] = 0.3\n",
    "# df_avg.loc[(df_avg.dist_norm < 0.25) , 'norm'] = 0.25\n",
    "# df_avg.loc[(df_avg.dist_norm < 0.2) , 'norm'] = 0.2\n",
    "# df_avg.loc[(df_avg.dist_norm < 0.15) , 'norm'] = 0.15\n",
    "# df_avg.loc[(df_avg.dist_norm < 0.1) , 'norm'] = 0.1\n",
    "\n",
    "\n",
    "\n",
    "\n",
    "\n",
    "\n",
    "# df_avg.loc[(df_avg.dist_norm < 1) , 'norm'] = 10\n",
    "# df_avg.loc[(df_avg.dist_norm < 0.9) , 'norm'] = 9\n",
    "# df_avg.loc[(df_avg.dist_norm < 0.8) , 'norm'] = 8\n",
    "# df_avg.loc[(df_avg.dist_norm < 0.7) , 'norm'] = 7\n",
    "# df_avg.loc[(df_avg.dist_norm < 0.6) , 'norm'] = 6\n",
    "# df_avg.loc[(df_avg.dist_norm < 0.5) , 'norm'] = 5\n",
    "# df_avg.loc[(df_avg.dist_norm < 0.4) , 'norm'] = 4\n",
    "# df_avg.loc[(df_avg.dist_norm < 0.3) , 'norm'] = 3\n",
    "# df_avg.loc[(df_avg.dist_norm < 0.2) , 'norm'] = 2\n",
    "# df_avg.loc[(df_avg.dist_norm < 0.1) , 'norm'] = 1\n"
   ]
  },
  {
   "cell_type": "code",
   "execution_count": null,
   "metadata": {},
   "outputs": [],
   "source": []
  },
  {
   "cell_type": "code",
   "execution_count": 19,
   "metadata": {},
   "outputs": [
    {
     "data": {
      "image/png": "[encoded data removed]",
      "text/plain": [
       "<Figure size 432x288 with 1 Axes>"
      ]
     },
     "metadata": {
      "needs_background": "light"
     },
     "output_type": "display_data"
    }
   ],
   "source": [
    "#ax = sns.lineplot(x=\"norm\", y=\"z_velocity\", err_style=\"bars\", ci=68, data=df_avg)\n",
    "ax = sns.lineplot(x=\"norm\", y=\"y_velocity\", err_style=\"bars\", ci=68, data=df_avg)\n",
    "ax = sns.lineplot(x=\"norm\", y=\"x_velocity\", err_style=\"bars\", ci=68, data=df_avg)\n"
   ]
  },
  {
   "cell_type": "code",
   "execution_count": 20,
   "metadata": {},
   "outputs": [
    {
     "data": {
      "image/png": "[encoded data removed]",
      "text/plain": [
       "<Figure size 432x288 with 1 Axes>"
      ]
     },
     "metadata": {
      "needs_background": "light"
     },
     "output_type": "display_data"
    }
   ],
   "source": [
    "ax = sns.lineplot(x=\"norm\", y=\"z_velocity\", err_style=\"bars\", ci=68, data=df_avg)"
   ]
  },
  {
   "cell_type": "code",
   "execution_count": 21,
   "metadata": {},
   "outputs": [
    {
     "data": {
      "image/png": "[encoded data removed]",
      "text/plain": [
       "<Figure size 432x432 with 1 Axes>"
      ]
     },
     "metadata": {
      "needs_background": "light"
     },
     "output_type": "display_data"
    }
   ],
   "source": [
    "f, ax = plt.subplots(figsize=(6, 6))\n",
    "cmap = sns.cubehelix_palette(as_cmap=True, dark=0, light=1, reverse=True)\n",
    "sns.kdeplot(df_avg.dist_norm, df_avg.z_velocity, cmap=cmap, n_levels=60, shade=True);"
   ]
  },
  {
   "cell_type": "code",
   "execution_count": 22,
   "metadata": {},
   "outputs": [
    {
     "data": {
      "image/png": "[encoded data removed]",
      "text/plain": [
       "<Figure size 432x432 with 3 Axes>"
      ]
     },
     "metadata": {
      "needs_background": "light"
     },
     "output_type": "display_data"
    }
   ],
   "source": [
    "g = sns.jointplot(x=\"dist_norm\", y=\"z_velocity\", data=df_avg, kind=\"kde\", color=\"m\")\n",
    "g.plot_joint(plt.scatter, c=\"w\", s=30, linewidth=1, marker=\"+\")\n",
    "g.ax_joint.collections[0].set_alpha(0)\n",
    "g.set_axis_labels(\"$X$\", \"$Y$\");"
   ]
  },
  {
   "cell_type": "markdown",
   "metadata": {},
   "source": [
    "# RMS\n"
   ]
  },
  {
   "cell_type": "code",
   "execution_count": 23,
   "metadata": {},
   "outputs": [],
   "source": [
    "# dfrms_avg.columns = ['point', 'x','y','z','men']"
   ]
  },
  {
   "cell_type": "code",
   "execution_count": 24,
   "metadata": {},
   "outputs": [],
   "source": [
    "\n",
    "# dfrms_avg['uxrms'] = dfrms_avg.x *(1/6.1746647715901784E-02)\n",
    "# dfrms_avg['uyrms'] = dfrms_avg.y *(1/6.1746647715901784E-02)\n",
    "#df_avg_rms['umenrms'] = df_avg_rms.men *(5850/361)\n",
    "\n"
   ]
  },
  {
   "cell_type": "code",
   "execution_count": 25,
   "metadata": {},
   "outputs": [],
   "source": [
    "# dfrms_avg['yrms'] = ((0.4992-dfrms_avg.point)*3.6121788913802544E+02)*2\n",
    "# dfrms_avg['uzrms'] = (dfrms_avg.z)*(1/6.1746647715901784E-02)\n",
    "\n",
    "#((0.4992-df_avg.point)*3.6121788913802544E+02)*2"
   ]
  },
  {
   "cell_type": "code",
   "execution_count": 26,
   "metadata": {},
   "outputs": [
    {
     "data": {
      "text/plain": [
       "Index(['OneMin_r', 'OneMin_rPlus1', 'UzPlus1', 'UzByUb1', 'Ur_rmsPlus1',\n",
       "       'Ut_rmsPlus1', 'Uz_rmsPlus1', 'UzUrPlus1', 'dUzdrPlus1', 'OneMin_rPlus',\n",
       "       'UzPlus', 'Uz_rmsPlus', 'Ur_rmsPlus', 'Ut_rmsPlus', 'UzUrPlus'],\n",
       "      dtype='object')"
      ]
     },
     "execution_count": 26,
     "metadata": {},
     "output_type": "execute_result"
    }
   ],
   "source": [
    "df.columns"
   ]
  },
  {
   "cell_type": "code",
   "execution_count": null,
   "metadata": {},
   "outputs": [],
   "source": []
  },
  {
   "cell_type": "code",
   "execution_count": 27,
   "metadata": {},
   "outputs": [
    {
     "data": {
      "image/png": "[encoded data removed]",
      "text/plain": [
       "<Figure size 432x288 with 1 Axes>"
      ]
     },
     "metadata": {
      "needs_background": "light"
     },
     "output_type": "display_data"
    }
   ],
   "source": [
    "ax = plt.gca()\n",
    "# Set x logaritmic\n",
    "ax.set_xscale('log')\n",
    "plt.xlim(0.001,1.1)\n",
    "#plt.ylim(0.0,0.09)\n",
    "z_rms_smoothed = gaussian_filter1d(dfrms_avg.z_velocity, sigma=0.5)\n",
    "plt.plot(df.OneMin_rPlus,df.Uz_rmsPlus, color ='black', linewidth=2, markersize=12)\n",
    "plt.plot(dfrms_avg.dist_norm,z_rms_smoothed,'--',color ='black', linewidth=3, markersize=12)\n",
    "plt.ylabel('$U_z^*$')\n",
    "plt.xlabel('$(1-r)^*$')\n",
    "plt.legend(['El Koury','First run'],loc='upper left');"
   ]
  },
  {
   "cell_type": "code",
   "execution_count": 28,
   "metadata": {},
   "outputs": [
    {
     "data": {
      "text/plain": [
       "Index(['distance_from_wall', 'x_velocity', 'y_velocity', 'z_velocity',\n",
       "       'shear_stress', 'dist_norm'],\n",
       "      dtype='object')"
      ]
     },
     "execution_count": 28,
     "metadata": {},
     "output_type": "execute_result"
    }
   ],
   "source": [
    "dfrms_avg.columns"
   ]
  },
  {
   "cell_type": "code",
   "execution_count": 29,
   "metadata": {},
   "outputs": [
    {
     "data": {
      "image/png": "[encoded data removed]",
      "text/plain": [
       "<Figure size 432x288 with 1 Axes>"
      ]
     },
     "metadata": {
      "needs_background": "light"
     },
     "output_type": "display_data"
    }
   ],
   "source": [
    "ax = plt.gca()\n",
    "# Set x logaritmic\n",
    "ax.set_xscale('log')\n",
    "plt.xlim(0.001,1.2)\n",
    "plt.ylim(0.0,0.09)\n",
    "y_rms_smoothed = gaussian_filter1d(dfrms_avg.y_velocity, sigma=0.5)\n",
    "plt.plot(df.OneMin_rPlus,df.Ut_rmsPlus, color ='black', linewidth=2, markersize=12)\n",
    "plt.plot(dfrms_avg.dist_norm,y_rms_smoothed,'--',color ='black', linewidth=3, markersize=12)\n",
    "\n",
    "plt.ylabel('$U_z^*$')\n",
    "plt.xlabel('$(1-r)^*$')\n",
    "plt.legend(['El Koury','First run'], loc='upper left');"
   ]
  },
  {
   "cell_type": "code",
   "execution_count": 30,
   "metadata": {},
   "outputs": [
    {
     "data": {
      "image/png": "[encoded data removed]",
      "text/plain": [
       "<Figure size 432x288 with 1 Axes>"
      ]
     },
     "metadata": {
      "needs_background": "light"
     },
     "output_type": "display_data"
    }
   ],
   "source": [
    "ax = plt.gca()\n",
    "# Set x logaritmic\n",
    "ax.set_xscale('log')\n",
    "plt.xlim(0.001,1.1)\n",
    "x_rms_smoothed = gaussian_filter1d(dfrms_avg.x_velocity, sigma=0.5)\n",
    "plt.plot(df.OneMin_rPlus,df.Ur_rmsPlus, color ='black', linewidth=2, markersize=12)\n",
    "plt.plot(dfrms_avg.dist_norm,x_rms_smoothed,'--',color ='black', linewidth=3, markersize=12)\n",
    "plt.ylabel('$U_z^*$')\n",
    "plt.xlabel('$(1-r)^*$')\n",
    "plt.legend(['El Koury','First run'], loc='upper left');"
   ]
  },
  {
   "cell_type": "code",
   "execution_count": 31,
   "metadata": {},
   "outputs": [
    {
     "data": {
      "image/png": "[encoded data removed]",
      "text/plain": [
       "<Figure size 432x288 with 1 Axes>"
      ]
     },
     "metadata": {
      "needs_background": "light"
     },
     "output_type": "display_data"
    }
   ],
   "source": [
    "ax = plt.gca()\n",
    "# Set x logaritmic\n",
    "ax.set_xscale('log')\n",
    "plt.xlim(0.001,1.2)\n",
    "plt.ylim(0.0,0.09)\n",
    "#shear_stress_rms_smoothed = gaussian_filter1d(np.sqrt(dfrms_avg.shear_stress), sigma=0.5)\n",
    "plt.plot(df.OneMin_rPlus,df.UzUrPlus, color ='black', linewidth=1)\n",
    "plt.plot(dfrms_avg.dist_norm,np.sqrt(dfrms_avg.shear_stress),'--',color ='black', linewidth=3)\n",
    "plt.ylabel('$U_z^*$')\n",
    "plt.xlabel('$(1-r)^*$')\n",
    "plt.legend(['El Koury','First run'], loc='upper left');"
   ]
  },
  {
   "cell_type": "code",
   "execution_count": 32,
   "metadata": {},
   "outputs": [
    {
     "data": {
      "image/png": "[encoded data removed]",
      "text/plain": [
       "<Figure size 432x288 with 1 Axes>"
      ]
     },
     "metadata": {
      "needs_background": "light"
     },
     "output_type": "display_data"
    }
   ],
   "source": [
    "ax = plt.gca()\n",
    "# Set x logaritmic\n",
    "ax.set_xscale('log')\n",
    "plt.xlim(0.001,1)\n",
    "plt.ylim(-0.01,0.2)\n",
    "plt.plot(df.OneMin_rPlus,df.Ut_rmsPlus, color ='black', linewidth=2, markersize=12)\n",
    "plt.plot(dfrms_avg.dist_norm,y_rms_smoothed,'--',color ='black', linewidth=3, markersize=12)\n",
    "\n",
    "plt.plot(df.OneMin_rPlus,df.Ur_rmsPlus, color ='black', linewidth=2, markersize=12)\n",
    "plt.plot(dfrms_avg.dist_norm,dfrms_avg.x_velocity,'--',color ='black', linewidth=3, markersize=12)\n",
    "\n",
    "plt.plot(df.OneMin_rPlus,df.Uz_rmsPlus, color ='black', linewidth=2, markersize=12)\n",
    "plt.plot(dfrms_avg.dist_norm,z_rms_smoothed,'--',color ='black', linewidth=3, markersize=12)\n",
    "plt.text(0.005,0.1, '$u_{RMS}^*$',fontsize=18)\n",
    "plt.text(0.01,0.07,'$w_{RMS}^*$',fontsize=18)\n",
    "plt.text(0.01,0.025,'$v_{RMS}^*$',fontsize=18)\n",
    "plt.text(0.001,0.18,'(a)',fontsize=18)\n",
    "plt.ylabel('$u_z^*$',fontsize=18)\n",
    "plt.xlabel('$(1-r)^*$',fontsize=18)\n",
    "plt.legend(['El Koury','First run'], loc='upper right');"
   ]
  },
  {
   "cell_type": "code",
   "execution_count": 33,
   "metadata": {},
   "outputs": [
    {
     "data": {
      "image/png": "[encoded data removed]",
      "text/plain": [
       "<Figure size 432x288 with 1 Axes>"
      ]
     },
     "metadata": {
      "needs_background": "light"
     },
     "output_type": "display_data"
    }
   ],
   "source": [
    "ax = plt.gca()\n",
    "# Set x logaritmic\n",
    "#ax.set_xscale('log')\n",
    "plt.xlim(-0.1,1)\n",
    "plt.ylim(0.01,0.2)\n",
    "plt.plot(df.OneMin_rPlus,df.Ut_rmsPlus, color ='black', linewidth=2, markersize=12)\n",
    "plt.plot(dfrms_avg.dist_norm,y_rms_smoothed,'--',color ='black', linewidth=3, markersize=12)\n",
    "plt.plot(df.OneMin_rPlus,df.Ur_rmsPlus, color ='black', linewidth=2, markersize=12)\n",
    "plt.plot(dfrms_avg.dist_norm,dfrms_avg.x_velocity,'--',color ='black', linewidth=3, markersize=12)\n",
    "plt.plot(df.OneMin_rPlus,df.Uz_rmsPlus, color ='black', linewidth=2, markersize=12)\n",
    "plt.plot(dfrms_avg.dist_norm,z_rms_smoothed,'--',color ='black', linewidth=3, markersize=12)\n",
    "plt.text(0.17,0.13, '$u_{RMS}^*$',fontsize=18)\n",
    "plt.text(0.1,0.09,'$w_{RMS}^*$',fontsize=18)\n",
    "plt.text(0.1,0.038,'$v_{RMS}^*$',fontsize=18)\n",
    "plt.text(-0.08,0.18,'(b)',fontsize=18)\n",
    "plt.ylabel('$u_z^*$',fontsize=18)\n",
    "plt.xlabel('$(1-r)^*$',fontsize=18)\n",
    "\n",
    "plt.legend(['El Koury','First run', 'red ', 'ble '], loc='upper right');"
   ]
  },
  {
   "cell_type": "code",
   "execution_count": 34,
   "metadata": {},
   "outputs": [
    {
     "data": {
      "image/png": "[encoded data removed]",
      "text/plain": [
       "<Figure size 432x288 with 1 Axes>"
      ]
     },
     "metadata": {
      "needs_background": "light"
     },
     "output_type": "display_data"
    }
   ],
   "source": [
    "ax = plt.gca()\n",
    "# Set x logaritmic\n",
    "ax.set_xscale('log')\n",
    "plt.xlim(0.001,1)\n",
    "plt.ylim(-0.01,0.2)\n",
    "plt.plot(df.OneMin_rPlus,df.Ut_rmsPlus, color ='black', linewidth=2, markersize=12)\n",
    "plt.plot(dfrms_avg.dist_norm,y_rms_smoothed,'--',color ='black', linewidth=3, markersize=12)\n",
    "\n",
    "plt.plot(df.OneMin_rPlus,df.Ur_rmsPlus, color ='black', linewidth=2, markersize=12)\n",
    "plt.plot(dfrms_avg.dist_norm,dfrms_avg.x_velocity,'--',color ='black', linewidth=3, markersize=12)\n",
    "\n",
    "plt.plot(df.OneMin_rPlus,df.Uz_rmsPlus, color ='black', linewidth=2, markersize=12)\n",
    "plt.plot(dfrms_avg.dist_norm,z_rms_smoothed,'--',color ='black', linewidth=3, markersize=12)\n",
    "plt.text(0.005,0.1, '$u_{RMS}^*$',fontsize=18)\n",
    "plt.text(0.01,0.07,'$w_{RMS}^*$',fontsize=18)\n",
    "plt.text(0.01,0.025,'$v_{RMS}^*$',fontsize=18)\n",
    "plt.text(0.001,0.18,'(a)',fontsize=18)\n",
    "plt.ylabel('$u_z^*$',fontsize=18)\n",
    "plt.xlabel('$(1-r)^*$',fontsize=18)\n",
    "plt.legend(['El Koury','First run'], loc='upper right');"
   ]
  },
  {
   "cell_type": "code",
   "execution_count": 36,
   "metadata": {},
   "outputs": [],
   "source": [
    "# x = df.OneMin_rPlus,\n",
    "# y = df.Uz_rmsPlus\n",
    "# data = [dict(\n",
    "#         visible = False,\n",
    "#         line=dict(color='#00CED1', width=6),\n",
    "#         name = '𝜈 = '+str(step),\n",
    "#         x = x,\n",
    "#         y = y)]\n",
    "# #data[10]['visible'] = True\n",
    "\n",
    "# steps = []\n",
    "# for i in range(len(data)):\n",
    "#     step = dict(\n",
    "#         method = 'restyle',\n",
    "#         args = ['visible', [False] * len(data)],\n",
    "#     )\n",
    "#     step['args'][1][i] = True # Toggle i'th trace to \"visible\"\n",
    "#     steps.append(step)\n",
    "\n",
    "# sliders = [dict(\n",
    "#     active = 10,\n",
    "#     currentvalue = {\"prefix\": \"Frequency: \"},\n",
    "#     pad = {\"t\": 50},\n",
    "#     steps = steps\n",
    "# )]\n",
    "\n",
    "# layout = dict(sliders=sliders)\n",
    "# fig = dict(data=data, layout=layout)\n",
    "# py.offline.iplot(fig)\n",
    "\n",
    "# #py.iplot(fig, filename='Sine Wave Slider')"
   ]
  },
  {
   "cell_type": "markdown",
   "metadata": {},
   "source": [
    "# Experimenting "
   ]
  },
  {
   "cell_type": "markdown",
   "metadata": {},
   "source": [
    "## Linear regression with marginal distributions"
   ]
  },
  {
   "cell_type": "code",
   "execution_count": 37,
   "metadata": {},
   "outputs": [],
   "source": [
    "#sns.set(style=\"darkgrid\")"
   ]
  },
  {
   "cell_type": "code",
   "execution_count": 38,
   "metadata": {},
   "outputs": [
    {
     "data": {
      "image/png": "[encoded data removed]",
      "text/plain": [
       "<Figure size 432x432 with 3 Axes>"
      ]
     },
     "metadata": {
      "needs_background": "light"
     },
     "output_type": "display_data"
    }
   ],
   "source": [
    "g = sns.jointplot(dfrms_avg.dist_norm,y_rms_smoothed, data=dfrms_avg, kind=\"reg\")"
   ]
  },
  {
   "cell_type": "code",
   "execution_count": 39,
   "metadata": {},
   "outputs": [
    {
     "data": {
      "image/png": "[encoded data removed]",
      "text/plain": [
       "<Figure size 432x432 with 3 Axes>"
      ]
     },
     "metadata": {
      "needs_background": "light"
     },
     "output_type": "display_data"
    }
   ],
   "source": [
    "g = sns.jointplot(dfrms_avg.dist_norm,x_rms_smoothed, data=dfrms_avg, kind=\"reg\")"
   ]
  },
  {
   "cell_type": "code",
   "execution_count": 40,
   "metadata": {},
   "outputs": [
    {
     "data": {
      "image/png": "[encoded data removed]",
      "text/plain": [
       "<Figure size 432x288 with 1 Axes>"
      ]
     },
     "metadata": {
      "needs_background": "light"
     },
     "output_type": "display_data"
    }
   ],
   "source": [
    "sns.boxplot(data=dfrms_avg, palette=\"deep\")\n",
    "sns.despine(left=True)"
   ]
  },
  {
   "cell_type": "code",
   "execution_count": 41,
   "metadata": {},
   "outputs": [
    {
     "data": {
      "text/plain": [
       "<seaborn.axisgrid.PairGrid at 0x171be7a0b88>"
      ]
     },
     "execution_count": 41,
     "metadata": {},
     "output_type": "execute_result"
    },
    {
     "data": {
      "image/png": "[encoded data removed]",
      "text/plain": [
       "<Figure size 1080x1080 with 42 Axes>"
      ]
     },
     "metadata": {
      "needs_background": "light"
     },
     "output_type": "display_data"
    }
   ],
   "source": [
    "sns.pairplot(dfrms_avg)"
   ]
  },
  {
   "cell_type": "code",
   "execution_count": 42,
   "metadata": {},
   "outputs": [
    {
     "data": {
      "text/plain": [
       "Index(['distance_from_wall', 'x_velocity', 'y_velocity', 'z_velocity',\n",
       "       'shear_stress', 'dist_norm'],\n",
       "      dtype='object')"
      ]
     },
     "execution_count": 42,
     "metadata": {},
     "output_type": "execute_result"
    }
   ],
   "source": [
    "dfrms_avg.columns"
   ]
  },
  {
   "cell_type": "code",
   "execution_count": 43,
   "metadata": {},
   "outputs": [],
   "source": [
    "# dfrms_avg['column2'] = np.where((dfrms_avg['dist_norm'] > 0.1)\n",
    "#                            & (dfrms_avg['dist_norm'] < 0.2]) ==2)) \n"
   ]
  },
  {
   "cell_type": "code",
   "execution_count": 44,
   "metadata": {},
   "outputs": [],
   "source": [
    "#xxx = dfrms_avg.dist_norm"
   ]
  },
  {
   "cell_type": "code",
   "execution_count": 45,
   "metadata": {},
   "outputs": [],
   "source": [
    "dfrms_avg.loc[(dfrms_avg.dist_norm < 1) , 'norm'] = 10\n",
    "dfrms_avg.loc[(dfrms_avg.dist_norm < 0.9) , 'norm'] = 9\n",
    "dfrms_avg.loc[(dfrms_avg.dist_norm < 0.8) , 'norm'] = 8\n",
    "dfrms_avg.loc[(dfrms_avg.dist_norm < 0.7) , 'norm'] = 7\n",
    "dfrms_avg.loc[(dfrms_avg.dist_norm < 0.6) , 'norm'] = 6\n",
    "dfrms_avg.loc[(dfrms_avg.dist_norm < 0.5) , 'norm'] = 5\n",
    "dfrms_avg.loc[(dfrms_avg.dist_norm < 0.4) , 'norm'] = 4\n",
    "dfrms_avg.loc[(dfrms_avg.dist_norm < 0.3) , 'norm'] = 3\n",
    "dfrms_avg.loc[(dfrms_avg.dist_norm < 0.2) , 'norm'] = 2\n",
    "dfrms_avg.loc[(dfrms_avg.dist_norm < 0.1) , 'norm'] = 1\n",
    "\n",
    "\n",
    "\n",
    "\n",
    "#dfrms_avg.loc[dfrms_avg['dist_norm'] > 0.1 and dfrms_avg['dist_norm'] < 0.2, 'dist_norm'] = 2\n"
   ]
  },
  {
   "cell_type": "code",
   "execution_count": 46,
   "metadata": {},
   "outputs": [
    {
     "data": {
      "text/html": [
       "<div>\n",
       "<style scoped>\n",
       "    .dataframe tbody tr th:only-of-type {\n",
       "        vertical-align: middle;\n",
       "    }\n",
       "\n",
       "    .dataframe tbody tr th {\n",
       "        vertical-align: top;\n",
       "    }\n",
       "\n",
       "    .dataframe thead th {\n",
       "        text-align: right;\n",
       "    }\n",
       "</style>\n",
       "<table border=\"1\" class=\"dataframe\">\n",
       "  <thead>\n",
       "    <tr style=\"text-align: right;\">\n",
       "      <th></th>\n",
       "      <th>distance_from_wall</th>\n",
       "      <th>x_velocity</th>\n",
       "      <th>y_velocity</th>\n",
       "      <th>z_velocity</th>\n",
       "      <th>shear_stress</th>\n",
       "      <th>dist_norm</th>\n",
       "      <th>norm</th>\n",
       "    </tr>\n",
       "  </thead>\n",
       "  <tbody>\n",
       "    <tr>\n",
       "      <td>0</td>\n",
       "      <td>0.00000</td>\n",
       "      <td>0.041569</td>\n",
       "      <td>0.043261</td>\n",
       "      <td>0.049835</td>\n",
       "      <td>0.000077</td>\n",
       "      <td>0.9984</td>\n",
       "      <td>10.0</td>\n",
       "    </tr>\n",
       "    <tr>\n",
       "      <td>1</td>\n",
       "      <td>0.00375</td>\n",
       "      <td>0.042475</td>\n",
       "      <td>0.042479</td>\n",
       "      <td>0.049859</td>\n",
       "      <td>0.000045</td>\n",
       "      <td>0.9909</td>\n",
       "      <td>10.0</td>\n",
       "    </tr>\n",
       "    <tr>\n",
       "      <td>2</td>\n",
       "      <td>0.00500</td>\n",
       "      <td>0.042461</td>\n",
       "      <td>0.042465</td>\n",
       "      <td>0.049881</td>\n",
       "      <td>0.000063</td>\n",
       "      <td>0.9884</td>\n",
       "      <td>10.0</td>\n",
       "    </tr>\n",
       "    <tr>\n",
       "      <td>3</td>\n",
       "      <td>0.01250</td>\n",
       "      <td>0.042497</td>\n",
       "      <td>0.042530</td>\n",
       "      <td>0.050017</td>\n",
       "      <td>0.000099</td>\n",
       "      <td>0.9734</td>\n",
       "      <td>10.0</td>\n",
       "    </tr>\n",
       "    <tr>\n",
       "      <td>4</td>\n",
       "      <td>0.01750</td>\n",
       "      <td>0.042543</td>\n",
       "      <td>0.042541</td>\n",
       "      <td>0.050174</td>\n",
       "      <td>0.000133</td>\n",
       "      <td>0.9634</td>\n",
       "      <td>10.0</td>\n",
       "    </tr>\n",
       "    <tr>\n",
       "      <td>...</td>\n",
       "      <td>...</td>\n",
       "      <td>...</td>\n",
       "      <td>...</td>\n",
       "      <td>...</td>\n",
       "      <td>...</td>\n",
       "      <td>...</td>\n",
       "      <td>...</td>\n",
       "    </tr>\n",
       "    <tr>\n",
       "      <td>95</td>\n",
       "      <td>0.18375</td>\n",
       "      <td>0.048645</td>\n",
       "      <td>0.053613</td>\n",
       "      <td>0.070103</td>\n",
       "      <td>0.001352</td>\n",
       "      <td>0.6309</td>\n",
       "      <td>7.0</td>\n",
       "    </tr>\n",
       "    <tr>\n",
       "      <td>96</td>\n",
       "      <td>0.18500</td>\n",
       "      <td>0.048727</td>\n",
       "      <td>0.054047</td>\n",
       "      <td>0.071129</td>\n",
       "      <td>0.001406</td>\n",
       "      <td>0.6284</td>\n",
       "      <td>7.0</td>\n",
       "    </tr>\n",
       "    <tr>\n",
       "      <td>97</td>\n",
       "      <td>0.18625</td>\n",
       "      <td>0.048702</td>\n",
       "      <td>0.054121</td>\n",
       "      <td>0.071408</td>\n",
       "      <td>0.001415</td>\n",
       "      <td>0.6259</td>\n",
       "      <td>7.0</td>\n",
       "    </tr>\n",
       "    <tr>\n",
       "      <td>98</td>\n",
       "      <td>0.18750</td>\n",
       "      <td>0.048868</td>\n",
       "      <td>0.054437</td>\n",
       "      <td>0.071908</td>\n",
       "      <td>0.001449</td>\n",
       "      <td>0.6234</td>\n",
       "      <td>7.0</td>\n",
       "    </tr>\n",
       "    <tr>\n",
       "      <td>99</td>\n",
       "      <td>0.18875</td>\n",
       "      <td>0.049013</td>\n",
       "      <td>0.054417</td>\n",
       "      <td>0.071741</td>\n",
       "      <td>0.001436</td>\n",
       "      <td>0.6209</td>\n",
       "      <td>7.0</td>\n",
       "    </tr>\n",
       "  </tbody>\n",
       "</table>\n",
       "<p>100 rows × 7 columns</p>\n",
       "</div>"
      ],
      "text/plain": [
       "    distance_from_wall  x_velocity  y_velocity  z_velocity  shear_stress  \\\n",
       "0              0.00000    0.041569    0.043261    0.049835      0.000077   \n",
       "1              0.00375    0.042475    0.042479    0.049859      0.000045   \n",
       "2              0.00500    0.042461    0.042465    0.049881      0.000063   \n",
       "3              0.01250    0.042497    0.042530    0.050017      0.000099   \n",
       "4              0.01750    0.042543    0.042541    0.050174      0.000133   \n",
       "..                 ...         ...         ...         ...           ...   \n",
       "95             0.18375    0.048645    0.053613    0.070103      0.001352   \n",
       "96             0.18500    0.048727    0.054047    0.071129      0.001406   \n",
       "97             0.18625    0.048702    0.054121    0.071408      0.001415   \n",
       "98             0.18750    0.048868    0.054437    0.071908      0.001449   \n",
       "99             0.18875    0.049013    0.054417    0.071741      0.001436   \n",
       "\n",
       "    dist_norm  norm  \n",
       "0      0.9984  10.0  \n",
       "1      0.9909  10.0  \n",
       "2      0.9884  10.0  \n",
       "3      0.9734  10.0  \n",
       "4      0.9634  10.0  \n",
       "..        ...   ...  \n",
       "95     0.6309   7.0  \n",
       "96     0.6284   7.0  \n",
       "97     0.6259   7.0  \n",
       "98     0.6234   7.0  \n",
       "99     0.6209   7.0  \n",
       "\n",
       "[100 rows x 7 columns]"
      ]
     },
     "execution_count": 46,
     "metadata": {},
     "output_type": "execute_result"
    }
   ],
   "source": [
    "dfrms_avg.head(100)"
   ]
  },
  {
   "cell_type": "code",
   "execution_count": 47,
   "metadata": {},
   "outputs": [],
   "source": [
    "#sns.pairplot(dfrms_avg, hue=\"norm\")"
   ]
  },
  {
   "cell_type": "code",
   "execution_count": 48,
   "metadata": {},
   "outputs": [
    {
     "data": {
      "text/plain": [
       "Index(['distance_from_wall', 'x_velocity', 'y_velocity', 'z_velocity',\n",
       "       'shear_stress', 'dist_norm', 'norm'],\n",
       "      dtype='object')"
      ]
     },
     "execution_count": 48,
     "metadata": {},
     "output_type": "execute_result"
    }
   ],
   "source": [
    "dfrms_avg.columns"
   ]
  },
  {
   "cell_type": "code",
   "execution_count": 49,
   "metadata": {},
   "outputs": [
    {
     "data": {
      "image/png": "[encoded data removed]",
      "text/plain": [
       "<Figure size 360x360 with 1 Axes>"
      ]
     },
     "metadata": {
      "needs_background": "light"
     },
     "output_type": "display_data"
    }
   ],
   "source": [
    "sns.catplot(x=\"norm\", y=\"z_velocity\", kind=\"swarm\", data=dfrms_avg);"
   ]
  },
  {
   "cell_type": "code",
   "execution_count": 50,
   "metadata": {},
   "outputs": [
    {
     "data": {
      "text/plain": [
       "<mpl_toolkits.mplot3d.art3d.Poly3DCollection at 0x171c0235388>"
      ]
     },
     "execution_count": 50,
     "metadata": {},
     "output_type": "execute_result"
    },
    {
     "data": {
      "image/png": "[encoded data removed]",
      "text/plain": [
       "<Figure size 432x288 with 1 Axes>"
      ]
     },
     "metadata": {
      "needs_background": "light"
     },
     "output_type": "display_data"
    }
   ],
   "source": [
    "from mpl_toolkits.mplot3d import Axes3D\n",
    "import matplotlib.pyplot as plt\n",
    "fig = plt.figure()\n",
    "ax = plt.axes(projection='3d')\n",
    "ax.plot_trisurf(dfrms_avg.x_velocity, dfrms_avg.y_velocity, dfrms_avg.dist_norm, cmap=plt.cm.jet, linewidth=0.1)\n",
    "#ax.contour3D(dfrms_avg.x_velocity, dfrms_avg.y_velocity, dfrms_avg.z_velocity, 50, cmap='binary')\n",
    "# ax.set_xlabel('x')\n",
    "# ax.set_ylabel('y')\n",
    "# ax.set_zlabel('z');\n",
    "\n",
    "\n"
   ]
  },
  {
   "cell_type": "code",
   "execution_count": 51,
   "metadata": {},
   "outputs": [
    {
     "data": {
      "image/png": "[encoded data removed]",
      "text/plain": [
       "<Figure size 432x288 with 1 Axes>"
      ]
     },
     "metadata": {
      "needs_background": "light"
     },
     "output_type": "display_data"
    }
   ],
   "source": [
    "fig = plt.figure()\n",
    "ax = plt.axes(projection='3d')\n",
    "ax.plot_trisurf(dfrms_avg.x_velocity, dfrms_avg.y_velocity, dfrms_avg.norm, cmap=plt.cm.jet, linewidth=0.1)\n",
    "ax.scatter3D(dfrms_avg.x_velocity, dfrms_avg.y_velocity, dfrms_avg.z_velocity, c=dfrms_avg.z_velocity);"
   ]
  },
  {
   "cell_type": "code",
   "execution_count": 52,
   "metadata": {},
   "outputs": [
    {
     "data": {
      "text/plain": [
       "<mpl_toolkits.mplot3d.art3d.Poly3DCollection at 0x171c04c4a48>"
      ]
     },
     "execution_count": 52,
     "metadata": {},
     "output_type": "execute_result"
    },
    {
     "data": {
      "image/png": "[encoded data removed]",
      "text/plain": [
       "<Figure size 432x288 with 1 Axes>"
      ]
     },
     "metadata": {
      "needs_background": "light"
     },
     "output_type": "display_data"
    }
   ],
   "source": [
    "fig = plt.figure()\n",
    "ax = plt.axes(projection='3d')\n",
    "ax.plot_trisurf(dfrms_avg.x_velocity, dfrms_avg.y_velocity, dfrms_avg.dist_norm, cmap=plt.cm.jet, linewidth=0.1)\n",
    "#ax.scatter3D(dfrms_avg.x_velocity, dfrms_avg.y_velocity, dfrms_avg.z_velocity, c=dfrms_avg.z_velocity);"
   ]
  },
  {
   "cell_type": "code",
   "execution_count": 53,
   "metadata": {},
   "outputs": [],
   "source": [
    "# from plotly.offline import download_plotlyjs, init_notebook_mode, plot, iplot\n",
    "# init_notebook_mode(connected=True)\n",
    "# from plotly.offline import plot as py\n",
    "# import plotly.graph_objects as go\n",
    "\n"
   ]
  },
  {
   "cell_type": "code",
   "execution_count": 54,
   "metadata": {},
   "outputs": [
    {
     "data": {
      "text/html": [
       "        <script type=\"text/javascript\">\n",
       "        window.PlotlyConfig = {MathJaxConfig: 'local'};\n",
       "        if (window.MathJax) {MathJax.Hub.Config({SVG: {font: \"STIX-Web\"}});}\n",
       "        if (typeof require !== 'undefined') {\n",
       "        require.undef(\"plotly\");\n",
       "        requirejs.config({\n",
       "            paths: {\n",
       "                'plotly': ['https://cdn.plot.ly/plotly-latest.min']\n",
       "            }\n",
       "        });\n",
       "        require(['plotly'], function(Plotly) {\n",
       "            window._Plotly = Plotly;\n",
       "        });\n",
       "        }\n",
       "        </script>\n",
       "        "
      ]
     },
     "metadata": {},
     "output_type": "display_data"
    }
   ],
   "source": []
  },
  {
   "cell_type": "code",
   "execution_count": 55,
   "metadata": {},
   "outputs": [
    {
     "data": {
      "application/vnd.plotly.v1+json": {
       "config": {
        "plotlyServerURL": "https://plot.ly"
       },
       "data": [
        {
         "mode": "lines",
         "name": "lines",
         "type": "scatter",
         "x": [
          0.9984,
          0.9909,
          0.9884,
          0.9733999999999999,
          0.9633999999999999,
          0.9483999999999999,
          0.9434,
          0.9283999999999999,
          0.9234,
          0.9183999999999999,
          0.9084,
          0.8983999999999999,
          0.8958999999999999,
          0.8909,
          0.8884,
          0.8808999999999999,
          0.8783999999999998,
          0.8734,
          0.8709,
          0.8659,
          0.8634000000000001,
          0.8583999999999999,
          0.8558999999999999,
          0.8509,
          0.8459,
          0.8433999999999999,
          0.8383999999999999,
          0.8333999999999999,
          0.8308999999999999,
          0.8284,
          0.8259,
          0.8234,
          0.8208999999999999,
          0.8184,
          0.8158999999999998,
          0.8109,
          0.8083999999999998,
          0.8033999999999999,
          0.7983999999999999,
          0.7959,
          0.7909000000000002,
          0.7884,
          0.7858999999999998,
          0.7834000000000001,
          0.7784,
          0.7734000000000001,
          0.7708999999999999,
          0.7683999999999997,
          0.7659,
          0.7609000000000001,
          0.7583999999999997,
          0.7533999999999998,
          0.7509000000000001,
          0.7484,
          0.7458999999999998,
          0.7434000000000001,
          0.7408999999999999,
          0.7384000000000002,
          0.7358999999999999,
          0.7334,
          0.7284000000000002,
          0.7258999999999999,
          0.7233999999999998,
          0.7209000000000001,
          0.7183999999999999,
          0.7159,
          0.7133999999999998,
          0.7109000000000001,
          0.7084000000000001,
          0.7058999999999997,
          0.7009,
          0.6983999999999999,
          0.6958999999999997,
          0.6934,
          0.6884,
          0.6859,
          0.6833999999999999,
          0.6808999999999998,
          0.6759000000000002,
          0.6734,
          0.6708999999999998,
          0.6683999999999999,
          0.6659000000000002,
          0.6633999999999998,
          0.6608999999999998,
          0.6584000000000001,
          0.6558999999999999,
          0.6534,
          0.6508999999999998,
          0.6484000000000001,
          0.6459000000000001,
          0.6433999999999997,
          0.6409,
          0.6384000000000001,
          0.6333999999999997,
          0.6309000000000001,
          0.6284000000000002,
          0.6258999999999999,
          0.6234,
          0.6209,
          0.6183999999999997,
          0.6158999999999998,
          0.6134000000000002,
          0.6109000000000001,
          0.6083999999999998,
          0.6058999999999999,
          0.6034000000000002,
          0.6008999999999997,
          0.5983999999999998,
          0.5959000000000001,
          0.5934000000000001,
          0.5908999999999998,
          0.5883999999999998,
          0.5859000000000002,
          0.5834000000000004,
          0.5808999999999997,
          0.5784,
          0.5759000000000001,
          0.5733999999999997,
          0.5708999999999997,
          0.5684000000000001,
          0.5659000000000003,
          0.5633999999999999,
          0.5609,
          0.5584,
          0.5558999999999996,
          0.5533999999999998,
          0.5509000000000002,
          0.5484000000000002,
          0.5458999999999998,
          0.5433999999999999,
          0.5409000000000003,
          0.5383999999999995,
          0.5358999999999997,
          0.5334000000000001,
          0.5309000000000001,
          0.5283999999999998,
          0.5258999999999998,
          0.5234000000000002,
          0.5209000000000004,
          0.5183999999999996,
          0.5159,
          0.5134000000000002,
          0.5108999999999997,
          0.5083999999999997,
          0.5059000000000001,
          0.5034000000000003,
          0.5008999999999998,
          0.49839999999999995,
          0.49590000000000034,
          0.4933999999999996,
          0.4908999999999998,
          0.48840000000000006,
          0.4859000000000002,
          0.4833999999999997,
          0.4809,
          0.47840000000000027,
          0.47589999999999955,
          0.4733999999999998,
          0.4709,
          0.46840000000000015,
          0.46589999999999976,
          0.4633999999999999,
          0.4609000000000001,
          0.45840000000000036,
          0.45589999999999964,
          0.4533999999999998,
          0.4509000000000002,
          0.4483999999999997,
          0.44589999999999996,
          0.4434000000000001,
          0.4409000000000002,
          0.4383999999999998,
          0.43589999999999995,
          0.4334000000000001,
          0.4308999999999997,
          0.4283999999999998,
          0.42589999999999983,
          0.42340000000000033,
          0.4208999999999997,
          0.4184000000000002,
          0.41590000000000027,
          0.41339999999999955,
          0.41089999999999993,
          0.4084,
          0.40590000000000004,
          0.4034,
          0.4008999999999999,
          0.39839999999999987,
          0.39590000000000036,
          0.39339999999999964,
          0.3908999999999997,
          0.3884000000000002,
          0.3858999999999996,
          0.3834000000000001,
          0.3809000000000001,
          0.37840000000000007,
          0.3758999999999999,
          0.37339999999999995,
          0.3709,
          0.36839999999999984,
          0.3658999999999998,
          0.3633999999999997,
          0.36090000000000033,
          0.3583999999999997,
          0.3559000000000003,
          0.35340000000000027,
          0.35089999999999943,
          0.34840000000000015,
          0.3459,
          0.3433999999999998,
          0.3409000000000001,
          0.3383999999999999,
          0.33589999999999975,
          0.3334000000000005,
          0.33089999999999964,
          0.32839999999999947,
          0.3259000000000002,
          0.3233999999999996,
          0.3209000000000003,
          0.3184000000000001,
          0.31589999999999996,
          0.3134,
          0.31089999999999995,
          0.3083999999999999,
          0.30589999999999995,
          0.3033999999999998,
          0.3008999999999996,
          0.29840000000000033,
          0.2958999999999997,
          0.29340000000000044,
          0.29090000000000027,
          0.28839999999999943,
          0.28590000000000015,
          0.2834,
          0.2808999999999998,
          0.2784000000000001,
          0.2758999999999999,
          0.27339999999999975,
          0.2709000000000005,
          0.26839999999999964,
          0.26589999999999936,
          0.2634000000000003,
          0.2608999999999996,
          0.2584000000000004,
          0.2559000000000001,
          0.25339999999999985,
          0.2509000000000001,
          0.24839999999999995,
          0.24589999999999979,
          0.24340000000000006,
          0.24089999999999978,
          0.2383999999999995,
          0.23590000000000033,
          0.2333999999999996,
          0.23090000000000055,
          0.22840000000000027,
          0.22589999999999943,
          0.22340000000000027,
          0.22089999999999999,
          0.2183999999999997,
          0.2159000000000002,
          0.21339999999999992,
          0.21089999999999964,
          0.20840000000000047,
          0.20589999999999964,
          0.20339999999999936,
          0.2009000000000003,
          0.19839999999999958,
          0.19590000000000052,
          0.19340000000000013,
          0.19089999999999985,
          0.18840000000000023,
          0.18589999999999995,
          0.18339999999999967,
          0.18090000000000006,
          0.17839999999999978,
          0.1758999999999994,
          0.17340000000000044,
          0.1708999999999996,
          0.16840000000000066,
          0.16590000000000027,
          0.16339999999999943,
          0.16090000000000038,
          0.15839999999999999,
          0.1558999999999996,
          0.15340000000000031,
          0.15089999999999992,
          0.14839999999999953,
          0.14590000000000047,
          0.14339999999999964,
          0.14089999999999925,
          0.1384000000000003,
          0.13589999999999947,
          0.13340000000000052,
          0.13090000000000013,
          0.12839999999999974,
          0.12590000000000023,
          0.12339999999999995,
          0.12089999999999967,
          0.11840000000000017,
          0.11589999999999978,
          0.11339999999999939,
          0.11090000000000044,
          0.10839999999999961,
          0.10590000000000077,
          0.10340000000000027,
          0.10089999999999932,
          0.09840000000000049,
          0.09589999999999999,
          0.0933999999999996,
          0.09090000000000031,
          0.08839999999999992,
          0.08589999999999942,
          0.08340000000000058,
          0.08089999999999964,
          0.07839999999999914,
          0.0759000000000003,
          0.07339999999999947,
          0.07090000000000063,
          0.06840000000000013,
          0.06589999999999974,
          0.06340000000000034,
          0.060899999999999954,
          0.05839999999999956,
          0.05590000000000028,
          0.05339999999999978,
          0.05089999999999928,
          0.04840000000000044,
          0.04589999999999961,
          0.04340000000000077,
          0.04090000000000027,
          0.038399999999999324,
          0.03590000000000049,
          0.033399999999999985,
          0.030899999999999483,
          0.028400000000000425,
          0.025899999999999923,
          0.02339999999999942,
          0.01839999999999964,
          0.015899999999999137,
          0.010899999999999466,
          0.00840000000000063,
          0.0033999999999996255,
          0.000900000000000345,
          -0.0016000000000000458
         ],
         "y": [
          1.2669506875000003,
          1.2669122812499998,
          1.2668753125,
          1.2665826562499998,
          1.2662593437499998,
          1.26567534375,
          1.2653569375000002,
          1.2644563124999997,
          1.2640553125000002,
          1.2637459062499998,
          1.26285615625,
          1.2619828125000003,
          1.2616846562499995,
          1.26126678125,
          1.2608033124999998,
          1.260086125,
          1.259800375,
          1.2590815625000003,
          1.258813375,
          1.2579790625,
          1.2578258749999998,
          1.2573074062499998,
          1.2568300937500003,
          1.256335,
          1.2553609687500003,
          1.2553633437499998,
          1.2543590937499998,
          1.2535356875,
          1.25330678125,
          1.2528129375000003,
          1.2525550624999997,
          1.2516349375,
          1.2515290937499999,
          1.2508524375,
          1.250592875,
          1.2495968750000002,
          1.2490387812500001,
          1.24816834375,
          1.24713771875,
          1.2467934375,
          1.24581359375,
          1.2452592812499998,
          1.2448144062499997,
          1.2443553125,
          1.2434214687500003,
          1.2421711875,
          1.2419101562500003,
          1.2410809062500001,
          1.2405187812499998,
          1.23960971875,
          1.2387465312500001,
          1.2379214062500004,
          1.2371489687499997,
          1.23650334375,
          1.236173375,
          1.2353961249999996,
          1.2349104687499999,
          1.2342845937500002,
          1.23373796875,
          1.23323490625,
          1.23188971875,
          1.23116025,
          1.2303056874999998,
          1.2300108124999998,
          1.2293550000000002,
          1.2286050000000002,
          1.2281945624999997,
          1.2275529375,
          1.2265170625000004,
          1.2257193124999997,
          1.2245777500000001,
          1.2240763124999998,
          1.2233789375,
          1.2226563437500002,
          1.22138675,
          1.220630625,
          1.2196599687499998,
          1.2190175312499998,
          1.2175874375,
          1.2172347187499999,
          1.2161595937499998,
          1.2153098125,
          1.2147231875,
          1.21373975,
          1.2132573125000001,
          1.2120793124999998,
          1.211503625,
          1.2105626562499998,
          1.2099380937500002,
          1.2096561875000005,
          1.2079456250000002,
          1.20797640625,
          1.2073993125,
          1.20637665625,
          1.2046785,
          1.2036069999999996,
          1.2023766249999999,
          1.20173121875,
          1.20026596875,
          1.1997355312500002,
          1.1983543125,
          1.1993837812500003,
          1.1974094375000002,
          1.196566375,
          1.1963026874999998,
          1.19458740625,
          1.1940800624999999,
          1.1940236562500002,
          1.1918153749999998,
          1.1920993125,
          1.1899219374999999,
          1.1899809062500002,
          1.1890529062500002,
          1.1881882500000003,
          1.187681875,
          1.1857012187499998,
          1.1858621250000003,
          1.1855138124999998,
          1.18407325,
          1.1815186562499997,
          1.18148671875,
          1.18099525,
          1.17977003125,
          1.1802095937500001,
          1.177928125,
          1.17736440625,
          1.17718996875,
          1.1745197187499998,
          1.1752862499999996,
          1.17418978125,
          1.169028875,
          1.1716648125000002,
          1.1712435312500002,
          1.1697961875,
          1.1658583750000002,
          1.1654481875,
          1.1669682500000003,
          1.16796396875,
          1.1655671875,
          1.1648235624999999,
          1.16055828125,
          1.1617869062500001,
          1.1600437187500001,
          1.15831,
          1.1578808125,
          1.1547662500000002,
          1.1590706874999999,
          1.1530233437500002,
          1.15485490625,
          1.1517813437500004,
          1.1496116250000001,
          1.1492336874999995,
          1.150117125,
          1.14505525,
          1.14557696875,
          1.1462257812499999,
          1.1449675937500001,
          1.1440795937500001,
          1.14403678125,
          1.14183671875,
          1.13955615625,
          1.1379461562500002,
          1.1399651875,
          1.135876875,
          1.1366819999999997,
          1.13615153125,
          1.13304059375,
          1.1352030625,
          1.1324505312499995,
          1.1356598125000001,
          1.1286174374999998,
          1.1238149687499999,
          1.1261595312500003,
          1.12627984375,
          1.1280056875000002,
          1.126495375,
          1.1256270312499999,
          1.1200439062499996,
          1.12431221875,
          1.1212878437500002,
          1.1185075625,
          1.1164267187499999,
          1.1167352187500001,
          1.1156867187500001,
          1.11706478125,
          1.116398625,
          1.11351003125,
          1.1134877187499999,
          1.111851625,
          1.1108563749999998,
          1.1050536562500002,
          1.0998173750000002,
          1.10347496875,
          1.1039145000000001,
          1.1056691875000002,
          1.10180990625,
          1.1022410625,
          1.0954181874999998,
          1.093278375,
          1.09618325,
          1.09032690625,
          1.0900503749999997,
          1.0905115624999997,
          1.0869106249999996,
          1.08813925,
          1.0872011875,
          1.0841605312499998,
          1.0838803124999998,
          1.0834683437499997,
          1.08568884375,
          1.0799234375,
          1.0747346249999998,
          1.0793298125000002,
          1.08019840625,
          1.0764779375,
          1.07773678125,
          1.07334978125,
          1.07444303125,
          1.0726326874999998,
          1.0728027187499996,
          1.0657402500000002,
          1.06445075,
          1.0670363749999998,
          1.0652572812499999,
          1.0635839374999998,
          1.062883,
          1.063122,
          1.0612866562499998,
          1.06214153125,
          1.059679,
          1.05515653125,
          1.0502100625000002,
          1.0538722187500003,
          1.0471240000000002,
          1.0502674687500002,
          1.05074303125,
          1.0495580625000003,
          1.0478423749999999,
          1.0442081250000002,
          1.04118040625,
          1.0371178125000002,
          1.0358141875000002,
          1.0365886875,
          1.037760875,
          1.03695690625,
          1.03365625,
          1.03137434375,
          1.02488809375,
          1.0243339999999999,
          1.0221144062500003,
          1.0177448125,
          1.01968665625,
          1.0196490312500002,
          1.0141288124999999,
          1.0149263124999999,
          1.0168840000000001,
          1.0125469374999998,
          1.0129342187500001,
          1.01163424375,
          1.005471596875,
          1.0051918250000003,
          1.003988003125,
          1.0050478437500001,
          1.004940921875,
          1.00435844375,
          1.001367090625,
          0.9995892718749999,
          0.999384421875,
          0.9880405031250002,
          0.9875376999999999,
          0.9891442625,
          0.98690323125,
          0.987949325,
          0.9827995312500001,
          0.9802017874999999,
          0.9801826124999999,
          0.977294609375,
          0.979810446875,
          0.968025590625,
          0.9656789218749998,
          0.966406815625,
          0.9617055531249998,
          0.9640965218750002,
          0.9573183375,
          0.9586782312500001,
          0.9613786343750002,
          0.956343959375,
          0.9458435406250001,
          0.9445494718749998,
          0.941698040625,
          0.93699014375,
          0.9426306843749999,
          0.9369410781249999,
          0.940867696875,
          0.9259458093749999,
          0.925682771875,
          0.925020171875,
          0.916801334375,
          0.9152262499999999,
          0.9106563312499997,
          0.909764065625,
          0.90782696875,
          0.9070358875000002,
          0.897890971875,
          0.8997769781250001,
          0.89440806875,
          0.8948609375000001,
          0.8901342406249998,
          0.8883853999999999,
          0.8736595812499999,
          0.8675583374999999,
          0.8642136406249997,
          0.8618195718750002,
          0.861668021875,
          0.8552196562499997,
          0.8395736281250001,
          0.8337082625000001,
          0.8289677062499998,
          0.8206220906250001,
          0.819610371875,
          0.815599325,
          0.793582678125,
          0.787277253125,
          0.7735087625000001,
          0.7714612125000001,
          0.759655503125,
          0.7425706968749999,
          0.7270711187500001,
          0.7154482906249998,
          0.6989799749999999,
          0.685419690625,
          0.6717149156249999,
          0.6478157125,
          0.6258607906250001,
          0.608147578125,
          0.5625162656250001,
          0.5409590437500001,
          0.5140801687499998,
          0.490923540625,
          0.39724802499999995,
          0.35892133437500007,
          0.223118325,
          0.20465482812499994,
          0.06759608468749999,
          0,
          0
         ]
        }
       ],
       "layout": {
        "template": {
         "data": {
          "bar": [
           {
            "error_x": {
             "color": "#2a3f5f"
            },
            "error_y": {
             "color": "#2a3f5f"
            },
            "marker": {
             "line": {
              "color": "#E5ECF6",
              "width": 0.5
             }
            },
            "type": "bar"
           }
          ],
          "barpolar": [
           {
            "marker": {
             "line": {
              "color": "#E5ECF6",
              "width": 0.5
             }
            },
            "type": "barpolar"
           }
          ],
          "carpet": [
           {
            "aaxis": {
             "endlinecolor": "#2a3f5f",
             "gridcolor": "white",
             "linecolor": "white",
             "minorgridcolor": "white",
             "startlinecolor": "#2a3f5f"
            },
            "baxis": {
             "endlinecolor": "#2a3f5f",
             "gridcolor": "white",
             "linecolor": "white",
             "minorgridcolor": "white",
             "startlinecolor": "#2a3f5f"
            },
            "type": "carpet"
           }
          ],
          "choropleth": [
           {
            "colorbar": {
             "outlinewidth": 0,
             "ticks": ""
            },
            "type": "choropleth"
           }
          ],
          "contour": [
           {
            "colorbar": {
             "outlinewidth": 0,
             "ticks": ""
            },
            "colorscale": [
             [
              0,
              "#0d0887"
             ],
             [
              0.1111111111111111,
              "#46039f"
             ],
             [
              0.2222222222222222,
              "#7201a8"
             ],
             [
              0.3333333333333333,
              "#9c179e"
             ],
             [
              0.4444444444444444,
              "#bd3786"
             ],
             [
              0.5555555555555556,
              "#d8576b"
             ],
             [
              0.6666666666666666,
              "#ed7953"
             ],
             [
              0.7777777777777778,
              "#fb9f3a"
             ],
             [
              0.8888888888888888,
              "#fdca26"
             ],
             [
              1,
              "#f0f921"
             ]
            ],
            "type": "contour"
           }
          ],
          "contourcarpet": [
           {
            "colorbar": {
             "outlinewidth": 0,
             "ticks": ""
            },
            "type": "contourcarpet"
           }
          ],
          "heatmap": [
           {
            "colorbar": {
             "outlinewidth": 0,
             "ticks": ""
            },
            "colorscale": [
             [
              0,
              "#0d0887"
             ],
             [
              0.1111111111111111,
              "#46039f"
             ],
             [
              0.2222222222222222,
              "#7201a8"
             ],
             [
              0.3333333333333333,
              "#9c179e"
             ],
             [
              0.4444444444444444,
              "#bd3786"
             ],
             [
              0.5555555555555556,
              "#d8576b"
             ],
             [
              0.6666666666666666,
              "#ed7953"
             ],
             [
              0.7777777777777778,
              "#fb9f3a"
             ],
             [
              0.8888888888888888,
              "#fdca26"
             ],
             [
              1,
              "#f0f921"
             ]
            ],
            "type": "heatmap"
           }
          ],
          "heatmapgl": [
           {
            "colorbar": {
             "outlinewidth": 0,
             "ticks": ""
            },
            "colorscale": [
             [
              0,
              "#0d0887"
             ],
             [
              0.1111111111111111,
              "#46039f"
             ],
             [
              0.2222222222222222,
              "#7201a8"
             ],
             [
              0.3333333333333333,
              "#9c179e"
             ],
             [
              0.4444444444444444,
              "#bd3786"
             ],
             [
              0.5555555555555556,
              "#d8576b"
             ],
             [
              0.6666666666666666,
              "#ed7953"
             ],
             [
              0.7777777777777778,
              "#fb9f3a"
             ],
             [
              0.8888888888888888,
              "#fdca26"
             ],
             [
              1,
              "#f0f921"
             ]
            ],
            "type": "heatmapgl"
           }
          ],
          "histogram": [
           {
            "marker": {
             "colorbar": {
              "outlinewidth": 0,
              "ticks": ""
             }
            },
            "type": "histogram"
           }
          ],
          "histogram2d": [
           {
            "colorbar": {
             "outlinewidth": 0,
             "ticks": ""
            },
            "colorscale": [
             [
              0,
              "#0d0887"
             ],
             [
              0.1111111111111111,
              "#46039f"
             ],
             [
              0.2222222222222222,
              "#7201a8"
             ],
             [
              0.3333333333333333,
              "#9c179e"
             ],
             [
              0.4444444444444444,
              "#bd3786"
             ],
             [
              0.5555555555555556,
              "#d8576b"
             ],
             [
              0.6666666666666666,
              "#ed7953"
             ],
             [
              0.7777777777777778,
              "#fb9f3a"
             ],
             [
              0.8888888888888888,
              "#fdca26"
             ],
             [
              1,
              "#f0f921"
             ]
            ],
            "type": "histogram2d"
           }
          ],
          "histogram2dcontour": [
           {
            "colorbar": {
             "outlinewidth": 0,
             "ticks": ""
            },
            "colorscale": [
             [
              0,
              "#0d0887"
             ],
             [
              0.1111111111111111,
              "#46039f"
             ],
             [
              0.2222222222222222,
              "#7201a8"
             ],
             [
              0.3333333333333333,
              "#9c179e"
             ],
             [
              0.4444444444444444,
              "#bd3786"
             ],
             [
              0.5555555555555556,
              "#d8576b"
             ],
             [
              0.6666666666666666,
              "#ed7953"
             ],
             [
              0.7777777777777778,
              "#fb9f3a"
             ],
             [
              0.8888888888888888,
              "#fdca26"
             ],
             [
              1,
              "#f0f921"
             ]
            ],
            "type": "histogram2dcontour"
           }
          ],
          "mesh3d": [
           {
            "colorbar": {
             "outlinewidth": 0,
             "ticks": ""
            },
            "type": "mesh3d"
           }
          ],
          "parcoords": [
           {
            "line": {
             "colorbar": {
              "outlinewidth": 0,
              "ticks": ""
             }
            },
            "type": "parcoords"
           }
          ],
          "pie": [
           {
            "automargin": true,
            "type": "pie"
           }
          ],
          "scatter": [
           {
            "marker": {
             "colorbar": {
              "outlinewidth": 0,
              "ticks": ""
             }
            },
            "type": "scatter"
           }
          ],
          "scatter3d": [
           {
            "line": {
             "colorbar": {
              "outlinewidth": 0,
              "ticks": ""
             }
            },
            "marker": {
             "colorbar": {
              "outlinewidth": 0,
              "ticks": ""
             }
            },
            "type": "scatter3d"
           }
          ],
          "scattercarpet": [
           {
            "marker": {
             "colorbar": {
              "outlinewidth": 0,
              "ticks": ""
             }
            },
            "type": "scattercarpet"
           }
          ],
          "scattergeo": [
           {
            "marker": {
             "colorbar": {
              "outlinewidth": 0,
              "ticks": ""
             }
            },
            "type": "scattergeo"
           }
          ],
          "scattergl": [
           {
            "marker": {
             "colorbar": {
              "outlinewidth": 0,
              "ticks": ""
             }
            },
            "type": "scattergl"
           }
          ],
          "scattermapbox": [
           {
            "marker": {
             "colorbar": {
              "outlinewidth": 0,
              "ticks": ""
             }
            },
            "type": "scattermapbox"
           }
          ],
          "scatterpolar": [
           {
            "marker": {
             "colorbar": {
              "outlinewidth": 0,
              "ticks": ""
             }
            },
            "type": "scatterpolar"
           }
          ],
          "scatterpolargl": [
           {
            "marker": {
             "colorbar": {
              "outlinewidth": 0,
              "ticks": ""
             }
            },
            "type": "scatterpolargl"
           }
          ],
          "scatterternary": [
           {
            "marker": {
             "colorbar": {
              "outlinewidth": 0,
              "ticks": ""
             }
            },
            "type": "scatterternary"
           }
          ],
          "surface": [
           {
            "colorbar": {
             "outlinewidth": 0,
             "ticks": ""
            },
            "colorscale": [
             [
              0,
              "#0d0887"
             ],
             [
              0.1111111111111111,
              "#46039f"
             ],
             [
              0.2222222222222222,
              "#7201a8"
             ],
             [
              0.3333333333333333,
              "#9c179e"
             ],
             [
              0.4444444444444444,
              "#bd3786"
             ],
             [
              0.5555555555555556,
              "#d8576b"
             ],
             [
              0.6666666666666666,
              "#ed7953"
             ],
             [
              0.7777777777777778,
              "#fb9f3a"
             ],
             [
              0.8888888888888888,
              "#fdca26"
             ],
             [
              1,
              "#f0f921"
             ]
            ],
            "type": "surface"
           }
          ],
          "table": [
           {
            "cells": {
             "fill": {
              "color": "#EBF0F8"
             },
             "line": {
              "color": "white"
             }
            },
            "header": {
             "fill": {
              "color": "#C8D4E3"
             },
             "line": {
              "color": "white"
             }
            },
            "type": "table"
           }
          ]
         },
         "layout": {
          "annotationdefaults": {
           "arrowcolor": "#2a3f5f",
           "arrowhead": 0,
           "arrowwidth": 1
          },
          "coloraxis": {
           "colorbar": {
            "outlinewidth": 0,
            "ticks": ""
           }
          },
          "colorscale": {
           "diverging": [
            [
             0,
             "#8e0152"
            ],
            [
             0.1,
             "#c51b7d"
            ],
            [
             0.2,
             "#de77ae"
            ],
            [
             0.3,
             "#f1b6da"
            ],
            [
             0.4,
             "#fde0ef"
            ],
            [
             0.5,
             "#f7f7f7"
            ],
            [
             0.6,
             "#e6f5d0"
            ],
            [
             0.7,
             "#b8e186"
            ],
            [
             0.8,
             "#7fbc41"
            ],
            [
             0.9,
             "#4d9221"
            ],
            [
             1,
             "#276419"
            ]
           ],
           "sequential": [
            [
             0,
             "#0d0887"
            ],
            [
             0.1111111111111111,
             "#46039f"
            ],
            [
             0.2222222222222222,
             "#7201a8"
            ],
            [
             0.3333333333333333,
             "#9c179e"
            ],
            [
             0.4444444444444444,
             "#bd3786"
            ],
            [
             0.5555555555555556,
             "#d8576b"
            ],
            [
             0.6666666666666666,
             "#ed7953"
            ],
            [
             0.7777777777777778,
             "#fb9f3a"
            ],
            [
             0.8888888888888888,
             "#fdca26"
            ],
            [
             1,
             "#f0f921"
            ]
           ],
           "sequentialminus": [
            [
             0,
             "#0d0887"
            ],
            [
             0.1111111111111111,
             "#46039f"
            ],
            [
             0.2222222222222222,
             "#7201a8"
            ],
            [
             0.3333333333333333,
             "#9c179e"
            ],
            [
             0.4444444444444444,
             "#bd3786"
            ],
            [
             0.5555555555555556,
             "#d8576b"
            ],
            [
             0.6666666666666666,
             "#ed7953"
            ],
            [
             0.7777777777777778,
             "#fb9f3a"
            ],
            [
             0.8888888888888888,
             "#fdca26"
            ],
            [
             1,
             "#f0f921"
            ]
           ]
          },
          "colorway": [
           "#636efa",
           "#EF553B",
           "#00cc96",
           "#ab63fa",
           "#FFA15A",
           "#19d3f3",
           "#FF6692",
           "#B6E880",
           "#FF97FF",
           "#FECB52"
          ],
          "font": {
           "color": "#2a3f5f"
          },
          "geo": {
           "bgcolor": "white",
           "lakecolor": "white",
           "landcolor": "#E5ECF6",
           "showlakes": true,
           "showland": true,
           "subunitcolor": "white"
          },
          "hoverlabel": {
           "align": "left"
          },
          "hovermode": "closest",
          "mapbox": {
           "style": "light"
          },
          "paper_bgcolor": "white",
          "plot_bgcolor": "#E5ECF6",
          "polar": {
           "angularaxis": {
            "gridcolor": "white",
            "linecolor": "white",
            "ticks": ""
           },
           "bgcolor": "#E5ECF6",
           "radialaxis": {
            "gridcolor": "white",
            "linecolor": "white",
            "ticks": ""
           }
          },
          "scene": {
           "xaxis": {
            "backgroundcolor": "#E5ECF6",
            "gridcolor": "white",
            "gridwidth": 2,
            "linecolor": "white",
            "showbackground": true,
            "ticks": "",
            "zerolinecolor": "white"
           },
           "yaxis": {
            "backgroundcolor": "#E5ECF6",
            "gridcolor": "white",
            "gridwidth": 2,
            "linecolor": "white",
            "showbackground": true,
            "ticks": "",
            "zerolinecolor": "white"
           },
           "zaxis": {
            "backgroundcolor": "#E5ECF6",
            "gridcolor": "white",
            "gridwidth": 2,
            "linecolor": "white",
            "showbackground": true,
            "ticks": "",
            "zerolinecolor": "white"
           }
          },
          "shapedefaults": {
           "line": {
            "color": "#2a3f5f"
           }
          },
          "ternary": {
           "aaxis": {
            "gridcolor": "white",
            "linecolor": "white",
            "ticks": ""
           },
           "baxis": {
            "gridcolor": "white",
            "linecolor": "white",
            "ticks": ""
           },
           "bgcolor": "#E5ECF6",
           "caxis": {
            "gridcolor": "white",
            "linecolor": "white",
            "ticks": ""
           }
          },
          "title": {
           "x": 0.05
          },
          "xaxis": {
           "automargin": true,
           "gridcolor": "white",
           "linecolor": "white",
           "ticks": "",
           "title": {
            "standoff": 15
           },
           "zerolinecolor": "white",
           "zerolinewidth": 2
          },
          "yaxis": {
           "automargin": true,
           "gridcolor": "white",
           "linecolor": "white",
           "ticks": "",
           "title": {
            "standoff": 15
           },
           "zerolinecolor": "white",
           "zerolinewidth": 2
          }
         }
        }
       }
      },
      "text/html": [
       "<div>\n",
       "        \n",
       "        \n",
       "            <div id=\"694ba32e-7f78-425d-86c2-fd16b8062af3\" class=\"plotly-graph-div\" style=\"height:525px; width:100%;\"></div>\n",
       "            <script type=\"text/javascript\">\n",
       "                require([\"plotly\"], function(Plotly) {\n",
       "                    window.PLOTLYENV=window.PLOTLYENV || {};\n",
       "                    \n",
       "                if (document.getElementById(\"694ba32e-7f78-425d-86c2-fd16b8062af3\")) {\n",
       "                    Plotly.newPlot(\n",
       "                        '694ba32e-7f78-425d-86c2-fd16b8062af3',\n",
       "                        [{\"mode\": \"lines\", \"name\": \"lines\", \"type\": \"scatter\", \"x\": [0.9984, 0.9909, 0.9884, 0.9733999999999999, 0.9633999999999999, 0.9483999999999999, 0.9434, 0.9283999999999999, 0.9234, 0.9183999999999999, 0.9084, 0.8983999999999999, 0.8958999999999999, 0.8909, 0.8884, 0.8808999999999999, 0.8783999999999998, 0.8734, 0.8709, 0.8659, 0.8634000000000001, 0.8583999999999999, 0.8558999999999999, 0.8509, 0.8459, 0.8433999999999999, 0.8383999999999999, 0.8333999999999999, 0.8308999999999999, 0.8284, 0.8259, 0.8234, 0.8208999999999999, 0.8184, 0.8158999999999998, 0.8109, 0.8083999999999998, 0.8033999999999999, 0.7983999999999999, 0.7959, 0.7909000000000002, 0.7884, 0.7858999999999998, 0.7834000000000001, 0.7784, 0.7734000000000001, 0.7708999999999999, 0.7683999999999997, 0.7659, 0.7609000000000001, 0.7583999999999997, 0.7533999999999998, 0.7509000000000001, 0.7484, 0.7458999999999998, 0.7434000000000001, 0.7408999999999999, 0.7384000000000002, 0.7358999999999999, 0.7334, 0.7284000000000002, 0.7258999999999999, 0.7233999999999998, 0.7209000000000001, 0.7183999999999999, 0.7159, 0.7133999999999998, 0.7109000000000001, 0.7084000000000001, 0.7058999999999997, 0.7009, 0.6983999999999999, 0.6958999999999997, 0.6934, 0.6884, 0.6859, 0.6833999999999999, 0.6808999999999998, 0.6759000000000002, 0.6734, 0.6708999999999998, 0.6683999999999999, 0.6659000000000002, 0.6633999999999998, 0.6608999999999998, 0.6584000000000001, 0.6558999999999999, 0.6534, 0.6508999999999998, 0.6484000000000001, 0.6459000000000001, 0.6433999999999997, 0.6409, 0.6384000000000001, 0.6333999999999997, 0.6309000000000001, 0.6284000000000002, 0.6258999999999999, 0.6234, 0.6209, 0.6183999999999997, 0.6158999999999998, 0.6134000000000002, 0.6109000000000001, 0.6083999999999998, 0.6058999999999999, 0.6034000000000002, 0.6008999999999997, 0.5983999999999998, 0.5959000000000001, 0.5934000000000001, 0.5908999999999998, 0.5883999999999998, 0.5859000000000002, 0.5834000000000004, 0.5808999999999997, 0.5784, 0.5759000000000001, 0.5733999999999997, 0.5708999999999997, 0.5684000000000001, 0.5659000000000003, 0.5633999999999999, 0.5609, 0.5584, 0.5558999999999996, 0.5533999999999998, 0.5509000000000002, 0.5484000000000002, 0.5458999999999998, 0.5433999999999999, 0.5409000000000003, 0.5383999999999995, 0.5358999999999997, 0.5334000000000001, 0.5309000000000001, 0.5283999999999998, 0.5258999999999998, 0.5234000000000002, 0.5209000000000004, 0.5183999999999996, 0.5159, 0.5134000000000002, 0.5108999999999997, 0.5083999999999997, 0.5059000000000001, 0.5034000000000003, 0.5008999999999998, 0.49839999999999995, 0.49590000000000034, 0.4933999999999996, 0.4908999999999998, 0.48840000000000006, 0.4859000000000002, 0.4833999999999997, 0.4809, 0.47840000000000027, 0.47589999999999955, 0.4733999999999998, 0.4709, 0.46840000000000015, 0.46589999999999976, 0.4633999999999999, 0.4609000000000001, 0.45840000000000036, 0.45589999999999964, 0.4533999999999998, 0.4509000000000002, 0.4483999999999997, 0.44589999999999996, 0.4434000000000001, 0.4409000000000002, 0.4383999999999998, 0.43589999999999995, 0.4334000000000001, 0.4308999999999997, 0.4283999999999998, 0.42589999999999983, 0.42340000000000033, 0.4208999999999997, 0.4184000000000002, 0.41590000000000027, 0.41339999999999955, 0.41089999999999993, 0.4084, 0.40590000000000004, 0.4034, 0.4008999999999999, 0.39839999999999987, 0.39590000000000036, 0.39339999999999964, 0.3908999999999997, 0.3884000000000002, 0.3858999999999996, 0.3834000000000001, 0.3809000000000001, 0.37840000000000007, 0.3758999999999999, 0.37339999999999995, 0.3709, 0.36839999999999984, 0.3658999999999998, 0.3633999999999997, 0.36090000000000033, 0.3583999999999997, 0.3559000000000003, 0.35340000000000027, 0.35089999999999943, 0.34840000000000015, 0.3459, 0.3433999999999998, 0.3409000000000001, 0.3383999999999999, 0.33589999999999975, 0.3334000000000005, 0.33089999999999964, 0.32839999999999947, 0.3259000000000002, 0.3233999999999996, 0.3209000000000003, 0.3184000000000001, 0.31589999999999996, 0.3134, 0.31089999999999995, 0.3083999999999999, 0.30589999999999995, 0.3033999999999998, 0.3008999999999996, 0.29840000000000033, 0.2958999999999997, 0.29340000000000044, 0.29090000000000027, 0.28839999999999943, 0.28590000000000015, 0.2834, 0.2808999999999998, 0.2784000000000001, 0.2758999999999999, 0.27339999999999975, 0.2709000000000005, 0.26839999999999964, 0.26589999999999936, 0.2634000000000003, 0.2608999999999996, 0.2584000000000004, 0.2559000000000001, 0.25339999999999985, 0.2509000000000001, 0.24839999999999995, 0.24589999999999979, 0.24340000000000006, 0.24089999999999978, 0.2383999999999995, 0.23590000000000033, 0.2333999999999996, 0.23090000000000055, 0.22840000000000027, 0.22589999999999943, 0.22340000000000027, 0.22089999999999999, 0.2183999999999997, 0.2159000000000002, 0.21339999999999992, 0.21089999999999964, 0.20840000000000047, 0.20589999999999964, 0.20339999999999936, 0.2009000000000003, 0.19839999999999958, 0.19590000000000052, 0.19340000000000013, 0.19089999999999985, 0.18840000000000023, 0.18589999999999995, 0.18339999999999967, 0.18090000000000006, 0.17839999999999978, 0.1758999999999994, 0.17340000000000044, 0.1708999999999996, 0.16840000000000066, 0.16590000000000027, 0.16339999999999943, 0.16090000000000038, 0.15839999999999999, 0.1558999999999996, 0.15340000000000031, 0.15089999999999992, 0.14839999999999953, 0.14590000000000047, 0.14339999999999964, 0.14089999999999925, 0.1384000000000003, 0.13589999999999947, 0.13340000000000052, 0.13090000000000013, 0.12839999999999974, 0.12590000000000023, 0.12339999999999995, 0.12089999999999967, 0.11840000000000017, 0.11589999999999978, 0.11339999999999939, 0.11090000000000044, 0.10839999999999961, 0.10590000000000077, 0.10340000000000027, 0.10089999999999932, 0.09840000000000049, 0.09589999999999999, 0.0933999999999996, 0.09090000000000031, 0.08839999999999992, 0.08589999999999942, 0.08340000000000058, 0.08089999999999964, 0.07839999999999914, 0.0759000000000003, 0.07339999999999947, 0.07090000000000063, 0.06840000000000013, 0.06589999999999974, 0.06340000000000034, 0.060899999999999954, 0.05839999999999956, 0.05590000000000028, 0.05339999999999978, 0.05089999999999928, 0.04840000000000044, 0.04589999999999961, 0.04340000000000077, 0.04090000000000027, 0.038399999999999324, 0.03590000000000049, 0.033399999999999985, 0.030899999999999483, 0.028400000000000425, 0.025899999999999923, 0.02339999999999942, 0.01839999999999964, 0.015899999999999137, 0.010899999999999466, 0.00840000000000063, 0.0033999999999996255, 0.000900000000000345, -0.0016000000000000458], \"y\": [1.2669506875000003, 1.2669122812499998, 1.2668753125, 1.2665826562499998, 1.2662593437499998, 1.26567534375, 1.2653569375000002, 1.2644563124999997, 1.2640553125000002, 1.2637459062499998, 1.26285615625, 1.2619828125000003, 1.2616846562499995, 1.26126678125, 1.2608033124999998, 1.260086125, 1.259800375, 1.2590815625000003, 1.258813375, 1.2579790625, 1.2578258749999998, 1.2573074062499998, 1.2568300937500003, 1.256335, 1.2553609687500003, 1.2553633437499998, 1.2543590937499998, 1.2535356875, 1.25330678125, 1.2528129375000003, 1.2525550624999997, 1.2516349375, 1.2515290937499999, 1.2508524375, 1.250592875, 1.2495968750000002, 1.2490387812500001, 1.24816834375, 1.24713771875, 1.2467934375, 1.24581359375, 1.2452592812499998, 1.2448144062499997, 1.2443553125, 1.2434214687500003, 1.2421711875, 1.2419101562500003, 1.2410809062500001, 1.2405187812499998, 1.23960971875, 1.2387465312500001, 1.2379214062500004, 1.2371489687499997, 1.23650334375, 1.236173375, 1.2353961249999996, 1.2349104687499999, 1.2342845937500002, 1.23373796875, 1.23323490625, 1.23188971875, 1.23116025, 1.2303056874999998, 1.2300108124999998, 1.2293550000000002, 1.2286050000000002, 1.2281945624999997, 1.2275529375, 1.2265170625000004, 1.2257193124999997, 1.2245777500000001, 1.2240763124999998, 1.2233789375, 1.2226563437500002, 1.22138675, 1.220630625, 1.2196599687499998, 1.2190175312499998, 1.2175874375, 1.2172347187499999, 1.2161595937499998, 1.2153098125, 1.2147231875, 1.21373975, 1.2132573125000001, 1.2120793124999998, 1.211503625, 1.2105626562499998, 1.2099380937500002, 1.2096561875000005, 1.2079456250000002, 1.20797640625, 1.2073993125, 1.20637665625, 1.2046785, 1.2036069999999996, 1.2023766249999999, 1.20173121875, 1.20026596875, 1.1997355312500002, 1.1983543125, 1.1993837812500003, 1.1974094375000002, 1.196566375, 1.1963026874999998, 1.19458740625, 1.1940800624999999, 1.1940236562500002, 1.1918153749999998, 1.1920993125, 1.1899219374999999, 1.1899809062500002, 1.1890529062500002, 1.1881882500000003, 1.187681875, 1.1857012187499998, 1.1858621250000003, 1.1855138124999998, 1.18407325, 1.1815186562499997, 1.18148671875, 1.18099525, 1.17977003125, 1.1802095937500001, 1.177928125, 1.17736440625, 1.17718996875, 1.1745197187499998, 1.1752862499999996, 1.17418978125, 1.169028875, 1.1716648125000002, 1.1712435312500002, 1.1697961875, 1.1658583750000002, 1.1654481875, 1.1669682500000003, 1.16796396875, 1.1655671875, 1.1648235624999999, 1.16055828125, 1.1617869062500001, 1.1600437187500001, 1.15831, 1.1578808125, 1.1547662500000002, 1.1590706874999999, 1.1530233437500002, 1.15485490625, 1.1517813437500004, 1.1496116250000001, 1.1492336874999995, 1.150117125, 1.14505525, 1.14557696875, 1.1462257812499999, 1.1449675937500001, 1.1440795937500001, 1.14403678125, 1.14183671875, 1.13955615625, 1.1379461562500002, 1.1399651875, 1.135876875, 1.1366819999999997, 1.13615153125, 1.13304059375, 1.1352030625, 1.1324505312499995, 1.1356598125000001, 1.1286174374999998, 1.1238149687499999, 1.1261595312500003, 1.12627984375, 1.1280056875000002, 1.126495375, 1.1256270312499999, 1.1200439062499996, 1.12431221875, 1.1212878437500002, 1.1185075625, 1.1164267187499999, 1.1167352187500001, 1.1156867187500001, 1.11706478125, 1.116398625, 1.11351003125, 1.1134877187499999, 1.111851625, 1.1108563749999998, 1.1050536562500002, 1.0998173750000002, 1.10347496875, 1.1039145000000001, 1.1056691875000002, 1.10180990625, 1.1022410625, 1.0954181874999998, 1.093278375, 1.09618325, 1.09032690625, 1.0900503749999997, 1.0905115624999997, 1.0869106249999996, 1.08813925, 1.0872011875, 1.0841605312499998, 1.0838803124999998, 1.0834683437499997, 1.08568884375, 1.0799234375, 1.0747346249999998, 1.0793298125000002, 1.08019840625, 1.0764779375, 1.07773678125, 1.07334978125, 1.07444303125, 1.0726326874999998, 1.0728027187499996, 1.0657402500000002, 1.06445075, 1.0670363749999998, 1.0652572812499999, 1.0635839374999998, 1.062883, 1.063122, 1.0612866562499998, 1.06214153125, 1.059679, 1.05515653125, 1.0502100625000002, 1.0538722187500003, 1.0471240000000002, 1.0502674687500002, 1.05074303125, 1.0495580625000003, 1.0478423749999999, 1.0442081250000002, 1.04118040625, 1.0371178125000002, 1.0358141875000002, 1.0365886875, 1.037760875, 1.03695690625, 1.03365625, 1.03137434375, 1.02488809375, 1.0243339999999999, 1.0221144062500003, 1.0177448125, 1.01968665625, 1.0196490312500002, 1.0141288124999999, 1.0149263124999999, 1.0168840000000001, 1.0125469374999998, 1.0129342187500001, 1.01163424375, 1.005471596875, 1.0051918250000003, 1.003988003125, 1.0050478437500001, 1.004940921875, 1.00435844375, 1.001367090625, 0.9995892718749999, 0.999384421875, 0.9880405031250002, 0.9875376999999999, 0.9891442625, 0.98690323125, 0.987949325, 0.9827995312500001, 0.9802017874999999, 0.9801826124999999, 0.977294609375, 0.979810446875, 0.968025590625, 0.9656789218749998, 0.966406815625, 0.9617055531249998, 0.9640965218750002, 0.9573183375, 0.9586782312500001, 0.9613786343750002, 0.956343959375, 0.9458435406250001, 0.9445494718749998, 0.941698040625, 0.93699014375, 0.9426306843749999, 0.9369410781249999, 0.940867696875, 0.9259458093749999, 0.925682771875, 0.925020171875, 0.916801334375, 0.9152262499999999, 0.9106563312499997, 0.909764065625, 0.90782696875, 0.9070358875000002, 0.897890971875, 0.8997769781250001, 0.89440806875, 0.8948609375000001, 0.8901342406249998, 0.8883853999999999, 0.8736595812499999, 0.8675583374999999, 0.8642136406249997, 0.8618195718750002, 0.861668021875, 0.8552196562499997, 0.8395736281250001, 0.8337082625000001, 0.8289677062499998, 0.8206220906250001, 0.819610371875, 0.815599325, 0.793582678125, 0.787277253125, 0.7735087625000001, 0.7714612125000001, 0.759655503125, 0.7425706968749999, 0.7270711187500001, 0.7154482906249998, 0.6989799749999999, 0.685419690625, 0.6717149156249999, 0.6478157125, 0.6258607906250001, 0.608147578125, 0.5625162656250001, 0.5409590437500001, 0.5140801687499998, 0.490923540625, 0.39724802499999995, 0.35892133437500007, 0.223118325, 0.20465482812499994, 0.06759608468749999, 0.0, 0.0]}],\n",
       "                        {\"template\": {\"data\": {\"bar\": [{\"error_x\": {\"color\": \"#2a3f5f\"}, \"error_y\": {\"color\": \"#2a3f5f\"}, \"marker\": {\"line\": {\"color\": \"#E5ECF6\", \"width\": 0.5}}, \"type\": \"bar\"}], \"barpolar\": [{\"marker\": {\"line\": {\"color\": \"#E5ECF6\", \"width\": 0.5}}, \"type\": \"barpolar\"}], \"carpet\": [{\"aaxis\": {\"endlinecolor\": \"#2a3f5f\", \"gridcolor\": \"white\", \"linecolor\": \"white\", \"minorgridcolor\": \"white\", \"startlinecolor\": \"#2a3f5f\"}, \"baxis\": {\"endlinecolor\": \"#2a3f5f\", \"gridcolor\": \"white\", \"linecolor\": \"white\", \"minorgridcolor\": \"white\", \"startlinecolor\": \"#2a3f5f\"}, \"type\": \"carpet\"}], \"choropleth\": [{\"colorbar\": {\"outlinewidth\": 0, \"ticks\": \"\"}, \"type\": \"choropleth\"}], \"contour\": [{\"colorbar\": {\"outlinewidth\": 0, \"ticks\": \"\"}, \"colorscale\": [[0.0, \"#0d0887\"], [0.1111111111111111, \"#46039f\"], [0.2222222222222222, \"#7201a8\"], [0.3333333333333333, \"#9c179e\"], [0.4444444444444444, \"#bd3786\"], [0.5555555555555556, \"#d8576b\"], [0.6666666666666666, \"#ed7953\"], [0.7777777777777778, \"#fb9f3a\"], [0.8888888888888888, \"#fdca26\"], [1.0, \"#f0f921\"]], \"type\": \"contour\"}], \"contourcarpet\": [{\"colorbar\": {\"outlinewidth\": 0, \"ticks\": \"\"}, \"type\": \"contourcarpet\"}], \"heatmap\": [{\"colorbar\": {\"outlinewidth\": 0, \"ticks\": \"\"}, \"colorscale\": [[0.0, \"#0d0887\"], [0.1111111111111111, \"#46039f\"], [0.2222222222222222, \"#7201a8\"], [0.3333333333333333, \"#9c179e\"], [0.4444444444444444, \"#bd3786\"], [0.5555555555555556, \"#d8576b\"], [0.6666666666666666, \"#ed7953\"], [0.7777777777777778, \"#fb9f3a\"], [0.8888888888888888, \"#fdca26\"], [1.0, \"#f0f921\"]], \"type\": \"heatmap\"}], \"heatmapgl\": [{\"colorbar\": {\"outlinewidth\": 0, \"ticks\": \"\"}, \"colorscale\": [[0.0, \"#0d0887\"], [0.1111111111111111, \"#46039f\"], [0.2222222222222222, \"#7201a8\"], [0.3333333333333333, \"#9c179e\"], [0.4444444444444444, \"#bd3786\"], [0.5555555555555556, \"#d8576b\"], [0.6666666666666666, \"#ed7953\"], [0.7777777777777778, \"#fb9f3a\"], [0.8888888888888888, \"#fdca26\"], [1.0, \"#f0f921\"]], \"type\": \"heatmapgl\"}], \"histogram\": [{\"marker\": {\"colorbar\": {\"outlinewidth\": 0, \"ticks\": \"\"}}, \"type\": \"histogram\"}], \"histogram2d\": [{\"colorbar\": {\"outlinewidth\": 0, \"ticks\": \"\"}, \"colorscale\": [[0.0, \"#0d0887\"], [0.1111111111111111, \"#46039f\"], [0.2222222222222222, \"#7201a8\"], [0.3333333333333333, \"#9c179e\"], [0.4444444444444444, \"#bd3786\"], [0.5555555555555556, \"#d8576b\"], [0.6666666666666666, \"#ed7953\"], [0.7777777777777778, \"#fb9f3a\"], [0.8888888888888888, \"#fdca26\"], [1.0, \"#f0f921\"]], \"type\": \"histogram2d\"}], \"histogram2dcontour\": [{\"colorbar\": {\"outlinewidth\": 0, \"ticks\": \"\"}, \"colorscale\": [[0.0, \"#0d0887\"], [0.1111111111111111, \"#46039f\"], [0.2222222222222222, \"#7201a8\"], [0.3333333333333333, \"#9c179e\"], [0.4444444444444444, \"#bd3786\"], [0.5555555555555556, \"#d8576b\"], [0.6666666666666666, \"#ed7953\"], [0.7777777777777778, \"#fb9f3a\"], [0.8888888888888888, \"#fdca26\"], [1.0, \"#f0f921\"]], \"type\": \"histogram2dcontour\"}], \"mesh3d\": [{\"colorbar\": {\"outlinewidth\": 0, \"ticks\": \"\"}, \"type\": \"mesh3d\"}], \"parcoords\": [{\"line\": {\"colorbar\": {\"outlinewidth\": 0, \"ticks\": \"\"}}, \"type\": \"parcoords\"}], \"pie\": [{\"automargin\": true, \"type\": \"pie\"}], \"scatter\": [{\"marker\": {\"colorbar\": {\"outlinewidth\": 0, \"ticks\": \"\"}}, \"type\": \"scatter\"}], \"scatter3d\": [{\"line\": {\"colorbar\": {\"outlinewidth\": 0, \"ticks\": \"\"}}, \"marker\": {\"colorbar\": {\"outlinewidth\": 0, \"ticks\": \"\"}}, \"type\": \"scatter3d\"}], \"scattercarpet\": [{\"marker\": {\"colorbar\": {\"outlinewidth\": 0, \"ticks\": \"\"}}, \"type\": \"scattercarpet\"}], \"scattergeo\": [{\"marker\": {\"colorbar\": {\"outlinewidth\": 0, \"ticks\": \"\"}}, \"type\": \"scattergeo\"}], \"scattergl\": [{\"marker\": {\"colorbar\": {\"outlinewidth\": 0, \"ticks\": \"\"}}, \"type\": \"scattergl\"}], \"scattermapbox\": [{\"marker\": {\"colorbar\": {\"outlinewidth\": 0, \"ticks\": \"\"}}, \"type\": \"scattermapbox\"}], \"scatterpolar\": [{\"marker\": {\"colorbar\": {\"outlinewidth\": 0, \"ticks\": \"\"}}, \"type\": \"scatterpolar\"}], \"scatterpolargl\": [{\"marker\": {\"colorbar\": {\"outlinewidth\": 0, \"ticks\": \"\"}}, \"type\": \"scatterpolargl\"}], \"scatterternary\": [{\"marker\": {\"colorbar\": {\"outlinewidth\": 0, \"ticks\": \"\"}}, \"type\": \"scatterternary\"}], \"surface\": [{\"colorbar\": {\"outlinewidth\": 0, \"ticks\": \"\"}, \"colorscale\": [[0.0, \"#0d0887\"], [0.1111111111111111, \"#46039f\"], [0.2222222222222222, \"#7201a8\"], [0.3333333333333333, \"#9c179e\"], [0.4444444444444444, \"#bd3786\"], [0.5555555555555556, \"#d8576b\"], [0.6666666666666666, \"#ed7953\"], [0.7777777777777778, \"#fb9f3a\"], [0.8888888888888888, \"#fdca26\"], [1.0, \"#f0f921\"]], \"type\": \"surface\"}], \"table\": [{\"cells\": {\"fill\": {\"color\": \"#EBF0F8\"}, \"line\": {\"color\": \"white\"}}, \"header\": {\"fill\": {\"color\": \"#C8D4E3\"}, \"line\": {\"color\": \"white\"}}, \"type\": \"table\"}]}, \"layout\": {\"annotationdefaults\": {\"arrowcolor\": \"#2a3f5f\", \"arrowhead\": 0, \"arrowwidth\": 1}, \"coloraxis\": {\"colorbar\": {\"outlinewidth\": 0, \"ticks\": \"\"}}, \"colorscale\": {\"diverging\": [[0, \"#8e0152\"], [0.1, \"#c51b7d\"], [0.2, \"#de77ae\"], [0.3, \"#f1b6da\"], [0.4, \"#fde0ef\"], [0.5, \"#f7f7f7\"], [0.6, \"#e6f5d0\"], [0.7, \"#b8e186\"], [0.8, \"#7fbc41\"], [0.9, \"#4d9221\"], [1, \"#276419\"]], \"sequential\": [[0.0, \"#0d0887\"], [0.1111111111111111, \"#46039f\"], [0.2222222222222222, \"#7201a8\"], [0.3333333333333333, \"#9c179e\"], [0.4444444444444444, \"#bd3786\"], [0.5555555555555556, \"#d8576b\"], [0.6666666666666666, \"#ed7953\"], [0.7777777777777778, \"#fb9f3a\"], [0.8888888888888888, \"#fdca26\"], [1.0, \"#f0f921\"]], \"sequentialminus\": [[0.0, \"#0d0887\"], [0.1111111111111111, \"#46039f\"], [0.2222222222222222, \"#7201a8\"], [0.3333333333333333, \"#9c179e\"], [0.4444444444444444, \"#bd3786\"], [0.5555555555555556, \"#d8576b\"], [0.6666666666666666, \"#ed7953\"], [0.7777777777777778, \"#fb9f3a\"], [0.8888888888888888, \"#fdca26\"], [1.0, \"#f0f921\"]]}, \"colorway\": [\"#636efa\", \"#EF553B\", \"#00cc96\", \"#ab63fa\", \"#FFA15A\", \"#19d3f3\", \"#FF6692\", \"#B6E880\", \"#FF97FF\", \"#FECB52\"], \"font\": {\"color\": \"#2a3f5f\"}, \"geo\": {\"bgcolor\": \"white\", \"lakecolor\": \"white\", \"landcolor\": \"#E5ECF6\", \"showlakes\": true, \"showland\": true, \"subunitcolor\": \"white\"}, \"hoverlabel\": {\"align\": \"left\"}, \"hovermode\": \"closest\", \"mapbox\": {\"style\": \"light\"}, \"paper_bgcolor\": \"white\", \"plot_bgcolor\": \"#E5ECF6\", \"polar\": {\"angularaxis\": {\"gridcolor\": \"white\", \"linecolor\": \"white\", \"ticks\": \"\"}, \"bgcolor\": \"#E5ECF6\", \"radialaxis\": {\"gridcolor\": \"white\", \"linecolor\": \"white\", \"ticks\": \"\"}}, \"scene\": {\"xaxis\": {\"backgroundcolor\": \"#E5ECF6\", \"gridcolor\": \"white\", \"gridwidth\": 2, \"linecolor\": \"white\", \"showbackground\": true, \"ticks\": \"\", \"zerolinecolor\": \"white\"}, \"yaxis\": {\"backgroundcolor\": \"#E5ECF6\", \"gridcolor\": \"white\", \"gridwidth\": 2, \"linecolor\": \"white\", \"showbackground\": true, \"ticks\": \"\", \"zerolinecolor\": \"white\"}, \"zaxis\": {\"backgroundcolor\": \"#E5ECF6\", \"gridcolor\": \"white\", \"gridwidth\": 2, \"linecolor\": \"white\", \"showbackground\": true, \"ticks\": \"\", \"zerolinecolor\": \"white\"}}, \"shapedefaults\": {\"line\": {\"color\": \"#2a3f5f\"}}, \"ternary\": {\"aaxis\": {\"gridcolor\": \"white\", \"linecolor\": \"white\", \"ticks\": \"\"}, \"baxis\": {\"gridcolor\": \"white\", \"linecolor\": \"white\", \"ticks\": \"\"}, \"bgcolor\": \"#E5ECF6\", \"caxis\": {\"gridcolor\": \"white\", \"linecolor\": \"white\", \"ticks\": \"\"}}, \"title\": {\"x\": 0.05}, \"xaxis\": {\"automargin\": true, \"gridcolor\": \"white\", \"linecolor\": \"white\", \"ticks\": \"\", \"title\": {\"standoff\": 15}, \"zerolinecolor\": \"white\", \"zerolinewidth\": 2}, \"yaxis\": {\"automargin\": true, \"gridcolor\": \"white\", \"linecolor\": \"white\", \"ticks\": \"\", \"title\": {\"standoff\": 15}, \"zerolinecolor\": \"white\", \"zerolinewidth\": 2}}}},\n",
       "                        {\"responsive\": true}\n",
       "                    ).then(function(){\n",
       "                            \n",
       "var gd = document.getElementById('694ba32e-7f78-425d-86c2-fd16b8062af3');\n",
       "var x = new MutationObserver(function (mutations, observer) {{\n",
       "        var display = window.getComputedStyle(gd).display;\n",
       "        if (!display || display === 'none') {{\n",
       "            console.log([gd, 'removed!']);\n",
       "            Plotly.purge(gd);\n",
       "            observer.disconnect();\n",
       "        }}\n",
       "}});\n",
       "\n",
       "// Listen for the removal of the full notebook cells\n",
       "var notebookContainer = gd.closest('#notebook-container');\n",
       "if (notebookContainer) {{\n",
       "    x.observe(notebookContainer, {childList: true});\n",
       "}}\n",
       "\n",
       "// Listen for the clearing of the current output cell\n",
       "var outputEl = gd.closest('.output');\n",
       "if (outputEl) {{\n",
       "    x.observe(outputEl, {childList: true});\n",
       "}}\n",
       "\n",
       "                        })\n",
       "                };\n",
       "                });\n",
       "            </script>\n",
       "        </div>"
      ]
     },
     "metadata": {},
     "output_type": "display_data"
    }
   ],
   "source": [
    "                # z = r*cos(t)\n",
    "\n",
    "    \n",
    "\n",
    "    \n",
    "    import plotly as py\n",
    "import plotly.graph_objs as go \n",
    "import ipywidgets as wingets\n",
    "from scipy import special \n",
    "py.offline.init_notebook_mode(connected=True)\n",
    "    x= df_avg.dist_norm\n",
    "z=df_avg.z_velocity\n",
    "#y= df_avg.dist_norm # z = r*cos(t)\n",
    "fig = go.Figure()\n",
    "fig.add_trace(go.Scatter(x=x, y=z,mode='lines', name='lines'))\n",
    "fig.show()\n",
    "#data = [surface]\n",
    "\n",
    "# layout = go.Layout(\n",
    "#     title='Parametric Plot',\n",
    "#     scene=dict(\n",
    "#         xaxis=dict(\n",
    "#             gridcolor='rgb(255, 255, 255)',\n",
    "#             zerolinecolor='rgb(255, 255, 255)',\n",
    "#             showbackground=True,\n",
    "#             backgroundcolor='rgb(230, 230,230)'\n",
    "#         ),\n",
    "#         yaxis=dict(\n",
    "#             gridcolor='rgb(255, 255, 255)',\n",
    "#             zerolinecolor='rgb(255, 255, 255)',\n",
    "#             showbackground=True,\n",
    "#             backgroundcolor='rgb(230, 230,230)'\n",
    "#         ),\n",
    "#         zaxis=dict(\n",
    "#             gridcolor='rgb(255, 255, 255)',\n",
    "#             zerolinecolor='rgb(255, 255, 255)',\n",
    "#             showbackground=True,\n",
    "#             backgroundcolor='rgb(230, 230,230)'\n",
    "#         )\n",
    "#     )\n",
    "# )\n",
    "\n",
    "# fig = go.Figure(data=data, layout=layout)\n",
    "# py.offline.iplot(fig)"
   ]
  },
  {
   "cell_type": "code",
   "execution_count": null,
   "metadata": {},
   "outputs": [],
   "source": []
  },
  {
   "cell_type": "code",
   "execution_count": null,
   "metadata": {},
   "outputs": [],
   "source": []
  }
 ],
 "metadata": {
  "kernelspec": {
   "display_name": "Python 3",
   "language": "python",
   "name": "python3"
  },
  "language_info": {
   "codemirror_mode": {
    "name": "ipython",
    "version": 3
   },
   "file_extension": ".py",
   "mimetype": "text/x-python",
   "name": "python",
   "nbconvert_exporter": "python",
   "pygments_lexer": "ipython3",
   "version": "3.7.4"
  }
 },
 "nbformat": 4,
 "nbformat_minor": 2
}
